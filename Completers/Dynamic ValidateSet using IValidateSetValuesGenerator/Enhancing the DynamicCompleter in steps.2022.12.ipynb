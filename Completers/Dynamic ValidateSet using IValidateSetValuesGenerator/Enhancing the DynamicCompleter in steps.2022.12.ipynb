{
 "cells": [
  {
   "cell_type": "code",
   "execution_count": null,
   "metadata": {
    "vscode": {
     "languageId": "powershell"
    }
   },
   "outputs": [],
   "source": [
    "<#\n",
    ".SYNOPSIS\n",
    "    generates completions for 'Get-Employee'\n",
    "#>\n",
    "Class EmployeeNames : System.Management.Automation.IValidateSetValuesGenerator {\n",
    "    [string[]] GetValidValues() {\n",
    "         $json = '{ \"names\": [ \"Bob\", \"Jen\", \"Kurt\" ] }'\n",
    "         | ConvertFrom-Json\n",
    "\n",
    "         return [string[]] $Json.Names\n",
    "    }\n",
    "}\n",
    "\n",
    "function Get-Employee { \n",
    "    <#\n",
    "    .SYNOPSIS\n",
    "        Autocompletes, Coerces, and Validatess values that act like an enum with ValidateSet()\n",
    "    #>\n",
    "    Param(\n",
    "        [ValidateSet([EmployeeNames])]\n",
    "        [string]$EmployeeName\n",
    "    )   \n",
    "}"
   ]
  },
  {
   "cell_type": "markdown",
   "metadata": {},
   "source": [
    "## Docs and References:\n",
    "\n",
    "- [New TabCompletion and PSReadLine features in 7.3](https://learn.microsoft.com/en-us/powershell/scripting/learn/shell/tab-completion?view=powershell-7.3)\n",
    "    - [Custom Predictor Plugins](https://learn.microsoft.com/en-us/powershell/scripting/learn/shell/using-predictors?view=powershell-7.3)\n",
    "    - [Inline docs keybinds](https://learn.microsoft.com/en-us/powershell/scripting/learn/shell/dynamic-help?view=powershell-7.3)\n",
    "- [about_class_based_argument_completers new @ 7.2](https://learn.microsoft.com/en-us/powershell/module/microsoft.powershell.core/about/about_functions_argument_completion?view=powershell-7.3#class-based-argument-completers)\n",
    "- [about_functions_advanced_parameters 7.3](https://learn.microsoft.com/en-us/powershell/module/microsoft.powershell.core/about/about_functions_advanced_parameters?view=powershell-7.3#dynamic-validateset-values-using-classes)\n",
    "- [about_functions_argument_completion 7.3](https://learn.microsoft.com/en-us/powershell/module/microsoft.powershell.core/about/about_functions_argument_completion?view=powershell-7.3)\n",
    "- [ArgumentCompleterAttribute](https://learn.microsoft.com/en-us/powershell/module/microsoft.powershell.core/about/about_functions_argument_completion?view=powershell-7.3#argumentcompleter-attribute)\n",
    "\n",
    "additional\n",
    "- [Get-Command of TabExpansion, TabExpansion2](https://learn.microsoft.com/en-us/powershell/scripting/learn/shell/tab-completion?view=powershell-7.3)\n",
    "- [Custom Keybindings](https://learn.microsoft.com/en-us/powershell/module/psreadline/about/about_psreadline?view=powershell-7.3#custom-key-bindings)\n",
    "- [about_tab_expansion 7.3](https://learn.microsoft.com/en-us/powershell/module/microsoft.powershell.core/about/about_tab_expansion?view=powershell-7.3)\n",
    "- [`dotnet complete`](https://learn.microsoft.com/en-us/powershell/module/microsoft.powershell.core/register-argumentcompleter?view=powershell-7.3#example-3-register-a-custom-native-argument-completer)\n",
    "- about_Functions_Argument_Completion\n",
    "- [about_PSReadLine](https://learn.microsoft.com/en-us/powershell/module/psreadline/about/about_psreadline?view=powershell-7.3#completion-functions)\n",
    "    - what's new: `7.3` uses `PSReadLine 2.2.6` <https://learn.microsoft.com/en-us/powershell/module/psreadline/about/about_psreadline?view=powershell-7.3#psreadline-release-history>\n",
    "\n",
    "[IValidateSetValuesGenerator](https://learn.microsoft.com/en-us/powershell/module/microsoft.powershell.core/about/about_functions_argument_completion?view=powershell-7.3#dynamic-validateset-values-using-classes) requires Powershell 6+\n",
    "    You can find examples using Pwsh7 methods in: <>\n",
    "\n",
    "https://learn.microsoft.com/en-us/powershell/module/microsoft.powershell.core/about/about_functions_advanced_parameters?view=powershell-7.3#dynamic-validateset-values-using-classes\n",
    "\n",
    "## feature table\n",
    "ArgumentCompleterAttribute\n",
    "\n",
    "| Vers. | Name | Description | \n",
    "| - | - | - |\n",
    "| 5.1 |  [`[ArgumentCompleterAttribute]`](https://learn.microsoft.com/en-us/powershell/module/microsoft.powershell.core/about/about_functions_argument_completion?view=powershell-7.3#argumentcompleter-attribute) |  Completes like `ValidateSet()` except the user can override values (minus the validate part) |\n",
    "| 6.0 |  [`[ArgumentCompletionsAttribute]`](https://learn.microsoft.com/en-us/powershell/module/microsoft.powershell.core/about/about_functions_argument_completion?view=powershell-7.3#argumentcompletions-attribute) |  Completes like `ValidateSet()` except the user can override values (minus the validate part) |\n",
    "| 6.0 |  [`[IValidateSetValuesGenerator]`](https://learn.microsoft.com/en-us/powershell/module/microsoft.powershell.core/about/about_functions_argument_completion?view=powershell-7.3#argumentcompleter-attribute) | Derive from for generic completers / factories |\n",
    "| 7.2 |  [`[IArgumentCompleterFactory]`](https://learn.microsoft.com/en-us/powershell/module/microsoft.powershell.core/about/about_functions_argument_completion?view=powershell-7.3#class-based-argument-completers) | with a subclass of:`[ArgumentCompleterAttribute]` |\n",
    "| 5.1?|  [`Register-ArgumentCompleter`](https://learn.microsoft.com/en-us/powershell/module/microsoft.powershell.core/register-argumentcompleterview=powershell-7.3) | original |\n",
    "| 7.2 | `PredictionSource` == `HistoryAndPlugin`<br/> and user can use `CommandPrediction` | New Default Value |\n"
   ]
  },
  {
   "cell_type": "markdown",
   "metadata": {},
   "source": []
  },
  {
   "cell_type": "markdown",
   "metadata": {},
   "source": []
  },
  {
   "cell_type": "markdown",
   "metadata": {},
   "source": [
    "Examples to implement checklist\n",
    "\n",
    "- [x] minimum\n",
    "- [ ] `-Refresh|Force` forcing reloading\n",
    "- [ ] add `Tooltips` section\n",
    "    - [ ] pipescript to generate repetitative code\n",
    "- [ ] generate /w tooltips from `hashtable` or `json`, not sure which yet.\n",
    "- [ ] completer params, allows automatic using`-DisableCache = $true`\n",
    "    - which either runs the init function **always** or just when dirty/null\n",
    "- [ ] predictors [https://learn.microsoft.com/en-us/powershell/scripting/learn/shell/using-predictors?view=powershell-7.3](https://learn.microsoft.com/en-us/powershell/scripting/learn/shell/using-predictors?view=powershell-7.3)\n",
    "- [ ] GPT-3 bot that suggests via '[Custom Predictor Plugins]'\n",
    "- [ ] autocompletes **new functions** automatically, by crawling 1x a day:  '[Custom Predictor Plugins]' for [url: docs pq](https://learn.microsoft.com/en-us/powerquery-m/power-query-m-function-reference) ( Wouldn't need `#shared`)\n",
    "\n",
    "| - | - |\n",
    "| - | - |"
   ]
  },
  {
   "cell_type": "markdown",
   "metadata": {},
   "source": [
    "|"
   ]
  }
 ],
 "metadata": {
  "language_info": {
   "name": "python"
  },
  "orig_nbformat": 4
 },
 "nbformat": 4,
 "nbformat_minor": 2
}
