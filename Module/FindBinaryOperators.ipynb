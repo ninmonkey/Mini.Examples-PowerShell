{
 "cells": [
  {
   "cell_type": "code",
   "execution_count": null,
   "metadata": {
    "dotnet_interactive": {
     "language": "pwsh"
    },
    "vscode": {
     "languageId": "dotnet-interactive.pwsh"
    }
   },
   "outputs": [
    {
     "name": "stdout",
     "output_type": "stream",
     "text": [
      "Last Executed: Wednesday, August 3, 2022 4:04:27 PM\r\n",
      "Pwsh: 7.2.5\r\n",
      "Modules: ImpliedReflection = 1.0.0, ClassExplorer = 2.3.3\r\n"
     ]
    }
   ],
   "source": [
    "using namespace System.Linq.Expressions\n",
    "# this records [1] mandatory depedencies [2] Which versions were used\n",
    "# [3] pwsh version, and [4] date executed \n",
    "Get-Date | Join-String -op 'Last Executed: ' { $_.ToString('U') }\n",
    "\n",
    "$PSVersionTable | Join-String PSVersion -op 'Pwsh: '\n",
    "\n",
    "Import-Module -ea \"stop\" -passThru 'ImpliedReflection', 'ClassExplorer'\n",
    "| Join-String -op 'Modules: ' { $_.Name, $_.Version -join ' = ' } -sep ', '\n",
    "\n",
    "Enable-ImpliedReflection -YesIKnowIShouldNotDoThis"
   ]
  },
  {
   "cell_type": "code",
   "execution_count": null,
   "metadata": {
    "dotnet_interactive": {
     "language": "pwsh"
    },
    "vscode": {
     "languageId": "dotnet-interactive.pwsh"
    }
   },
   "outputs": [
    {
     "name": "stdout",
     "output_type": "stream",
     "text": [
      "if ((lhs is string) && (rhs is string))\r\n",
      "{\r\n",
      "    return StringOps.Compare(\r\n",
      "        lhs,\r\n",
      "        rhs,\r\n",
      "        Fake.Const<CultureInfo>(\"_empty<CultureInfo>\"),\r\n",
      "        CompareOptions.IgnoreCase) > 0;\r\n",
      "}\r\n"
     ]
    }
   ],
   "source": [
    "\n",
    "$binderType = Find-Type -IncludeNonPublic PSBinaryOperationBinder\n",
    "$binder = $binderType::Get(\n",
    "    [ExpressionType]::GreaterThan,\n",
    "    <# ignoreCase: #> $true,\n",
    "    <# scalarCompare: #> $false)\n",
    "\n",
    "$binderResult = $binder.Bind(\n",
    "    @('a', 'b'),\n",
    "    ([Expression]::Parameter([string], 'lhs'), [Expression]::Parameter([string], 'rhs')),\n",
    "    [Expression]::Label([object]))\n",
    "\n",
    "$binderResult | Format-ExpressionTree"
   ]
  },
  {
   "cell_type": "code",
   "execution_count": null,
   "metadata": {
    "dotnet_interactive": {
     "language": "pwsh"
    },
    "vscode": {
     "languageId": "dotnet-interactive.pwsh"
    }
   },
   "outputs": [
    {
     "name": "stdout",
     "output_type": "stream",
     "text": [
      "\r\n",
      "   Namespace: \u001b[37mSystem\u001b[0m\u001b[90m.\u001b[0m\u001b[37mManagement\u001b[0m\u001b[90m.\u001b[0m\u001b[37mAutomation\u001b[0m\u001b[90m.\u001b[0m\u001b[\r\n",
      "37mLanguage\u001b[0m\r\n",
      "\r\n",
      "\u001b[32;1mAccess            Modifiers             Name\u001b[0m\r\n",
      "\u001b[32;1m------            ---------             ----\u001b[0m\r\n",
      "\u001b[92minternal\u001b[0m\u001b[0m \u001b[92msealed class\u001b[0m\u001b[0m \r\n",
      "\r\n"
     ]
    }
   ],
   "source": [
    "$binderType | ft -auto"
   ]
  },
  {
   "cell_type": "code",
   "execution_count": null,
   "metadata": {
    "dotnet_interactive": {
     "language": "pwsh"
    },
    "vscode": {
     "languageId": "dotnet-interactive.pwsh"
    }
   },
   "outputs": [
    {
     "name": "stdout",
     "output_type": "stream",
     "text": [
      "\r\n",
      "\u001b[32;1mReturnType       : \u001b[0mSystem.Object\r\n",
      "\u001b[32;1mOperation        : \u001b[0mGreaterThan\r\n",
      "\u001b[32;1mIsStandardBinder : \u001b[0mTrue\r\n",
      "\u001b[32;1m_ignoreCase      : \u001b[0mTrue\r\n",
      "\u001b[32;1m_scalarCompare   : \u001b[0mFalse\r\n",
      "\u001b[32;1m_version         : \u001b[0m0\r\n",
      "\u001b[32;1m_compareDelegate : \u001b[0m\r\n",
      "\u001b[32;1mCache            : \u001b[0m{[System.Func`4[System.Runtime.CompilerServices.CallSite,System.Object,System.In\r\n",
      "                   \u001b[32;1m\u001b[0mt32,System.Object], System.Runtime.CompilerServices.RuleCache`1[System.Func`4[Sy\r\n",
      "                   \u001b[32;1m\u001b[0mstem.Runtime.CompilerServices.CallSite,System.Object,System.Int32,System.Object]\r\n",
      "                   \u001b[32;1m\u001b[0m]]}\r\n",
      "\r\n",
      "\r\n"
     ]
    }
   ],
   "source": [
    "$binder"
   ]
  },
  {
   "cell_type": "markdown",
   "metadata": {},
   "source": []
  },
  {
   "cell_type": "code",
   "execution_count": null,
   "metadata": {
    "dotnet_interactive": {
     "language": "pwsh"
    },
    "vscode": {
     "languageId": "dotnet-interactive.pwsh"
    }
   },
   "outputs": [
    {
     "name": "stdout",
     "output_type": "stream",
     "text": [
      "\r\n",
      "\u001b[32;1mNodeType                : \u001b[0mConditional\r\n",
      "\u001b[32;1mType                    : \u001b[0mSystem.Void\r\n",
      "\u001b[32;1mTest                    : \u001b[0m((lhs TypeEqual String) AndAlso (rhs TypeEqual String))\r\n",
      "\u001b[32;1mIfTrue                  : \u001b[0mreturn UnnamedLabel_0 (Convert((Compare(lhs, rhs, , IgnoreCase) > 0), \r\n",
      "                          \u001b[32;1m\u001b[0mObject))\r\n",
      "\u001b[32;1mIfFalse                 : \u001b[0mdefault(Void)\r\n",
      "\u001b[32;1mCanReduce               : \u001b[0mFalse\r\n",
      "\u001b[32;1m<Test>k__BackingField   : \u001b[0m((lhs TypeEqual String) AndAlso (rhs TypeEqual String))\r\n",
      "\u001b[32;1m<IfTrue>k__BackingField : \u001b[0mreturn UnnamedLabel_0 (Convert((Compare(lhs, rhs, , IgnoreCase) > 0), \r\n",
      "                          \u001b[32;1m\u001b[0mObject))\r\n",
      "\r\n",
      "\r\n"
     ]
    }
   ],
   "source": [
    "$binderResult"
   ]
  },
  {
   "cell_type": "markdown",
   "metadata": {},
   "source": [
    "#### Answer\n",
    "\n",
    "```md\n",
    "example of how you can get the exact call from a binder\n",
    "```\n",
    "\n",
    "[Source: Discord thread](https://discord.com/channels/180528040881815552/447476117629304853/1004411457691193405), and [earlier segment](https://discord.com/channels/180528040881815552/447476117629304853/1004401433484988446)\n",
    "\n",
    "I started asking if you could find the entry point for what function resolves comparing strings in Pwsh. \n",
    "#### I tried: \n",
    "```ps1\n",
    "Pwsh> ScriptBlockDisassembler\\Get-ScriptBlockDisassembly -ScriptBlock { 'a' -gt 'b' } -Minimal\n",
    "```\n",
    "```csharp\n",
    "try\n",
    "{\n",
    "    Fake.Dynamic<Action<CallSite, object, Pipe, ExecutionContext>>(PSPipeWriterBinder.Get())(\n",
    "        Fake.Dynamic<Func<CallSite, string, string, object>>(PSBinaryOperationBinder.Get(ExpressionType.GreaterThan, ignoreCase: true,scalarCompare: false))(\"a\", \"b\"),\n",
    "        funcContext._outputPipe,\n",
    "        context);\n",
    "}\n",
    "```\n"
   ]
  },
  {
   "cell_type": "code",
   "execution_count": null,
   "metadata": {
    "dotnet_interactive": {
     "language": "pwsh"
    },
    "vscode": {
     "languageId": "dotnet-interactive.pwsh"
    }
   },
   "outputs": [
    {
     "name": "stdout",
     "output_type": "stream",
     "text": [
      "ImpliedReflection\\Enable-ImpliedReflection, ClassExplorer\\Find-Type\r\n",
      "Import-Module -ea \"stop\" -passThru 'ImpliedReflection', 'ClassExplorer'\r\n"
     ]
    }
   ],
   "source": [
    "# generate metadata \n",
    "\n",
    "gcm 'Enable-ImpliedReflection', 'Find-Type'\n",
    "| Join-String { $_.Source, $_.Name -join '\\' } -sep ', '\n",
    "\n",
    "gcm 'Enable-ImpliedReflection', 'Find-Type'\n",
    "| Join-String Source -sep ', ' -single -op 'Import-Module -ea \"stop\" -passThru '"
   ]
  },
  {
   "cell_type": "code",
   "execution_count": null,
   "metadata": {
    "dotnet_interactive": {
     "language": "pwsh"
    },
    "vscode": {
     "languageId": "dotnet-interactive.pwsh"
    }
   },
   "outputs": [],
   "source": []
  }
 ],
 "metadata": {
  "kernelspec": {
   "display_name": ".NET (PowerShell)",
   "language": "PowerShell",
   "name": ".net-pwsh"
  },
  "language_info": {
   "name": "PowerShell"
  }
 },
 "nbformat": 4,
 "nbformat_minor": 2
}
