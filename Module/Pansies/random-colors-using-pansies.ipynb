{
 "cells": [
  {
   "cell_type": "code",
   "execution_count": null,
   "metadata": {
    "dotnet_interactive": {
     "language": "pwsh"
    },
    "vscode": {
     "languageId": "dotnet-interactive.pwsh"
    }
   },
   "outputs": [
    {
     "name": "stdout",
     "output_type": "stream",
     "text": [
      "\n",
      "\u001b[48;2;0;0;0m0    \u001b[49m\u001b[48;2;3;3;3m1    \u001b[49m\u001b[48;2;5;5;5m2    \u001b[49m\u001b[48;2;8;8;8m3    \u001b[49m\u001b[48;2;10;10;10m4    \u001b[49m\u001b[48;2;13;13;13m5    \u001b[49m\u001b[48;2;15;15;15m6    \u001b[49m\u001b[48;2;18;18;18m7    \u001b[49m\u001b[48;2;20;20;20m8    \u001b[49m\u001b[48;2;23;23;23m9    \u001b[49m\n",
      "\u001b[48;2;26;26;26m10   \u001b[49m\u001b[48;2;28;28;28m11   \u001b[49m\u001b[48;2;31;31;31m12   \u001b[49m\u001b[48;2;33;33;33m13   \u001b[49m\u001b[48;2;36;36;36m14   \u001b[49m\u001b[48;2;38;38;38m15   \u001b[49m\u001b[48;2;41;41;41m16   \u001b[49m\u001b[48;2;43;43;43m17   \u001b[49m\u001b[48;2;46;46;46m18   \u001b[49m\u001b[48;2;48;48;48m19   \u001b[49m\n",
      "\u001b[48;2;51;51;51m20   \u001b[49m\u001b[48;2;54;54;54m21   \u001b[49m\u001b[48;2;56;56;56m22   \u001b[49m\u001b[48;2;59;59;59m23   \u001b[49m\u001b[48;2;61;61;61m24   \u001b[49m\u001b[48;2;64;64;64m25   \u001b[49m\u001b[48;2;66;66;66m26   \u001b[49m\u001b[48;2;69;69;69m27   \u001b[49m\u001b[48;2;71;71;71m28   \u001b[49m\u001b[48;2;74;74;74m29   \u001b[49m\n",
      "\u001b[48;2;77;77;77m30   \u001b[49m\u001b[48;2;79;79;79m31   \u001b[49m\u001b[48;2;82;82;82m32   \u001b[49m\u001b[48;2;84;84;84m33   \u001b[49m\u001b[48;2;87;87;87m34   \u001b[49m\u001b[48;2;89;89;89m35   \u001b[49m\u001b[48;2;92;92;92m36   \u001b[49m\u001b[48;2;94;94;94m37   \u001b[49m\u001b[48;2;97;97;97m38   \u001b[49m\u001b[48;2;99;99;99m39   \u001b[49m\n",
      "\u001b[48;2;102;102;102m40   \u001b[49m\u001b[48;2;105;105;105m41   \u001b[49m\u001b[48;2;107;107;107m42   \u001b[49m\u001b[48;2;110;110;110m43   \u001b[49m\u001b[48;2;112;112;112m44   \u001b[49m\u001b[48;2;115;115;115m45   \u001b[49m\u001b[48;2;117;117;117m46   \u001b[49m\u001b[48;2;120;120;120m47   \u001b[49m\u001b[48;2;122;122;122m48   \u001b[49m\u001b[48;2;125;125;125m49   \u001b[49m\n",
      "\u001b[48;2;127;127;127m50   \u001b[49m\u001b[48;2;130;130;130m51   \u001b[49m\u001b[48;2;133;133;133m52   \u001b[49m\u001b[48;2;135;135;135m53   \u001b[49m\u001b[48;2;138;138;138m54   \u001b[49m\u001b[48;2;140;140;140m55   \u001b[49m\u001b[48;2;143;143;143m56   \u001b[49m\u001b[48;2;145;145;145m57   \u001b[49m\u001b[48;2;148;148;148m58   \u001b[49m\u001b[48;2;150;150;150m59   \u001b[49m\n",
      "\u001b[48;2;153;153;153m60   \u001b[49m\u001b[48;2;156;156;156m61   \u001b[49m\u001b[48;2;158;158;158m62   \u001b[49m\u001b[48;2;161;161;161m63   \u001b[49m\u001b[48;2;163;163;163m64   \u001b[49m\u001b[48;2;166;166;166m65   \u001b[49m\u001b[48;2;168;168;168m66   \u001b[49m\u001b[48;2;171;171;171m67   \u001b[49m\u001b[48;2;173;173;173m68   \u001b[49m\u001b[48;2;176;176;176m69   \u001b[49m\n",
      "\u001b[48;2;179;179;179m70   \u001b[49m\u001b[48;2;181;181;181m71   \u001b[49m\u001b[48;2;184;184;184m72   \u001b[49m\u001b[48;2;186;186;186m73   \u001b[49m\u001b[48;2;189;189;189m74   \u001b[49m\u001b[48;2;191;191;191m75   \u001b[49m\u001b[48;2;194;194;194m76   \u001b[49m\u001b[48;2;196;196;196m77   \u001b[49m\u001b[48;2;199;199;199m78   \u001b[49m\u001b[48;2;201;201;201m79   \u001b[49m\n",
      "\u001b[48;2;204;204;204m80   \u001b[49m\u001b[48;2;207;207;207m81   \u001b[49m\u001b[48;2;209;209;209m82   \u001b[49m\u001b[48;2;212;212;212m83   \u001b[49m\u001b[48;2;214;214;214m84   \u001b[49m\u001b[48;2;217;217;217m85   \u001b[49m\u001b[48;2;219;219;219m86   \u001b[49m\u001b[48;2;222;222;222m87   \u001b[49m\u001b[48;2;224;224;224m88   \u001b[49m\u001b[48;2;227;227;227m89   \u001b[49m\n",
      "\u001b[48;2;229;229;229m90   \u001b[49m\u001b[48;2;232;232;232m91   \u001b[49m\u001b[48;2;235;235;235m92   \u001b[49m\u001b[48;2;237;237;237m93   \u001b[49m\u001b[48;2;240;240;240m94   \u001b[49m\u001b[48;2;242;242;242m95   \u001b[49m\u001b[48;2;245;245;245m96   \u001b[49m\u001b[48;2;247;247;247m97   \u001b[49m\u001b[48;2;250;250;250m98   \u001b[49m\u001b[48;2;252;252;252m99   \u001b[49m\r\n"
     ]
    }
   ],
   "source": [
    "import-module pansies -ea stop\n",
    "\n",
    "$Sb = [Text.StringBuilder]::new()\n",
    "\n",
    "0..99 | ForEach-Object{\n",
    "   $grayPercent = Get-Item \"bg:\\gray${_}\"\n",
    "   $msg = '{0}' -f @( $_ )\n",
    "   $msg = $msg.PadRight(5, ' ')\n",
    "   \n",
    "   $msg = $msg | New-Text -bg $grayPercent\n",
    "   if($_ % 10 -eq 0) {\n",
    "        [void]$Sb.Append(\"`n\")\n",
    "   }\n",
    "   [void]$Sb.Append( $msg )\n",
    "   \n",
    "} # | Join-String -sep ' ~~ '\n",
    "$Sb.ToString()"
   ]
  },
  {
   "cell_type": "code",
   "execution_count": null,
   "metadata": {
    "dotnet_interactive": {
     "language": "pwsh"
    },
    "vscode": {
     "languageId": "dotnet-interactive.pwsh"
    }
   },
   "outputs": [],
   "source": [
    "$Sb = [Text.StringBuilder]::new()\n",
    "\n",
    "# hr\n",
    "$iter =0\n",
    "ls bg:\\ | Get-Random -Count 100 | ForEach-Object{\n",
    "    $msg = New-Text -bg $_ $_.X11ColorName\n",
    "    [void]$sb.Append( $msg ) \n",
    "     if(($iter++) % 10 -eq 0) {\n",
    "        [void]$Sb.Append(\"`n\")\n",
    "   }\n",
    "} \n",
    "\n",
    "\n",
    "# hr\n",
    "\n",
    "\n",
    "# $randColors = ls bg:\\ | Get-Random -Count 20\n",
    "# $iter = 0\n",
    "# $randColors | ForEach-Object{\n",
    "   \n",
    "# #    $msg = '{0}' -f @( $_ )\n",
    "# #    $msg = $msg.PadRight(5, ' ')\n",
    "   \n",
    "# #    $msg = $msg | New-Text -bg $grayPercent\n",
    "#     # $cur | \n",
    "#     $msg = New-Text -bg $cur $cur.X11ColorName\n",
    "  \n",
    "#    if(($iter++) % 10 -eq 0) {\n",
    "#         [void]$Sb.Append(\"`n\")\n",
    "#    }\n",
    "#    [void]$Sb.Append( $msg )\n",
    "   \n",
    "# } # | Join-String -sep ' ~~ '\n",
    "# $Sb.ToString()\n"
   ]
  },
  {
   "cell_type": "markdown",
   "metadata": {},
   "source": []
  },
  {
   "cell_type": "markdown",
   "metadata": {},
   "source": []
  },
  {
   "cell_type": "code",
   "execution_count": null,
   "metadata": {
    "dotnet_interactive": {
     "language": "pwsh"
    },
    "vscode": {
     "languageId": "dotnet-interactive.pwsh"
    }
   },
   "outputs": [
    {
     "name": "stdout",
     "output_type": "stream",
     "text": [
      "start: This is crazy because Write() blink-spams because of so many calls\r\n",
      "\u001b[48;2;0;0;0m0 \u001b[49m\n",
      "\u001b[48;2;3;3;3m1 \u001b[49m\u001b[48;2;5;5;5m2 \u001b[49m\u001b[48;2;8;8;8m3 \u001b[49m\u001b[48;2;10;10;10m4 \u001b[49m\u001b[48;2;13;13;13m5 \u001b[49m\u001b[48;2;15;15;15m6 \u001b[49m\u001b[48;2;18;18;18m7 \u001b[49m\u001b[48;2;20;20;20m8 \u001b[49m\u001b[48;2;23;23;23m9 \u001b[49m\u001b[48;2;26;26;26m10 \u001b[49m\n",
      "\u001b[48;2;28;28;28m11 \u001b[49m\u001b[48;2;31;31;31m12 \u001b[49m\u001b[48;2;33;33;33m13 \u001b[49m\u001b[48;2;36;36;36m14 \u001b[49m\u001b[48;2;38;38;38m15 \u001b[49m\u001b[48;2;41;41;41m16 \u001b[49m\u001b[48;2;43;43;43m17 \u001b[49m\u001b[48;2;46;46;46m18 \u001b[49m\u001b[48;2;48;48;48m19 \u001b[49m\u001b[48;2;51;51;51m20 \u001b[49m\n",
      "\u001b[48;2;54;54;54m21 \u001b[49m\u001b[48;2;56;56;56m22 \u001b[49m\u001b[48;2;59;59;59m23 \u001b[49m\u001b[48;2;61;61;61m24 \u001b[49m\u001b[48;2;64;64;64m25 \u001b[49m\u001b[48;2;66;66;66m26 \u001b[49m\u001b[48;2;69;69;69m27 \u001b[49m\u001b[48;2;71;71;71m28 \u001b[49m\u001b[48;2;74;74;74m29 \u001b[49m\u001b[48;2;77;77;77m30 \u001b[49m\n",
      "\u001b[48;2;79;79;79m31 \u001b[49m\u001b[48;2;82;82;82m32 \u001b[49m\u001b[48;2;84;84;84m33 \u001b[49m\u001b[48;2;87;87;87m34 \u001b[49m\u001b[48;2;89;89;89m35 \u001b[49m\u001b[48;2;92;92;92m36 \u001b[49m\u001b[48;2;94;94;94m37 \u001b[49m\u001b[48;2;97;97;97m38 \u001b[49m\u001b[48;2;99;99;99m39 \u001b[49m\u001b[48;2;102;102;102m40 \u001b[49m\n",
      "\u001b[48;2;105;105;105m41 \u001b[49m\u001b[48;2;107;107;107m42 \u001b[49m\u001b[48;2;110;110;110m43 \u001b[49m\u001b[48;2;112;112;112m44 \u001b[49m\u001b[48;2;115;115;115m45 \u001b[49m\u001b[48;2;117;117;117m46 \u001b[49m\u001b[48;2;120;120;120m47 \u001b[49m\u001b[48;2;122;122;122m48 \u001b[49m\u001b[48;2;125;125;125m49 \u001b[49m\u001b[48;2;127;127;127m50 \u001b[49m\n",
      "\u001b[48;2;130;130;130m51 \u001b[49m\u001b[48;2;133;133;133m52 \u001b[49m\u001b[48;2;135;135;135m53 \u001b[49m\u001b[48;2;138;138;138m54 \u001b[49m\u001b[48;2;140;140;140m55 \u001b[49m\u001b[48;2;143;143;143m56 \u001b[49m\u001b[48;2;145;145;145m57 \u001b[49m\u001b[48;2;148;148;148m58 \u001b[49m\u001b[48;2;150;150;150m59 \u001b[49m\u001b[48;2;153;153;153m60 \u001b[49m\n",
      "\u001b[48;2;156;156;156m61 \u001b[49m\u001b[48;2;158;158;158m62 \u001b[49m\u001b[48;2;161;161;161m63 \u001b[49m\u001b[48;2;163;163;163m64 \u001b[49m\u001b[48;2;166;166;166m65 \u001b[49m\u001b[48;2;168;168;168m66 \u001b[49m\u001b[48;2;171;171;171m67 \u001b[49m\u001b[48;2;173;173;173m68 \u001b[49m\u001b[48;2;176;176;176m69 \u001b[49m\u001b[48;2;179;179;179m70 \u001b[49m\n",
      "\u001b[48;2;181;181;181m71 \u001b[49m\u001b[48;2;184;184;184m72 \u001b[49m\u001b[48;2;186;186;186m73 \u001b[49m\u001b[48;2;189;189;189m74 \u001b[49m\u001b[48;2;191;191;191m75 \u001b[49m\u001b[48;2;194;194;194m76 \u001b[49m\u001b[48;2;196;196;196m77 \u001b[49m\u001b[48;2;199;199;199m78 \u001b[49m\u001b[48;2;201;201;201m79 \u001b[49m\u001b[48;2;204;204;204m80 \u001b[49m\n",
      "\u001b[48;2;207;207;207m81 \u001b[49m\u001b[48;2;209;209;209m82 \u001b[49m\u001b[48;2;212;212;212m83 \u001b[49m\u001b[48;2;214;214;214m84 \u001b[49m\u001b[48;2;217;217;217m85 \u001b[49m\u001b[48;2;219;219;219m86 \u001b[49m\u001b[48;2;222;222;222m87 \u001b[49m\u001b[48;2;224;224;224m88 \u001b[49m\u001b[48;2;227;227;227m89 \u001b[49m\u001b[48;2;229;229;229m90 \u001b[49m\n",
      "\u001b[48;2;232;232;232m91 \u001b[49m\u001b[48;2;235;235;235m92 \u001b[49m\u001b[48;2;237;237;237m93 \u001b[49m\u001b[48;2;240;240;240m94 \u001b[49m\u001b[48;2;242;242;242m95 \u001b[49m\u001b[48;2;245;245;245m96 \u001b[49m\u001b[48;2;247;247;247m97 \u001b[49m\u001b[48;2;250;250;250m98 \u001b[49m\u001b[48;2;252;252;252m99 \u001b[49m\u001b[48;2;255;255;255m100 \u001b[49m\n",
      "\u001b[48;2;67;205;128mSeaGreen3\u001b[49m\u001b[48;2;193;205;205mAzure3\u001b[49m\u001b[48;2;122;197;205mCadetBlue3\u001b[49m\u001b[48;2;33;33;33mGray13\u001b[49m\u001b[48;2;214;214;214mGray84\u001b[49m\u001b[48;2;205;16;118mDeepPink3\u001b[49m\u001b[48;2;242;242;242mGray95\u001b[49m\u001b[48;2;255;127;36mChocolate1\u001b[49m\u001b[48;2;108;166;205mSkyBlue3\u001b[49m\u001b[48;2;135;206;235mSkyBlue\u001b[49m\u001b[48;2;97;97;97mGray38\u001b[49m\u001b[48;2;219;219;219mGray86\u001b[49m\u001b[48;2;139;28;98mMaroon4\u001b[49m\u001b[48;2;122;55;139mMediumOrchid4\u001b[49m\u001b[48;2;118;238;0mChartreuse2\u001b[49m\u001b[48;2;255;130;71mSienna1\u001b[49m\u001b[48;2;54;54;54mGray21\u001b[49m\u001b[48;2;0;238;118mSpringGreen2\u001b[49m\u001b[48;2;143;188;143mDarkSeaGreen\u001b[49m\u001b[48;2;0;0;205mBlue3\u001b[49m\u001b[48;2;190;190;190mGray\u001b[49m\u001b[48;2;0;197;205mTurquoise3\u001b[49m\u001b[48;2;173;216;230mLightBlue\u001b[49m\u001b[48;2;191;191;191mGray75\u001b[49m\u001b[48;2;61;61;61mGray24\u001b[49m\u001b[48;2;139;0;139mDarkMagenta\u001b[49m\u001b[48;2;240;240;240mGray94\u001b[49m\u001b[48;2;176;224;230mPowderBlue\u001b[49m\u001b[48;2;181;181;181mGray71\u001b[49m\u001b[48;2;255;182;193mLightPink\u001b[49m\u001b[48;2;185;211;238mSlateGray2\u001b[49m\u001b[48;2;125;125;125mGray49\u001b[49m\u001b[48;2;13;13;13mGray5\u001b[49m\u001b[48;2;238;118;0mDarkOrange2\u001b[49m\u001b[48;2;238;106;80mCoral2\u001b[49m\u001b[48;2;115;115;115mGray45\u001b[49m\u001b[48;2;156;156;156mGray61\u001b[49m\u001b[48;2;194;194;194mGray76\u001b[49m\u001b[48;2;205;183;181mMistyRose3\u001b[49m\u001b[48;2;158;158;158mGray62\u001b[49m\u001b[48;2;0;255;255mCyan\u001b[49m\u001b[48;2;205;181;205mThistle3\u001b[49m\u001b[48;2;46;139;87mSeaGreen\u001b[49m\u001b[48;2;139;90;43mTan4\u001b[49m\u001b[48;2;99;99;99mGray39\u001b[49m\u001b[48;2;131;111;255mSlateBlue1\u001b[49m\u001b[48;2;171;171;171mGray67\u001b[49m\u001b[48;2;139;136;120mCornsilk4\u001b[49m\u001b[48;2;205;112;84mSalmon3\u001b[49m\u001b[48;2;205;175;149mPeachPuff3\u001b[49m\u001b[48;2;188;210;238mLightSteelBlue2\u001b[49m\u001b[48;2;0;139;0mGreen4\u001b[49m\u001b[48;2;147;112;219mMediumPurple\u001b[49m\u001b[48;2;218;112;214mOrchid\u001b[49m\u001b[48;2;127;127;127mGray50\u001b[49m\u001b[48;2;139;126;102mWheat4\u001b[49m\u001b[48;2;238;230;133mKhaki2\u001b[49m\u001b[48;2;71;71;71mGray28\u001b[49m\u001b[48;2;135;206;255mSkyBlue1\u001b[49m\u001b[48;2;143;143;143mGray56\u001b[49m\u001b[48;2;10;10;10mGray4\u001b[49m\u001b[48;2;124;205;124mPaleGreen3\u001b[49m\u001b[48;2;233;150;122mDarkSalmon\u001b[49m\u001b[48;2;238;0;0mRed2\u001b[49m\u001b[48;2;0;245;255mTurquoise1\u001b[49m\u001b[48;2;238;224;229mLavenderBlush2\u001b[49m\u001b[48;2;47;79;79mDarkSlateGray\u001b[49m\u001b[48;2;250;250;250mGray98\u001b[49m\u001b[48;2;255;222;173mNavajoWhite\u001b[49m\u001b[48;2;180;82;205mMediumOrchid3\u001b[49m\u001b[48;2;163;163;163mGray64\u001b[49m\u001b[48;2;190;190;190mGray\u001b[49m\u001b[48;2;38;38;38mGray15\u001b[49m\u001b[48;2;222;184;135mBurlywood\u001b[49m\u001b[48;2;99;99;99mGray39\u001b[49m\u001b[48;2;255;228;196mBisque\u001b[49m\u001b[48;2;255;52;179mMaroon1\u001b[49m\u001b[48;2;252;252;252mGray99\u001b[49m\u001b[48;2;138;43;226mBlueViolet\u001b[49m\u001b[48;2;171;171;171mGray67\u001b[49m\u001b[48;2;255;215;0mGold\u001b[49m\u001b[48;2;84;84;84mGray33\u001b[49m\u001b[48;2;245;255;250mMintCream\u001b[49m\u001b[48;2;255;255;0mYellow\u001b[49m\u001b[48;2;139;139;122mLightYellow4\u001b[49m\u001b[48;2;95;158;160mCadetBlue\u001b[49m\u001b[48;2;105;105;105mDimGray\u001b[49m\u001b[48;2;201;201;201mGray79\u001b[49m\u001b[48;2;194;194;194mGray76\u001b[49m\u001b[48;2;143;143;143mGray56\u001b[49m\u001b[48;2;47;79;79mDarkSlateGray\u001b[49m\u001b[48;2;139;62;47mCoral4\u001b[49m\u001b[48;2;255;174;185mLightPink1\u001b[49m\u001b[48;2;141;182;205mLightSkyBlue3\u001b[49m\u001b[48;2;139;26;26mFirebrick4\u001b[49m\u001b[48;2;139;131;134mLavenderBlush4\u001b[49m\u001b[48;2;255;250;240mFloralWhite\u001b[49m\u001b[48;2;0;0;128mNavy\u001b[49m\u001b[48;2;255;245;238mSeashell\u001b[49m\u001b[48;2;13;13;13mGray5\u001b[49mend\r\n"
     ]
    }
   ],
   "source": [
    "Import-Module Pansies #-ea stop\n",
    "'start: This is crazy because Write() blink-spams because of so many calls'\n",
    "@(\n",
    "0..100 | ForEach-Object{\n",
    "   $grayPercent = Get-Item \"bg:\\gray${_}\"\n",
    "   $msg = \"$_ \" | New-Text -bg $grayPercent\n",
    "   [Console]::Write( $msg )\n",
    "   if($_ % 10 -eq 0) {\n",
    "        [console]::write(\"`n\")\n",
    "   }\n",
    "   \n",
    "}\n",
    "ls bg:\\ | Get-Random -Count 100 | ForEach-Object{\n",
    "    [console]::Write( (New-Text -bg $_ $_.X11ColorName) )\n",
    "} \n",
    ") | select -first 1000\n",
    "'end'"
   ]
  },
  {
   "cell_type": "code",
   "execution_count": null,
   "metadata": {
    "dotnet_interactive": {
     "language": "pwsh"
    },
    "vscode": {
     "languageId": "dotnet-interactive.pwsh"
    }
   },
   "outputs": [
    {
     "name": "stdout",
     "output_type": "stream",
     "text": [
      "\u001b[48;2;0;0;0m0 \u001b[49m\n",
      "\u001b[48;2;3;3;3m1 \u001b[49m\u001b[48;2;5;5;5m2 \u001b[49m\u001b[48;2;8;8;8m3 \u001b[49m\u001b[48;2;10;10;10m4 \u001b[49m\u001b[48;2;13;13;13m5 \u001b[49m\u001b[48;2;15;15;15m6 \u001b[49m\u001b[48;2;18;18;18m7 \u001b[49m\u001b[48;2;20;20;20m8 \u001b[49m\u001b[48;2;23;23;23m9 \u001b[49m\u001b[48;2;26;26;26m10 \u001b[49m\n",
      "\u001b[48;2;28;28;28m11 \u001b[49m\u001b[48;2;31;31;31m12 \u001b[49m\u001b[48;2;33;33;33m13 \u001b[49m\u001b[48;2;36;36;36m14 \u001b[49m\u001b[48;2;38;38;38m15 \u001b[49m\u001b[48;2;41;41;41m16 \u001b[49m\u001b[48;2;43;43;43m17 \u001b[49m\u001b[48;2;46;46;46m18 \u001b[49m\u001b[48;2;48;48;48m19 \u001b[49m\u001b[48;2;51;51;51m20 \u001b[49m\n",
      "\u001b[48;2;54;54;54m21 \u001b[49m\u001b[48;2;56;56;56m22 \u001b[49m\u001b[48;2;59;59;59m23 \u001b[49m\u001b[48;2;61;61;61m24 \u001b[49m\u001b[48;2;64;64;64m25 \u001b[49m\u001b[48;2;66;66;66m26 \u001b[49m\u001b[48;2;69;69;69m27 \u001b[49m\u001b[48;2;71;71;71m28 \u001b[49m\u001b[48;2;74;74;74m29 \u001b[49m\u001b[48;2;77;77;77m30 \u001b[49m\n",
      "\u001b[48;2;79;79;79m31 \u001b[49m\u001b[48;2;82;82;82m32 \u001b[49m\u001b[48;2;84;84;84m33 \u001b[49m\u001b[48;2;87;87;87m34 \u001b[49m\u001b[48;2;89;89;89m35 \u001b[49m\u001b[48;2;92;92;92m36 \u001b[49m\u001b[48;2;94;94;94m37 \u001b[49m\u001b[48;2;97;97;97m38 \u001b[49m\u001b[48;2;99;99;99m39 \u001b[49m\u001b[48;2;102;102;102m40 \u001b[49m\n",
      "\u001b[48;2;105;105;105m41 \u001b[49m\u001b[48;2;107;107;107m42 \u001b[49m\u001b[48;2;110;110;110m43 \u001b[49m\u001b[48;2;112;112;112m44 \u001b[49m\u001b[48;2;115;115;115m45 \u001b[49m\u001b[48;2;117;117;117m46 \u001b[49m\u001b[48;2;120;120;120m47 \u001b[49m\u001b[48;2;122;122;122m48 \u001b[49m\u001b[48;2;125;125;125m49 \u001b[49m\u001b[48;2;127;127;127m50 \u001b[49m\n",
      "\u001b[48;2;130;130;130m51 \u001b[49m\u001b[48;2;133;133;133m52 \u001b[49m\u001b[48;2;135;135;135m53 \u001b[49m\u001b[48;2;138;138;138m54 \u001b[49m\u001b[48;2;140;140;140m55 \u001b[49m\u001b[48;2;143;143;143m56 \u001b[49m\u001b[48;2;145;145;145m57 \u001b[49m\u001b[48;2;148;148;148m58 \u001b[49m\u001b[48;2;150;150;150m59 \u001b[49m\u001b[48;2;153;153;153m60 \u001b[49m\n",
      "\u001b[48;2;156;156;156m61 \u001b[49m\u001b[48;2;158;158;158m62 \u001b[49m\u001b[48;2;161;161;161m63 \u001b[49m\u001b[48;2;163;163;163m64 \u001b[49m\u001b[48;2;166;166;166m65 \u001b[49m\u001b[48;2;168;168;168m66 \u001b[49m\u001b[48;2;171;171;171m67 \u001b[49m\u001b[48;2;173;173;173m68 \u001b[49m\u001b[48;2;176;176;176m69 \u001b[49m\u001b[48;2;179;179;179m70 \u001b[49m\n",
      "\u001b[48;2;181;181;181m71 \u001b[49m\u001b[48;2;184;184;184m72 \u001b[49m\u001b[48;2;186;186;186m73 \u001b[49m\u001b[48;2;189;189;189m74 \u001b[49m\u001b[48;2;191;191;191m75 \u001b[49m\u001b[48;2;194;194;194m76 \u001b[49m\u001b[48;2;196;196;196m77 \u001b[49m\u001b[48;2;199;199;199m78 \u001b[49m\u001b[48;2;201;201;201m79 \u001b[49m\u001b[48;2;204;204;204m80 \u001b[49m\n",
      "\u001b[48;2;207;207;207m81 \u001b[49m\u001b[48;2;209;209;209m82 \u001b[49m\u001b[48;2;212;212;212m83 \u001b[49m\u001b[48;2;214;214;214m84 \u001b[49m\u001b[48;2;217;217;217m85 \u001b[49m\u001b[48;2;219;219;219m86 \u001b[49m\u001b[48;2;222;222;222m87 \u001b[49m\u001b[48;2;224;224;224m88 \u001b[49m\u001b[48;2;227;227;227m89 \u001b[49m\u001b[48;2;229;229;229m90 \u001b[49m\n",
      "\u001b[48;2;232;232;232m91 \u001b[49m\u001b[48;2;235;235;235m92 \u001b[49m\u001b[48;2;237;237;237m93 \u001b[49m\u001b[48;2;240;240;240m94 \u001b[49m\u001b[48;2;242;242;242m95 \u001b[49m\u001b[48;2;245;245;245m96 \u001b[49m\u001b[48;2;247;247;247m97 \u001b[49m\u001b[48;2;250;250;250m98 \u001b[49m\u001b[48;2;252;252;252m99 \u001b[49m\u001b[48;2;255;255;255m100 \u001b[49m\n",
      "\r\n"
     ]
    }
   ],
   "source": [
    "$Sb = [Text.StringBuilder]::new()\n",
    "\n",
    "0..100 | ForEach-Object{\n",
    "   $grayPercent = Get-Item \"bg:\\gray${_}\"\n",
    "   $msg = \"$_ \" | New-Text -bg $grayPercent\n",
    "   [void]$Sb.Append( $msg )\n",
    "   if($_ % 10 -eq 0) {\n",
    "        [void]$Sb.Append(\"`n\")\n",
    "   }\n",
    "   \n",
    "}\n",
    "$Sb.ToString()"
   ]
  },
  {
   "cell_type": "code",
   "execution_count": null,
   "metadata": {
    "dotnet_interactive": {
     "language": "pwsh"
    },
    "vscode": {
     "languageId": "dotnet-interactive.pwsh"
    }
   },
   "outputs": [
    {
     "name": "stdout",
     "output_type": "stream",
     "text": [
      "test\r\n"
     ]
    }
   ],
   "source": [
    "'test'"
   ]
  },
  {
   "cell_type": "code",
   "execution_count": null,
   "metadata": {
    "dotnet_interactive": {
     "language": "mermaid"
    },
    "vscode": {
     "languageId": "dotnet-interactive.mermaid"
    }
   },
   "outputs": [
    {
     "data": {
      "text/html": [
       "<div class=\"mermaidMarkdownContainer\" style=\"background-color:white\">\r\n",
       "<script type=\"text/javascript\">\r\n",
       "\r\n",
       "loadMermaid_c328c3423a1847e1968ef63a120b02c5 = () => {\r\n",
       " \r\n",
       "        (require.config({ 'paths': { 'context': '9.1.1', 'mermaidUri' : 'https://cdn.jsdelivr.net/npm/mermaid@9.1.1/dist/mermaid.min', 'urlArgs': 'cacheBuster=0475896343e145b2b471ac584d158fb4' }}) || require)(['mermaidUri'], (mermaid) => {\r\n",
       "\r\n",
       "            let renderTarget = document.getElementById('c328c3423a1847e1968ef63a120b02c5');\r\n",
       "            mermaid.mermaidAPI.render( \r\n",
       "                'mermaid_c328c3423a1847e1968ef63a120b02c5', \r\n",
       "                `A = B\n",
       "B = C\n",
       "E = B`, \r\n",
       "                g => {\r\n",
       "                    renderTarget.innerHTML = g \r\n",
       "                });\r\n",
       "        },\r\n",
       "        (error) => {\r\n",
       "            console.log(error);\r\n",
       "        });\r\n",
       "}\r\n",
       "// ensure `require` is available globally\r\n",
       "if ((typeof(require) !==  typeof(Function)) || (typeof(require.config) !== typeof(Function))) {\r\n",
       "    let require_script = document.createElement('script');\r\n",
       "    require_script.setAttribute('src', 'https://cdnjs.cloudflare.com/ajax/libs/require.js/2.3.6/require.min.js');\r\n",
       "    require_script.setAttribute('type', 'text/javascript');\r\n",
       "    \r\n",
       "    \r\n",
       "    require_script.onload = function() {\r\n",
       "        loadMermaid_c328c3423a1847e1968ef63a120b02c5();\r\n",
       "    };\r\n",
       "\r\n",
       "    document.getElementsByTagName('head')[0].appendChild(require_script);\r\n",
       "}\r\n",
       "else {\r\n",
       "    loadMermaid_c328c3423a1847e1968ef63a120b02c5();\r\n",
       "}\r\n",
       "\r\n",
       "</script>\r\n",
       "<div id=\"c328c3423a1847e1968ef63a120b02c5\"></div>\r\n",
       "</div>\r\n"
      ]
     },
     "metadata": {},
     "output_type": "display_data"
    }
   ],
   "source": [
    "A = B\n",
    "B = C\n",
    "E = B"
   ]
  },
  {
   "cell_type": "markdown",
   "metadata": {},
   "source": [
    "note: These may render differently because of notebook hosts\n",
    "try in a regular terminal"
   ]
  }
 ],
 "metadata": {
  "kernelspec": {
   "display_name": ".NET (C#)",
   "language": "C#",
   "name": ".net-csharp"
  },
  "language_info": {
   "file_extension": ".cs",
   "mimetype": "text/x-csharp",
   "name": "C#",
   "pygments_lexer": "csharp",
   "version": "9.0"
  },
  "vscode": {
   "interpreter": {
    "hash": "74c392d937995c80c000e965374d78af3f189f264a4219fb3bb9b9db8f0c4454"
   }
  }
 },
 "nbformat": 4,
 "nbformat_minor": 2
}
