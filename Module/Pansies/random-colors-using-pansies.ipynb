{
 "cells": [
  {
   "cell_type": "code",
   "execution_count": null,
   "metadata": {
    "dotnet_interactive": {
     "language": "pwsh"
    },
    "vscode": {
     "languageId": "dotnet-interactive.pwsh"
    }
   },
   "outputs": [
    {
     "name": "stdout",
     "output_type": "stream",
     "text": [
      "\r\n",
      "\u001b[32;1mModuleType Version    PreRelease Name                                ExportedCommands\u001b[0m\r\n",
      "\u001b[32;1m---------- -------    ---------- ----                                ----------------\u001b[0m\r\n",
      "Script     2.4.0                 Pansies                             {Get-ColorWheel, Get-Compleme…\r\n",
      "\r\n"
     ]
    }
   ],
   "source": [
    "import-module pansies -ea stop -PassThru\n",
    "# helper functions\n",
    "function Csv { $Input | Microsoft.PowerShell.Utility\\Join-String -sep ', ' }\n",
    "function UL { $Input | Microsoft.PowerShell.Utility\\Join-String -op \"`n- \" -sep \"`n- \" }"
   ]
  },
  {
   "cell_type": "code",
   "execution_count": null,
   "metadata": {
    "dotnet_interactive": {
     "language": "pwsh"
    },
    "vscode": {
     "languageId": "dotnet-interactive.pwsh"
    }
   },
   "outputs": [
    {
     "name": "stdout",
     "output_type": "stream",
     "text": [
      "\n",
      "\u001b[48;2;0;0;0m0    \u001b[49m\u001b[48;2;3;3;3m1    \u001b[49m\u001b[48;2;5;5;5m2    \u001b[49m\u001b[48;2;8;8;8m3    \u001b[49m\u001b[48;2;10;10;10m4    \u001b[49m\u001b[48;2;13;13;13m5    \u001b[49m\u001b[48;2;15;15;15m6    \u001b[49m\u001b[48;2;18;18;18m7    \u001b[49m\u001b[48;2;20;20;20m8    \u001b[49m\u001b[48;2;23;23;23m9    \u001b[49m\n",
      "\u001b[48;2;26;26;26m10   \u001b[49m\u001b[48;2;28;28;28m11   \u001b[49m\u001b[48;2;31;31;31m12   \u001b[49m\u001b[48;2;33;33;33m13   \u001b[49m\u001b[48;2;36;36;36m14   \u001b[49m\u001b[48;2;38;38;38m15   \u001b[49m\u001b[48;2;41;41;41m16   \u001b[49m\u001b[48;2;43;43;43m17   \u001b[49m\u001b[48;2;46;46;46m18   \u001b[49m\u001b[48;2;48;48;48m19   \u001b[49m\n",
      "\u001b[48;2;51;51;51m20   \u001b[49m\u001b[48;2;54;54;54m21   \u001b[49m\u001b[48;2;56;56;56m22   \u001b[49m\u001b[48;2;59;59;59m23   \u001b[49m\u001b[48;2;61;61;61m24   \u001b[49m\u001b[48;2;64;64;64m25   \u001b[49m\u001b[48;2;66;66;66m26   \u001b[49m\u001b[48;2;69;69;69m27   \u001b[49m\u001b[48;2;71;71;71m28   \u001b[49m\u001b[48;2;74;74;74m29   \u001b[49m\n",
      "\u001b[48;2;77;77;77m30   \u001b[49m\u001b[48;2;79;79;79m31   \u001b[49m\u001b[48;2;82;82;82m32   \u001b[49m\u001b[48;2;84;84;84m33   \u001b[49m\u001b[48;2;87;87;87m34   \u001b[49m\u001b[48;2;89;89;89m35   \u001b[49m\u001b[48;2;92;92;92m36   \u001b[49m\u001b[48;2;94;94;94m37   \u001b[49m\u001b[48;2;97;97;97m38   \u001b[49m\u001b[48;2;99;99;99m39   \u001b[49m\n",
      "\u001b[48;2;102;102;102m40   \u001b[49m\u001b[48;2;105;105;105m41   \u001b[49m\u001b[48;2;107;107;107m42   \u001b[49m\u001b[48;2;110;110;110m43   \u001b[49m\u001b[48;2;112;112;112m44   \u001b[49m\u001b[48;2;115;115;115m45   \u001b[49m\u001b[48;2;117;117;117m46   \u001b[49m\u001b[48;2;120;120;120m47   \u001b[49m\u001b[48;2;122;122;122m48   \u001b[49m\u001b[48;2;125;125;125m49   \u001b[49m\n",
      "\u001b[48;2;127;127;127m50   \u001b[49m\u001b[48;2;130;130;130m51   \u001b[49m\u001b[48;2;133;133;133m52   \u001b[49m\u001b[48;2;135;135;135m53   \u001b[49m\u001b[48;2;138;138;138m54   \u001b[49m\u001b[48;2;140;140;140m55   \u001b[49m\u001b[48;2;143;143;143m56   \u001b[49m\u001b[48;2;145;145;145m57   \u001b[49m\u001b[48;2;148;148;148m58   \u001b[49m\u001b[48;2;150;150;150m59   \u001b[49m\n",
      "\u001b[48;2;153;153;153m60   \u001b[49m\u001b[48;2;156;156;156m61   \u001b[49m\u001b[48;2;158;158;158m62   \u001b[49m\u001b[48;2;161;161;161m63   \u001b[49m\u001b[48;2;163;163;163m64   \u001b[49m\u001b[48;2;166;166;166m65   \u001b[49m\u001b[48;2;168;168;168m66   \u001b[49m\u001b[48;2;171;171;171m67   \u001b[49m\u001b[48;2;173;173;173m68   \u001b[49m\u001b[48;2;176;176;176m69   \u001b[49m\n",
      "\u001b[48;2;179;179;179m70   \u001b[49m\u001b[48;2;181;181;181m71   \u001b[49m\u001b[48;2;184;184;184m72   \u001b[49m\u001b[48;2;186;186;186m73   \u001b[49m\u001b[48;2;189;189;189m74   \u001b[49m\u001b[48;2;191;191;191m75   \u001b[49m\u001b[48;2;194;194;194m76   \u001b[49m\u001b[48;2;196;196;196m77   \u001b[49m\u001b[48;2;199;199;199m78   \u001b[49m\u001b[48;2;201;201;201m79   \u001b[49m\n",
      "\u001b[48;2;204;204;204m80   \u001b[49m\u001b[48;2;207;207;207m81   \u001b[49m\u001b[48;2;209;209;209m82   \u001b[49m\u001b[48;2;212;212;212m83   \u001b[49m\u001b[48;2;214;214;214m84   \u001b[49m\u001b[48;2;217;217;217m85   \u001b[49m\u001b[48;2;219;219;219m86   \u001b[49m\u001b[48;2;222;222;222m87   \u001b[49m\u001b[48;2;224;224;224m88   \u001b[49m\u001b[48;2;227;227;227m89   \u001b[49m\n",
      "\u001b[48;2;229;229;229m90   \u001b[49m\u001b[48;2;232;232;232m91   \u001b[49m\u001b[48;2;235;235;235m92   \u001b[49m\u001b[48;2;237;237;237m93   \u001b[49m\u001b[48;2;240;240;240m94   \u001b[49m\u001b[48;2;242;242;242m95   \u001b[49m\u001b[48;2;245;245;245m96   \u001b[49m\u001b[48;2;247;247;247m97   \u001b[49m\u001b[48;2;250;250;250m98   \u001b[49m\u001b[48;2;252;252;252m99   \u001b[49m\r\n"
     ]
    }
   ],
   "source": [
    "$Sb = [Text.StringBuilder]::new()\n",
    "\n",
    "0..99 | ForEach-Object{\n",
    "   $grayPercent = Get-Item \"bg:\\gray${_}\"\n",
    "   $msg = '{0}' -f @( $_ )\n",
    "   $msg = $msg.PadRight(5, ' ')\n",
    "   \n",
    "   $msg = $msg | New-Text -bg $grayPercent\n",
    "   if($_ % 10 -eq 0) {\n",
    "        [void]$Sb.Append(\"`n\")\n",
    "   }\n",
    "   [void]$Sb.Append( $msg )\n",
    "   \n",
    "} # | Join-String -sep ' ~~ '\n",
    "$Sb.ToString()"
   ]
  },
  {
   "cell_type": "code",
   "execution_count": null,
   "metadata": {
    "dotnet_interactive": {
     "language": "pwsh"
    },
    "vscode": {
     "languageId": "dotnet-interactive.pwsh"
    }
   },
   "outputs": [],
   "source": [
    "$Sb = [Text.StringBuilder]::new()\n",
    "\n",
    "# hr\n",
    "$iter =0\n",
    "ls bg:\\ | Get-Random -Count 100 | ForEach-Object{\n",
    "    $msg = New-Text -bg $_ $_.X11ColorName\n",
    "    [void]$sb.Append( $msg ) \n",
    "     if(($iter++) % 10 -eq 0) {\n",
    "        [void]$Sb.Append(\"`n\")\n",
    "   }\n",
    "} \n",
    "\n",
    "\n",
    "# hr\n",
    "\n",
    "\n",
    "# $randColors = ls bg:\\ | Get-Random -Count 20\n",
    "# $iter = 0\n",
    "# $randColors | ForEach-Object{\n",
    "   \n",
    "# #    $msg = '{0}' -f @( $_ )\n",
    "# #    $msg = $msg.PadRight(5, ' ')\n",
    "   \n",
    "# #    $msg = $msg | New-Text -bg $grayPercent\n",
    "#     # $cur | \n",
    "#     $msg = New-Text -bg $cur $cur.X11ColorName\n",
    "  \n",
    "#    if(($iter++) % 10 -eq 0) {\n",
    "#         [void]$Sb.Append(\"`n\")\n",
    "#    }\n",
    "#    [void]$Sb.Append( $msg )\n",
    "   \n",
    "# } # | Join-String -sep ' ~~ '\n",
    "# $Sb.ToString()\n"
   ]
  },
  {
   "cell_type": "markdown",
   "metadata": {},
   "source": []
  },
  {
   "cell_type": "markdown",
   "metadata": {},
   "source": []
  },
  {
   "cell_type": "code",
   "execution_count": null,
   "metadata": {
    "dotnet_interactive": {
     "language": "pwsh"
    },
    "vscode": {
     "languageId": "dotnet-interactive.pwsh"
    }
   },
   "outputs": [
    {
     "name": "stdout",
     "output_type": "stream",
     "text": [
      "start: This is crazy because Write() blink-spams because of so many calls\r\n",
      "\u001b[48;2;0;0;0m0 \u001b[49m\n",
      "\u001b[48;2;3;3;3m1 \u001b[49m\u001b[48;2;5;5;5m2 \u001b[49m\u001b[48;2;8;8;8m3 \u001b[49m\u001b[48;2;10;10;10m4 \u001b[49m\u001b[48;2;13;13;13m5 \u001b[49m\u001b[48;2;15;15;15m6 \u001b[49m\u001b[48;2;18;18;18m7 \u001b[49m\u001b[48;2;20;20;20m8 \u001b[49m\u001b[48;2;23;23;23m9 \u001b[49m\u001b[48;2;26;26;26m10 \u001b[49m\n",
      "\u001b[48;2;28;28;28m11 \u001b[49m\u001b[48;2;31;31;31m12 \u001b[49m\u001b[48;2;33;33;33m13 \u001b[49m\u001b[48;2;36;36;36m14 \u001b[49m\u001b[48;2;38;38;38m15 \u001b[49m\u001b[48;2;41;41;41m16 \u001b[49m\u001b[48;2;43;43;43m17 \u001b[49m\u001b[48;2;46;46;46m18 \u001b[49m\u001b[48;2;48;48;48m19 \u001b[49m\u001b[48;2;51;51;51m20 \u001b[49m\n",
      "\u001b[48;2;54;54;54m21 \u001b[49m\u001b[48;2;56;56;56m22 \u001b[49m\u001b[48;2;59;59;59m23 \u001b[49m\u001b[48;2;61;61;61m24 \u001b[49m\u001b[48;2;64;64;64m25 \u001b[49m\u001b[48;2;66;66;66m26 \u001b[49m\u001b[48;2;69;69;69m27 \u001b[49m\u001b[48;2;71;71;71m28 \u001b[49m\u001b[48;2;74;74;74m29 \u001b[49m\u001b[48;2;77;77;77m30 \u001b[49m\n",
      "\u001b[48;2;79;79;79m31 \u001b[49m\u001b[48;2;82;82;82m32 \u001b[49m\u001b[48;2;84;84;84m33 \u001b[49m\u001b[48;2;87;87;87m34 \u001b[49m\u001b[48;2;89;89;89m35 \u001b[49m\u001b[48;2;92;92;92m36 \u001b[49m\u001b[48;2;94;94;94m37 \u001b[49m\u001b[48;2;97;97;97m38 \u001b[49m\u001b[48;2;99;99;99m39 \u001b[49m\u001b[48;2;102;102;102m40 \u001b[49m\n",
      "\u001b[48;2;105;105;105m41 \u001b[49m\u001b[48;2;107;107;107m42 \u001b[49m\u001b[48;2;110;110;110m43 \u001b[49m\u001b[48;2;112;112;112m44 \u001b[49m\u001b[48;2;115;115;115m45 \u001b[49m\u001b[48;2;117;117;117m46 \u001b[49m\u001b[48;2;120;120;120m47 \u001b[49m\u001b[48;2;122;122;122m48 \u001b[49m\u001b[48;2;125;125;125m49 \u001b[49m\u001b[48;2;127;127;127m50 \u001b[49m\n",
      "\u001b[48;2;130;130;130m51 \u001b[49m\u001b[48;2;133;133;133m52 \u001b[49m\u001b[48;2;135;135;135m53 \u001b[49m\u001b[48;2;138;138;138m54 \u001b[49m\u001b[48;2;140;140;140m55 \u001b[49m\u001b[48;2;143;143;143m56 \u001b[49m\u001b[48;2;145;145;145m57 \u001b[49m\u001b[48;2;148;148;148m58 \u001b[49m\u001b[48;2;150;150;150m59 \u001b[49m\u001b[48;2;153;153;153m60 \u001b[49m\n",
      "\u001b[48;2;156;156;156m61 \u001b[49m\u001b[48;2;158;158;158m62 \u001b[49m\u001b[48;2;161;161;161m63 \u001b[49m\u001b[48;2;163;163;163m64 \u001b[49m\u001b[48;2;166;166;166m65 \u001b[49m\u001b[48;2;168;168;168m66 \u001b[49m\u001b[48;2;171;171;171m67 \u001b[49m\u001b[48;2;173;173;173m68 \u001b[49m\u001b[48;2;176;176;176m69 \u001b[49m\u001b[48;2;179;179;179m70 \u001b[49m\n",
      "\u001b[48;2;181;181;181m71 \u001b[49m\u001b[48;2;184;184;184m72 \u001b[49m\u001b[48;2;186;186;186m73 \u001b[49m\u001b[48;2;189;189;189m74 \u001b[49m\u001b[48;2;191;191;191m75 \u001b[49m\u001b[48;2;194;194;194m76 \u001b[49m\u001b[48;2;196;196;196m77 \u001b[49m\u001b[48;2;199;199;199m78 \u001b[49m\u001b[48;2;201;201;201m79 \u001b[49m\u001b[48;2;204;204;204m80 \u001b[49m\n",
      "\u001b[48;2;207;207;207m81 \u001b[49m\u001b[48;2;209;209;209m82 \u001b[49m\u001b[48;2;212;212;212m83 \u001b[49m\u001b[48;2;214;214;214m84 \u001b[49m\u001b[48;2;217;217;217m85 \u001b[49m\u001b[48;2;219;219;219m86 \u001b[49m\u001b[48;2;222;222;222m87 \u001b[49m\u001b[48;2;224;224;224m88 \u001b[49m\u001b[48;2;227;227;227m89 \u001b[49m\u001b[48;2;229;229;229m90 \u001b[49m\n",
      "\u001b[48;2;232;232;232m91 \u001b[49m\u001b[48;2;235;235;235m92 \u001b[49m\u001b[48;2;237;237;237m93 \u001b[49m\u001b[48;2;240;240;240m94 \u001b[49m\u001b[48;2;242;242;242m95 \u001b[49m\u001b[48;2;245;245;245m96 \u001b[49m\u001b[48;2;247;247;247m97 \u001b[49m\u001b[48;2;250;250;250m98 \u001b[49m\u001b[48;2;252;252;252m99 \u001b[49m\u001b[48;2;255;255;255m100 \u001b[49m\n",
      "\u001b[48;2;154;205;50mOliveDrab3\u001b[49m\u001b[48;2;23;23;23mGray9\u001b[49m\u001b[48;2;0;205;0mGreen3\u001b[49m\u001b[48;2;139;0;0mDarkRed\u001b[49m\u001b[48;2;92;92;92mGray36\u001b[49m\u001b[48;2;105;105;105mDimGray\u001b[49m\u001b[48;2;0;238;118mSpringGreen2\u001b[49m\u001b[48;2;102;139;139mPaleTurquoise4\u001b[49m\u001b[48;2;205;205;0mDarkYellow\u001b[49m\u001b[48;2;108;166;205mSkyBlue3\u001b[49m\u001b[48;2;150;150;150mGray59\u001b[49m\u001b[48;2;255;215;0mGold\u001b[49m\u001b[48;2;227;227;227mGray89\u001b[49m\u001b[48;2;0;238;0mGreen2\u001b[49m\u001b[48;2;3;3;3mGray1\u001b[49m\u001b[48;2;255;20;147mDeepPink\u001b[49m\u001b[48;2;191;191;191mGray75\u001b[49m\u001b[48;2;139;95;101mLightPink4\u001b[49m\u001b[48;2;0;178;238mDeepSkyBlue2\u001b[49m\u001b[48;2;139;28;98mMaroon4\u001b[49m\u001b[48;2;48;48;48mGray19\u001b[49m\u001b[48;2;0;255;0mGreen\u001b[49m\u001b[48;2;0;0;255mBlue\u001b[49m\u001b[48;2;0;104;139mDeepSkyBlue4\u001b[49m\u001b[48;2;205;200;177mCornsilk3\u001b[49m\u001b[48;2;205;173;0mGold3\u001b[49m\u001b[48;2;238;154;73mTan2\u001b[49m\u001b[48;2;173;173;173mGray68\u001b[49m\u001b[48;2;202;225;255mLightSteelBlue1\u001b[49m\u001b[48;2;255;255;224mLightYellow\u001b[49m\u001b[48;2;141;182;205mLightSkyBlue3\u001b[49m\u001b[48;2;139;99;108mPink4\u001b[49m\u001b[48;2;24;116;205mDodgerBlue3\u001b[49m\u001b[48;2;238;233;191mLemonChiffon2\u001b[49m\u001b[48;2;105;139;105mDarkSeaGreen4\u001b[49m\u001b[48;2;238;216;174mWheat2\u001b[49m\u001b[48;2;238;154;0mOrange2\u001b[49m\u001b[48;2;205;91;69mCoral3\u001b[49m\u001b[48;2;255;236;139mLightGoldenrod1\u001b[49m\u001b[48;2;148;0;211mDarkViolet\u001b[49m\u001b[48;2;139;137;137mSnow4\u001b[49m\u001b[48;2;191;62;255mDarkOrchid1\u001b[49m\u001b[48;2;82;82;82mGray32\u001b[49m\u001b[48;2;218;112;214mOrchid\u001b[49m\u001b[48;2;217;217;217mGray85\u001b[49m\u001b[48;2;205;183;181mMistyRose3\u001b[49m\u001b[48;2;107;107;107mGray42\u001b[49m\u001b[48;2;255;255;0mYellow\u001b[49m\u001b[48;2;205;149;12mDarkGoldenrod3\u001b[49m\u001b[48;2;210;105;30mChocolate\u001b[49m\u001b[48;2;20;20;20mGray8\u001b[49m\u001b[48;2;205;92;92mIndianRed\u001b[49m\u001b[48;2;140;140;140mGray55\u001b[49m\u001b[48;2;117;117;117mGray46\u001b[49m\u001b[48;2;46;139;87mSeaGreen\u001b[49m\u001b[48;2;204;204;204mGray80\u001b[49m\u001b[48;2;238;224;229mLavenderBlush2\u001b[49m\u001b[48;2;161;161;161mGray63\u001b[49m\u001b[48;2;115;115;115mGray45\u001b[49m\u001b[48;2;235;235;235mGray92\u001b[49m\u001b[48;2;139;137;112mLemonChiffon4\u001b[49m\u001b[48;2;122;122;122mGray48\u001b[49m\u001b[48;2;238;230;133mKhaki2\u001b[49m\u001b[48;2;135;135;135mGray53\u001b[49m\u001b[48;2;139;0;139mDarkMagenta\u001b[49m\u001b[48;2;186;186;186mGray73\u001b[49m\u001b[48;2;0;139;139mCyan4\u001b[49m\u001b[48;2;255;52;179mMaroon1\u001b[49m\u001b[48;2;64;224;208mTurquoise\u001b[49m\u001b[48;2;255;140;0mDarkOrange\u001b[49m\u001b[48;2;255;228;225mMistyRose\u001b[49m\u001b[48;2;164;211;238mLightSkyBlue2\u001b[49m\u001b[48;2;120;120;120mGray47\u001b[49m\u001b[48;2;59;59;59mGray23\u001b[49m\u001b[48;2;139;54;38mTomato4\u001b[49m\u001b[48;2;120;120;120mGray47\u001b[49m\u001b[48;2;64;64;64mGray25\u001b[49m\u001b[48;2;139;102;139mPlum4\u001b[49m\u001b[48;2;173;255;47mGreenYellow\u001b[49m\u001b[48;2;139;87;66mLightSalmon4\u001b[49m\u001b[48;2;185;211;238mSlateGray2\u001b[49m\u001b[48;2;72;209;204mMediumTurquoise\u001b[49m\u001b[48;2;255;255;224mLightYellow\u001b[49m\u001b[48;2;204;204;204mGray80\u001b[49m\u001b[48;2;250;250;250mGray98\u001b[49m\u001b[48;2;94;94;94mGray37\u001b[49m\u001b[48;2;122;197;205mCadetBlue3\u001b[49m\u001b[48;2;255;130;171mPaleVioletRed1\u001b[49m\u001b[48;2;153;153;153mGray60\u001b[49m\u001b[48;2;125;125;125mGray49\u001b[49m\u001b[48;2;0;205;205mCyan3\u001b[49m\u001b[48;2;32;178;170mLightSeaGreen\u001b[49m\u001b[48;2;133;133;133mGray52\u001b[49m\u001b[48;2;100;149;237mCornflowerBlue\u001b[49m\u001b[48;2;245;245;220mBeige\u001b[49m\u001b[48;2;255;0;255mMagenta\u001b[49m\u001b[48;2;0;206;209mDarkTurquoise\u001b[49m\u001b[48;2;115;115;115mGray45\u001b[49m\u001b[48;2;0;0;238mBlue2\u001b[49m\u001b[48;2;255;248;220mCornsilk\u001b[49mend\r\n"
     ]
    }
   ],
   "source": [
    "Import-Module Pansies #-ea stop\n",
    "'start: This is crazy because Write() blink-spams because of so many calls'\n",
    "@(\n",
    "0..100 | ForEach-Object{\n",
    "   $grayPercent = Get-Item \"bg:\\gray${_}\"\n",
    "   $msg = \"$_ \" | New-Text -bg $grayPercent\n",
    "   [Console]::Write( $msg )\n",
    "   if($_ % 10 -eq 0) {\n",
    "        [console]::write(\"`n\")\n",
    "   }\n",
    "   \n",
    "}\n",
    "ls bg:\\ | Get-Random -Count 100 | ForEach-Object{\n",
    "    [console]::Write( (New-Text -bg $_ $_.X11ColorName) )\n",
    "} \n",
    ") | select -first 1000\n",
    "'end'"
   ]
  },
  {
   "cell_type": "code",
   "execution_count": null,
   "metadata": {
    "dotnet_interactive": {
     "language": "pwsh"
    },
    "vscode": {
     "languageId": "dotnet-interactive.pwsh"
    }
   },
   "outputs": [
    {
     "name": "stdout",
     "output_type": "stream",
     "text": [
      "\u001b[48;2;0;0;0m0 \u001b[49m\n",
      "\u001b[48;2;3;3;3m1 \u001b[49m\u001b[48;2;5;5;5m2 \u001b[49m\u001b[48;2;8;8;8m3 \u001b[49m\u001b[48;2;10;10;10m4 \u001b[49m\u001b[48;2;13;13;13m5 \u001b[49m\u001b[48;2;15;15;15m6 \u001b[49m\u001b[48;2;18;18;18m7 \u001b[49m\u001b[48;2;20;20;20m8 \u001b[49m\u001b[48;2;23;23;23m9 \u001b[49m\u001b[48;2;26;26;26m10 \u001b[49m\n",
      "\u001b[48;2;28;28;28m11 \u001b[49m\u001b[48;2;31;31;31m12 \u001b[49m\u001b[48;2;33;33;33m13 \u001b[49m\u001b[48;2;36;36;36m14 \u001b[49m\u001b[48;2;38;38;38m15 \u001b[49m\u001b[48;2;41;41;41m16 \u001b[49m\u001b[48;2;43;43;43m17 \u001b[49m\u001b[48;2;46;46;46m18 \u001b[49m\u001b[48;2;48;48;48m19 \u001b[49m\u001b[48;2;51;51;51m20 \u001b[49m\n",
      "\u001b[48;2;54;54;54m21 \u001b[49m\u001b[48;2;56;56;56m22 \u001b[49m\u001b[48;2;59;59;59m23 \u001b[49m\u001b[48;2;61;61;61m24 \u001b[49m\u001b[48;2;64;64;64m25 \u001b[49m\u001b[48;2;66;66;66m26 \u001b[49m\u001b[48;2;69;69;69m27 \u001b[49m\u001b[48;2;71;71;71m28 \u001b[49m\u001b[48;2;74;74;74m29 \u001b[49m\u001b[48;2;77;77;77m30 \u001b[49m\n",
      "\u001b[48;2;79;79;79m31 \u001b[49m\u001b[48;2;82;82;82m32 \u001b[49m\u001b[48;2;84;84;84m33 \u001b[49m\u001b[48;2;87;87;87m34 \u001b[49m\u001b[48;2;89;89;89m35 \u001b[49m\u001b[48;2;92;92;92m36 \u001b[49m\u001b[48;2;94;94;94m37 \u001b[49m\u001b[48;2;97;97;97m38 \u001b[49m\u001b[48;2;99;99;99m39 \u001b[49m\u001b[48;2;102;102;102m40 \u001b[49m\n",
      "\u001b[48;2;105;105;105m41 \u001b[49m\u001b[48;2;107;107;107m42 \u001b[49m\u001b[48;2;110;110;110m43 \u001b[49m\u001b[48;2;112;112;112m44 \u001b[49m\u001b[48;2;115;115;115m45 \u001b[49m\u001b[48;2;117;117;117m46 \u001b[49m\u001b[48;2;120;120;120m47 \u001b[49m\u001b[48;2;122;122;122m48 \u001b[49m\u001b[48;2;125;125;125m49 \u001b[49m\u001b[48;2;127;127;127m50 \u001b[49m\n",
      "\u001b[48;2;130;130;130m51 \u001b[49m\u001b[48;2;133;133;133m52 \u001b[49m\u001b[48;2;135;135;135m53 \u001b[49m\u001b[48;2;138;138;138m54 \u001b[49m\u001b[48;2;140;140;140m55 \u001b[49m\u001b[48;2;143;143;143m56 \u001b[49m\u001b[48;2;145;145;145m57 \u001b[49m\u001b[48;2;148;148;148m58 \u001b[49m\u001b[48;2;150;150;150m59 \u001b[49m\u001b[48;2;153;153;153m60 \u001b[49m\n",
      "\u001b[48;2;156;156;156m61 \u001b[49m\u001b[48;2;158;158;158m62 \u001b[49m\u001b[48;2;161;161;161m63 \u001b[49m\u001b[48;2;163;163;163m64 \u001b[49m\u001b[48;2;166;166;166m65 \u001b[49m\u001b[48;2;168;168;168m66 \u001b[49m\u001b[48;2;171;171;171m67 \u001b[49m\u001b[48;2;173;173;173m68 \u001b[49m\u001b[48;2;176;176;176m69 \u001b[49m\u001b[48;2;179;179;179m70 \u001b[49m\n",
      "\u001b[48;2;181;181;181m71 \u001b[49m\u001b[48;2;184;184;184m72 \u001b[49m\u001b[48;2;186;186;186m73 \u001b[49m\u001b[48;2;189;189;189m74 \u001b[49m\u001b[48;2;191;191;191m75 \u001b[49m\u001b[48;2;194;194;194m76 \u001b[49m\u001b[48;2;196;196;196m77 \u001b[49m\u001b[48;2;199;199;199m78 \u001b[49m\u001b[48;2;201;201;201m79 \u001b[49m\u001b[48;2;204;204;204m80 \u001b[49m\n",
      "\u001b[48;2;207;207;207m81 \u001b[49m\u001b[48;2;209;209;209m82 \u001b[49m\u001b[48;2;212;212;212m83 \u001b[49m\u001b[48;2;214;214;214m84 \u001b[49m\u001b[48;2;217;217;217m85 \u001b[49m\u001b[48;2;219;219;219m86 \u001b[49m\u001b[48;2;222;222;222m87 \u001b[49m\u001b[48;2;224;224;224m88 \u001b[49m\u001b[48;2;227;227;227m89 \u001b[49m\u001b[48;2;229;229;229m90 \u001b[49m\n",
      "\u001b[48;2;232;232;232m91 \u001b[49m\u001b[48;2;235;235;235m92 \u001b[49m\u001b[48;2;237;237;237m93 \u001b[49m\u001b[48;2;240;240;240m94 \u001b[49m\u001b[48;2;242;242;242m95 \u001b[49m\u001b[48;2;245;245;245m96 \u001b[49m\u001b[48;2;247;247;247m97 \u001b[49m\u001b[48;2;250;250;250m98 \u001b[49m\u001b[48;2;252;252;252m99 \u001b[49m\u001b[48;2;255;255;255m100 \u001b[49m\n",
      "\r\n"
     ]
    }
   ],
   "source": [
    "$Sb = [Text.StringBuilder]::new()\n",
    "\n",
    "0..100 | ForEach-Object{\n",
    "   $grayPercent = Get-Item \"bg:\\gray${_}\"\n",
    "   $msg = \"$_ \" | New-Text -bg $grayPercent\n",
    "   [void]$Sb.Append( $msg )\n",
    "   if($_ % 10 -eq 0) {\n",
    "        [void]$Sb.Append(\"`n\")\n",
    "   }\n",
    "   \n",
    "}\n",
    "$Sb.ToString()"
   ]
  },
  {
   "cell_type": "markdown",
   "metadata": {},
   "source": [
    "note: These may render differently because of notebook hosts\n",
    "try in a regular terminal"
   ]
  },
  {
   "cell_type": "code",
   "execution_count": null,
   "metadata": {
    "dotnet_interactive": {
     "language": "pwsh"
    },
    "vscode": {
     "languageId": "dotnet-interactive.pwsh"
    }
   },
   "outputs": [
    {
     "name": "stdout",
     "output_type": "stream",
     "text": [
      "\u001b[38;2;235;203;139m1-offs-ErlZkEu9/ \u001b[39m, \u001b[38;2;164;220;255msyslog.txt 47.68 kb\u001b[39m, \u001b[38;2;164;220;255mcommodities.json 10.30 kb\u001b[39m, \u001b[38;2;164;220;255mBlank-row-in-DAX.zip 2,077.08 kb\u001b[39m, \u001b[38;2;164;220;255m.gitconfig 2.67 kb\u001b[39m, \u001b[38;2;164;220;255mPowerBI-visuals-corrplot.1.0.1.0.pbix 859.99 kb\u001b[39m, \u001b[38;2;164;220;255mUnderstanding numeric data type conversions in DAX.pbix 66.53 kb\u001b[39m, \u001b[38;2;235;203;139m.beautifuldiscord/ \u001b[39m, \u001b[38;2;164;220;255mopenshot-qt.log 3,921.79 kb\u001b[39m, \u001b[38;2;235;203;139m0.0. temp first/ \u001b[39m, \u001b[38;2;164;220;255mimager_1.7.2.exe 19,305.12 kb\u001b[39m, \u001b[38;2;164;220;255municode_generate_metadata1.stats 0.45 kb\u001b[39m, \u001b[38;2;164;220;255mpyramid-1.0.epub 1,126.91 kb\u001b[39m, \u001b[38;2;235;203;139mconfig/ \u001b[39m, \u001b[38;2;164;220;255mEv0aWVVXYAAuLRk.png 141.95 kb\u001b[39m, \u001b[38;2;164;220;255mRounding-issues.zip 2,080.67 kb\u001b[39m, \u001b[38;2;235;203;139mansel/ \u001b[39m, \u001b[38;2;164;220;255mtf16400656_win32(1).xltx 374.27 kb\u001b[39m, \u001b[38;2;235;203;139m.swt/ \u001b[39m, \u001b[38;2;235;203;139m.cache/ \u001b[39m, \u001b[38;2;164;220;255m1.0.331401+f9a0736070089a9e182a96afc9c0142d2b81e5f5_MachineId.dotnetTryUserLevelCache 0.06 kb\u001b[39m, \u001b[38;2;164;220;255m1.0.235701+3881a96164de75fca84f5f11027f3606b7878044_MachineId.dotnetTryUserLevelCache 0.06 kb\u001b[39m, \u001b[38;2;235;203;139mPSKoans/ \u001b[39m, \u001b[38;2;164;220;255msyslog(10).txt 245.79 kb\u001b[39m, \u001b[38;2;164;220;255m3.1.302.toolpath.sentinel 0.00 kb\u001b[39m, \u001b[38;2;164;220;255mCustomers By Country.pbit 11.17 kb\u001b[39m, \u001b[38;2;164;220;255mRetail Analysis Sample PBIX.pbix 13,301.22 kb\u001b[39m, \u001b[38;2;164;220;255mCone.3mf 18.91 kb\u001b[39m, \u001b[38;2;164;220;255mNWS_Digital_Forecast.kml 0.59 kb\u001b[39m, \u001b[38;2;164;220;255mPCTY WebServices_Access Request Form.docx 795.80 kb\u001b[39m\r\n"
     ]
    }
   ],
   "source": [
    "Import-module Pansies -Ea Stop\n",
    "$cached_HomeFiles ??= gci ~ -depth 1\n",
    "$cached_RandHomeFiles ??= $cached_HomeFiles | Get-Random -count 30\n",
    " \n",
    "\n",
    "## PS5 compatible \n",
    "\n",
    "($cached_RandHomeFiles | ForEach-Object { \n",
    "  @( \n",
    "     if($_.PSIsContainer ) {\n",
    "         \"${fg:ebcb8b}\"\n",
    "          $_.Name     \n",
    "         '/ '\n",
    "      } else { \n",
    "         \"${fg:a4dcff}\"\n",
    "          '{0} {1:n2} kb' -f @( \n",
    "              $_.Name\n",
    "              $_.Length / 1kb\n",
    "           )\n",
    "      }\n",
    "     \"${fg:Clear}\"\n",
    "   ) -join ''\n",
    "\n",
    "}) -join ', ' \n",
    "\n"
   ]
  },
  {
   "cell_type": "code",
   "execution_count": null,
   "metadata": {
    "dotnet_interactive": {
     "language": "pwsh"
    },
    "vscode": {
     "languageId": "dotnet-interactive.pwsh"
    }
   },
   "outputs": [
    {
     "name": "stdout",
     "output_type": "stream",
     "text": [
      "\n",
      " - \u001b[38;2;164;220;255mPCTY WebServices_Access Request Form.docx 795.80 kb\u001b[39m\n",
      " - \u001b[38;2;164;220;255mcommodities.json 10.30 kb\u001b[39m\n",
      " - \u001b[38;2;164;220;255m.gitconfig 2.67 kb\u001b[39m\n",
      " - \u001b[38;2;164;220;255mPowerBI-visuals-corrplot.1.0.1.0.pbix 859.99 kb\u001b[39m\n",
      " - \u001b[38;2;235;203;139mconfig/ \u001b[39m\n",
      " - \u001b[38;2;164;220;255msyslog.txt 47.68 kb\u001b[39m\n",
      " - \u001b[38;2;164;220;255municode_generate_metadata1.stats 0.45 kb\u001b[39m\n",
      " - \u001b[38;2;235;203;139m.beautifuldiscord/ \u001b[39m\n",
      " - \u001b[38;2;235;203;139m0.0. temp first/ \u001b[39m\n",
      " - \u001b[38;2;164;220;255m1.0.235701+3881a96164de75fca84f5f11027f3606b7878044_MachineId.dotnetTryUserLevelCache 0.06 kb\u001b[39m\n",
      " - \u001b[38;2;164;220;255msyslog(10).txt 245.79 kb\u001b[39m\n",
      " - \u001b[38;2;164;220;255mRounding-issues.zip 2,080.67 kb\u001b[39m\n",
      " - \u001b[38;2;164;220;255mCone.3mf 18.91 kb\u001b[39m\n",
      " - \u001b[38;2;164;220;255mpyramid-1.0.epub 1,126.91 kb\u001b[39m\n",
      " - \u001b[38;2;164;220;255mBlank-row-in-DAX.zip 2,077.08 kb\u001b[39m\n",
      " - \u001b[38;2;164;220;255mUnderstanding numeric data type conversions in DAX.pbix 66.53 kb\u001b[39m\n",
      " - \u001b[38;2;164;220;255mRetail Analysis Sample PBIX.pbix 13,301.22 kb\u001b[39m\n",
      " - \u001b[38;2;164;220;255m3.1.302.toolpath.sentinel 0.00 kb\u001b[39m\n",
      " - \u001b[38;2;164;220;255mtf16400656_win32(1).xltx 374.27 kb\u001b[39m\n",
      " - \u001b[38;2;164;220;255mEv0aWVVXYAAuLRk.png 141.95 kb\u001b[39m\n",
      " - \u001b[38;2;235;203;139m1-offs-ErlZkEu9/ \u001b[39m\n",
      " - \u001b[38;2;235;203;139mansel/ \u001b[39m\n",
      " - \u001b[38;2;164;220;255mimager_1.7.2.exe 19,305.12 kb\u001b[39m\n",
      " - \u001b[38;2;235;203;139m.cache/ \u001b[39m\n",
      " - \u001b[38;2;164;220;255mCustomers By Country.pbit 11.17 kb\u001b[39m\n",
      " - \u001b[38;2;164;220;255m1.0.331401+f9a0736070089a9e182a96afc9c0142d2b81e5f5_MachineId.dotnetTryUserLevelCache 0.06 kb\u001b[39m\n",
      " - \u001b[38;2;235;203;139mPSKoans/ \u001b[39m\n",
      " - \u001b[38;2;164;220;255mNWS_Digital_Forecast.kml 0.59 kb\u001b[39m\n",
      " - \u001b[38;2;164;220;255mopenshot-qt.log 3,921.79 kb\u001b[39m\n",
      " - \u001b[38;2;235;203;139m.swt/ \u001b[39m\n",
      "\r\n"
     ]
    }
   ],
   "source": [
    "\n",
    "$cached_HomeFiles ??= gci ~ -depth 1\n",
    "$cached_RandHomeFiles ??= $cached_HomeFiles | Get-Random -count 30\n",
    " \n",
    "($cached_randHomeFIles | ForEach-Object { \n",
    "  @( \n",
    "     if($_.PSIsContainer ) {\n",
    "         \"${fg:ebcb8b}\"\n",
    "          $_.Name     \n",
    "         '/ '\n",
    "      } else { \n",
    "         \"${fg:a4dcff}\"\n",
    "          '{0} {1:n2} kb' -f @( \n",
    "              $_.Name\n",
    "              $_.Length / 1kb\n",
    "           )\n",
    "      }\n",
    "     \"${fg:Clear}\"\n",
    "   ) -join ''\n",
    "\n",
    "} | Get-Random -Count 30)\n",
    "# Works great with join-string\n",
    "| csv\n",
    "# | UL\n"
   ]
  },
  {
   "cell_type": "code",
   "execution_count": null,
   "metadata": {
    "dotnet_interactive": {
     "language": "pwsh"
    },
    "vscode": {
     "languageId": "dotnet-interactive.pwsh"
    }
   },
   "outputs": [],
   "source": [
    "$cached_HomeFiles ??= gci ~ -depth 1\n",
    "$cached_RandHomeFiles ??= $cached_HomeFiles | Get-Random -count 30\n",
    " \n",
    "($cached_randHomeFIles | ForEach-Object { \n",
    "  @( \n",
    "     if($_.PSIsContainer ) {\n",
    "         \"${fg:ebcb8b}\"\n",
    "          $_.Name     \n",
    "         '/ '\n",
    "      } else { \n",
    "         \"${fg:a4dcff}\"\n",
    "          '{0} {1:n2} kb' -f @( \n",
    "              $_.Name\n",
    "              $_.Length / 1kb\n",
    "           )\n",
    "      }\n",
    "     \"${fg:Clear}\"\n",
    "   ) -join ''\n",
    "\n",
    "} | Get-Random -Count 30)\n",
    "# Works great with join-string\n",
    "# | csv\n",
    "| UL\n"
   ]
  }
 ],
 "metadata": {
  "kernelspec": {
   "display_name": ".NET (C#)",
   "language": "C#",
   "name": ".net-csharp"
  },
  "language_info": {
   "file_extension": ".cs",
   "mimetype": "text/x-csharp",
   "name": "C#",
   "pygments_lexer": "csharp",
   "version": "9.0"
  },
  "vscode": {
   "interpreter": {
    "hash": "74c392d937995c80c000e965374d78af3f189f264a4219fb3bb9b9db8f0c4454"
   }
  }
 },
 "nbformat": 4,
 "nbformat_minor": 2
}
