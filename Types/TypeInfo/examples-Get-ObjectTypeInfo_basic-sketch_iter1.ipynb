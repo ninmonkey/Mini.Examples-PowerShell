{
 "cells": [
  {
   "cell_type": "code",
   "execution_count": null,
   "metadata": {
    "dotnet_interactive": {
     "language": "pwsh"
    },
    "vscode": {
     "languageId": "dotnet-interactive.pwsh"
    }
   },
   "outputs": [],
   "source": [
    "$ForceReload  = $true\n",
    "Import-Module Pansies\n",
    "if($ForceReload -or (-not (gcm WhatType -ea ignore))) {\n",
    "    # . (Join-Path $PSScriptRoot 'Get-ObjectTypeInfo_basic.ps1')\n",
    "    \n",
    "    $srcPath = (Join-Path ( gi .) 'Get-ObjectTypeInfo.ps1') \n",
    "    . $srcPath\n",
    "}"
   ]
  },
  {
   "cell_type": "code",
   "execution_count": null,
   "metadata": {
    "dotnet_interactive": {
     "language": "pwsh"
    },
    "vscode": {
     "languageId": "dotnet-interactive.pwsh"
    }
   },
   "outputs": [
    {
     "name": "stdout",
     "output_type": "stream",
     "text": [
      "[IO.DirectoryInfo]\r\n",
      "[Object[]]\r\n",
      "[Object[]]\r\n"
     ]
    }
   ],
   "source": [
    "$Files = Get-ChildItem c:\\ | Select-Object -First 1\n",
    "whatType $Files # returns 1 folder [IO.DirectoryInfo]\n",
    "\n",
    "$files = @(Get-ChildItem c:\\ | Select-Object -First 1)\n",
    "whatType $Files # returns array of 1 folder\n",
    "\n",
    "$files = @()\n",
    "whatType $Files\n"
   ]
  },
  {
   "cell_type": "code",
   "execution_count": null,
   "metadata": {
    "dotnet_interactive": {
     "language": "pwsh"
    },
    "vscode": {
     "languageId": "dotnet-interactive.pwsh"
    }
   },
   "outputs": [
    {
     "name": "stdout",
     "output_type": "stream",
     "text": [
      "[String]\r\n",
      "[Object[]]\r\n",
      "[Object[]]\r\n"
     ]
    }
   ],
   "source": [
    "\n",
    "$files = @(Get-ChildItem c:\\ | Select-Object -First 1)\n",
    "$files = '2134'\n",
    "whatType $Files # files is now a [String]...\n",
    "\n",
    "\n",
    "WhatType @($Null) # returns array of 0 elements\n",
    "WhatType @() # returns array of 0 elements\n",
    "# WhatType $Null # returns error\n"
   ]
  },
  {
   "cell_type": "markdown",
   "metadata": {},
   "source": [
    "## Element Access Without Errors on Empty List\n",
    "\n",
    "- If you want to force/coerce a result to be a list, you can use `@()`\n",
    "- You can rely on this expression to **not** throw errors, even if it's actually `$null` \n",
    "\n",
    "```ps1\n",
    "🐒Pwsh>\n",
    "    $x = 10..20\n",
    "    @($x)[0]\n",
    "```\n",
    "out\n",
    "```\n",
    "    10\n",
    "```\n",
    "```ps1\n",
    "🐒Pwsh>\n",
    "    $x = $null\n",
    "    @($x)[0]\n",
    "```\n",
    "out\n",
    "```\n",
    "# nothing\n",
    "```\n",
    "```ps1\n",
    "🐒Pwsh>\n",
    "    $x = $null\n",
    "    $x[0]\n",
    "```\n",
    "out\n",
    "```ps1\n",
    "InvalidOperation:\n",
    "Line |\n",
    "   2 |  $x[0]\n",
    "     |  ~~~~~\n",
    "     | Cannot index into a null array\n",
    "```\n",
    "\n",
    "\n",
    "\n",
    "```\n",
    "sadf\n",
    "sdf\n",
    "f\n",
    "ds"
   ]
  },
  {
   "cell_type": "code",
   "execution_count": null,
   "metadata": {
    "dotnet_interactive": {
     "language": "pwsh"
    },
    "vscode": {
     "languageId": "dotnet-interactive.pwsh"
    }
   },
   "outputs": [
    {
     "name": "stdout",
     "output_type": "stream",
     "text": [
      "FullName breaks when using generics\r\n",
      "System.Collections.Generic.List`1[[System.Int32, System.Private.CoreLib, Version=6.0.0.0, Culture=neutral, PublicKeyToken=7cec85d7bea7798e]]\r\n",
      "\r\n",
      "\u001b[32;1mDisplayString              : \u001b[0m\r\n",
      "\u001b[32;1mUnderlyingSystemType       : \u001b[0mSystem.Collections.Generic.List`1[System.Int32]\r\n",
      "\u001b[32;1mNamespace                  : \u001b[0mSystem.Collections.Generic\r\n",
      "\u001b[32;1mName                       : \u001b[0mList`1\r\n",
      "\u001b[32;1mBaseType                   : \u001b[0mSystem.Object\r\n",
      "\u001b[32;1mGenericTypeArguments       : \u001b[0m{System.Int32}\r\n",
      "\u001b[32;1mImplementedInterfaces      : \u001b[0m{System.Collections.Generic.IList`1[System.Int32], \r\n",
      "                             \u001b[32;1m\u001b[0mSystem.Collections.Generic.ICollection`1[System.Int32], \r\n",
      "                             \u001b[32;1m\u001b[0mSystem.Collections.Generic.IEnumerable`1[System.Int32], \r\n",
      "                             \u001b[32;1m\u001b[0mSystem.Collections.IEnumerable…}\r\n",
      "\u001b[32;1mGenericParameterAttributes : \u001b[0m\r\n",
      "\u001b[32;1mGenericParameterPosition   : \u001b[0m\r\n",
      "\u001b[32;1mContainsGenericParameters  : \u001b[0mFalse\r\n",
      "\u001b[32;1mIsConstructedGenericType   : \u001b[0mTrue\r\n",
      "\u001b[32;1mIsGenericType              : \u001b[0mTrue\r\n",
      "\u001b[32;1mIsGenericTypeDefinition    : \u001b[0mFalse\r\n",
      "\u001b[32;1mIsGenericParameter         : \u001b[0mFalse\r\n",
      "\u001b[32;1mGenericTypeParameters      : \u001b[0m{}\r\n",
      "\u001b[32;1mIsGenericTypeParameter     : \u001b[0mFalse\r\n",
      "\u001b[32;1mIsGenericMethodParameter   : \u001b[0mFalse\r\n",
      "\u001b[32;1mReflectedType              : \u001b[0m\r\n",
      "\u001b[32;1mDeclaredConstructors       : \u001b[0m{Void .ctor(), Void .ctor(Int32), Void \r\n",
      "                             \u001b[32;1m\u001b[0m.ctor(System.Collections.Generic.IEnumerable`1[System.Int32]), Void \r\n",
      "                             \u001b[32;1m\u001b[0m.cctor()}\r\n",
      "\r\n",
      "\r\n"
     ]
    }
   ],
   "source": [
    "using namespace System.Collections.Generic\n",
    "\n",
    "[list[int]]$lInt = [list[int]]::new( [int[]]@(0..5 ) )\n",
    "\n",
    "'FullName breaks when using generics'\n",
    "$Lint.GetType().FullName\n",
    "# WhatType $lInt\n",
    "$ListType = $Lint.GetType()\n",
    "# $listType | fl * \n",
    "\n",
    "$listType | select DisplayString, UnderlyingSystemType, Namespace, Name, BaseType, GenericTypeArguments, ImplementedInterfaces, *generic*, ReflectedType, DeclaredConstructors -ea ignore\n",
    "\n",
    "# System.Collections.Generic.List`1[System.Int32]"
   ]
  },
  {
   "cell_type": "markdown",
   "metadata": {},
   "source": [
    "```$files = @(...)"
   ]
  },
  {
   "cell_type": "code",
   "execution_count": null,
   "metadata": {
    "dotnet_interactive": {
     "language": "pwsh"
    },
    "vscode": {
     "languageId": "dotnet-interactive.pwsh"
    }
   },
   "outputs": [
    {
     "name": "stdout",
     "output_type": "stream",
     "text": [
      "\n",
      "=> default\n",
      "\r\n",
      "[Dict[string, int]]\r\n",
      "\r\n",
      "\u001b[32;1mMode           RGB (hex) X11ColorName         Ordinals                  XTerm Index ConsoleColor\u001b[0m\r\n",
      "\u001b[32;1m----           --------- ------------         --------                  ----------- ------------\u001b[0m\r\n",
      "\u001b[102m \u001b[0m C…\u001b[0m #00FF00   Green                R=0.000; G=255; B=0.000   10          Green\r\n",
      "\n",
      "=> colorize 1\n",
      "\r\n",
      "[Dict[string, int]]\r\n",
      "\n",
      "=> colorize 2\n",
      "\r\n",
      "[Dict[string, int]]\r\n",
      "\n",
      "=> colorize 3 : with color\n",
      "\r\n",
      "gray60[stuffgray60]\r\n",
      "\n",
      "=> colorize 4\n",
      "\r\n",
      "Dictionary`2\r\n",
      "\r\n"
     ]
    }
   ],
   "source": [
    "$dict = [dictionary[[string], [int]]]::new()\n",
    "$dict.Add('a', 30)\n",
    "# $Dict.GetType().GenericTypeArguments\n",
    "\n",
    "'\n",
    "=> default\n",
    "'\n",
    "\n",
    "$dict.GetType().GenericTypeArguments\n",
    "| Join-String -sep ', ' { $_ } -op '[Dict[' -os ']]'\n",
    "\n",
    "\n",
    "gi fg:\\green\n",
    "\n",
    "\n",
    "'\n",
    "=> colorize 1\n",
    "'\n",
    ".  { \n",
    "\n",
    "\n",
    "    $C = $color ??= @{}\n",
    "    $C.Fg = 'gray60'\n",
    "    $C.FgBold = 'gray80'\n",
    "    $C.FgBold2 = 'gray90'\n",
    "    $C.FgBold3 = 'gray100'\n",
    "\n",
    "    $dict.GetType().GenericTypeArguments\n",
    "    | Join-String -sep ', ' { $_ } -op '[Dict[' -os ']]'\n",
    "\n",
    "'\n",
    "=> colorize 2\n",
    "'\n",
    "    $dict.GetType().GenericTypeArguments\n",
    "    | Join-String -sep ', ' { $_ } -op '[Dict[' -os ']]'\n",
    "\n",
    "'\n",
    "=> colorize 3 : with color\n",
    "'\n",
    "    $Sem = @{}\n",
    "    $Sem.Brace = $C.Fg\n",
    "    # $Sem.Brace = gi fg:\\'green'\n",
    "    $Sem.Reset = \"${fg:clear}${bg:clear}\"\n",
    "    \n",
    "\n",
    "    $script:lastRender = $render = @(\n",
    "        $Sem.Brace\n",
    "        '['\n",
    "        $Sem.FgBold\n",
    "        'stuff'\n",
    "        $Sem.Brace\n",
    "        ']'\n",
    "    ) -join ''\n",
    "    $render\n",
    "'\n",
    "=> colorize 4\n",
    "'\n",
    "}\n",
    "\n",
    "#| UL\n",
    "\n",
    "$dict.GetType().name\n",
    "\n"
   ]
  },
  {
   "cell_type": "markdown",
   "metadata": {
    "dotnet_interactive": {
     "language": "pwsh"
    }
   },
   "source": [
    "<!-- # 🐒Pwsh> # template  -->\n",
    "```ps1\n",
    "[IO.DirectoryInfo]\n",
    "[IO.DirectoryInfo]\n",
    "```"
   ]
  },
  {
   "cell_type": "markdown",
   "metadata": {
    "dotnet_interactive": {
     "language": "csharp"
    },
    "vscode": {
     "languageId": "dotnet-interactive.csharp"
    }
   },
   "source": [
    "wip -> <!-- # 🐒Pwsh>  -->\n",
    "```ps1\n",
    "[IO.DirectoryInfo]\n",
    "[IO.DirectoryInfo]\n",
    "```\n",
    "\n",
    "<!-- // <#\n",
    "// old stuff\n",
    "// $JoinCsv = @{ Separator = ', ' }\n",
    "\n",
    "\n",
    "// [double]$alwaysDouble = '213.5'\n",
    "// [int64]$AlwaysInt = '213.5'\n",
    "\n",
    "// # this is a coercion. weakInt is not strongly typed\n",
    "// $WeakInt = [int]'213.45'\n",
    "\n",
    "// [string]$AlwaysString = 1e9\n",
    "\n",
    "// $AlwaysDouble, $AlwaysInt, $AlwaysString\n",
    "// | WhatType\n",
    "// | Join-String @joinCsv\n",
    "\n",
    "// # See more: 'gcm Utility\\Get-ElementName\n",
    "// $AlwaysInt = 'zabc' # SHould Error because 'No valid conversion path for \"Z\"'\n",
    "// $WeakList = 'abc'\n",
    "// $weakInt = 'abc'\n",
    "// $AlwaysInt, $WeakList, $WeakInt\n",
    "// | WhatType\n",
    "\n",
    "// # $numDouble | TypeInfo\n",
    "\n",
    "// # Get-Item . | TypeInfo\n",
    "// # [Double]\n",
    "// # [IO.DirectoryInfo]\n",
    "\n",
    "\n",
    "// #>\n",
    "-->"
   ]
  }
 ],
 "metadata": {
  "kernelspec": {
   "display_name": ".NET (C#)",
   "language": "C#",
   "name": ".net-csharp"
  },
  "language_info": {
   "file_extension": ".cs",
   "mimetype": "text/x-csharp",
   "name": "C#",
   "pygments_lexer": "csharp",
   "version": "9.0"
  },
  "vscode": {
   "interpreter": {
    "hash": "74c392d937995c80c000e965374d78af3f189f264a4219fb3bb9b9db8f0c4454"
   }
  }
 },
 "nbformat": 4,
 "nbformat_minor": 2
}
