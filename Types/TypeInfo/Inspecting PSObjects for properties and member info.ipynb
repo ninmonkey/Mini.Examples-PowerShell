{
 "cells": [
  {
   "cell_type": "code",
   "execution_count": null,
   "metadata": {
    "dotnet_interactive": {
     "language": "pwsh"
    },
    "vscode": {
     "languageId": "dotnet-interactive.pwsh"
    }
   },
   "outputs": [
    {
     "name": "stdout",
     "output_type": "stream",
     "text": [
      "\u001b[91mImport-Module: \u001b[91mThe specified module 'ImpliedReflectidon' was not loaded because no valid module file was found in any module directory.\u001b[0m\r\n",
      "loaded: ClassExplorer, Pansies\r\n",
      "last ran Friday, July 1, 2022 11:15:16 PM\r\n",
      "2022-07-01 18:15:16Z\r\n"
     ]
    }
   ],
   "source": [
    "Import-Module 'ClassExplorer', 'ImpliedReflectidon', 'Pansies' -Ea 'continue' -pa \n",
    "| Join-string -sep ', ' Name -op 'loaded: '\n",
    "# Import-Module 'Ninmonkey.Console' -Ea stop *>$Null # refactor: remove to notebook utils module\n",
    "'last ran {0}' -f @( (Get-date).tostring('U') )\n",
    "'{0}' -f @( (Get-date).tostring('u') )"
   ]
  },
  {
   "cell_type": "code",
   "execution_count": null,
   "metadata": {
    "dotnet_interactive": {
     "language": "pwsh"
    },
    "vscode": {
     "languageId": "dotnet-interactive.pwsh"
    }
   },
   "outputs": [
    {
     "name": "stdout",
     "output_type": "stream",
     "text": [
      "\r\n",
      "    Directory: \r\n",
      "C:\\Users\\cppmo_000\\SkyDrive\\Documents\\2021\\Powershell\\My_Github\\Mini.Examples\\Types\\TypeInfo\r\n",
      "\r\n",
      "\u001b[32;1mMode        LastWriteTime Length Name\u001b[0m\r\n",
      "\u001b[32;1m----        ------------- ------ ----\u001b[0m\r\n",
      "la---  6/30/2022  3:08 PM      0 #\r\n",
      "\r\n"
     ]
    }
   ],
   "source": [
    "$file = ls . -file | select -first 1\n",
    "$File |  ft -auto"
   ]
  },
  {
   "cell_type": "code",
   "execution_count": null,
   "metadata": {
    "dotnet_interactive": {
     "language": "pwsh"
    },
    "vscode": {
     "languageId": "dotnet-interactive.pwsh"
    }
   },
   "outputs": [
    {
     "name": "stdout",
     "output_type": "stream",
     "text": [
      "\u001b[48;2;77;77;77m*\u001b[49m\u001b[48;2;77;77;77m>\u001b[49m\u001b[48;2;77;77;77m$\u001b[49m\u001b[48;2;77;77;77mN\u001b[49m\u001b[48;2;77;77;77mu\u001b[49m\u001b[48;2;77;77;77ml\u001b[49m\u001b[48;2;77;77;77ml\u001b[49m\u001b[48;2;77;77;77m#\u001b[49m\u001b[48;2;77;77;77m \u001b[49m\u001b[48;2;77;77;77mr\u001b[49m\r\n",
      "\u001b[48;2;77;77;77m*\u001b[49m \u001b[48;2;77;77;77m>\u001b[49m \u001b[48;2;77;77;77m$\u001b[49m \u001b[48;2;77;77;77mN\u001b[49m \u001b[48;2;77;77;77mu\u001b[49m \u001b[48;2;77;77;77ml\u001b[49m \u001b[48;2;77;77;77ml\u001b[49m \u001b[48;2;77;77;77m#\u001b[49m \u001b[48;2;77;77;77m \u001b[49m \u001b[48;2;77;77;77mr\u001b[49m\r\n",
      "\r\n",
      "2a  3e 24 4e 75 6c 6c 23 20 72                                                                   \r\n",
      "\r\n",
      "\r\n",
      "\u001b[32;1mHex Rune\u001b[0m\r\n",
      "\u001b[32;1m--- ----\u001b[0m\r\n",
      "2a  \u001b[48;2;77;77;77m*\u001b[49m\u001b[0m\r\n",
      "3e  \u001b[48;2;77;77;77m>\u001b[49m\u001b[0m\r\n",
      "24  \u001b[48;2;77;77;77m$\u001b[49m\u001b[0m\r\n",
      "4e  \u001b[48;2;77;77;77mN\u001b[49m\u001b[0m\r\n",
      "75  \u001b[48;2;77;77;77mu\u001b[49m\u001b[0m\r\n",
      "6c  \u001b[48;2;77;77;77ml\u001b[49m\u001b[0m\r\n",
      "6c  \u001b[48;2;77;77;77ml\u001b[49m\u001b[0m\r\n",
      "23  \u001b[48;2;77;77;77m#\u001b[49m\u001b[0m\r\n",
      "20  \u001b[48;2;77;77;77m \u001b[49m\u001b[0m\r\n",
      "72  \u001b[48;2;77;77;77mr\u001b[49m\u001b[0m\r\n",
      "\r\n",
      "\r\n",
      "\u001b[32;1mHex  : \u001b[0m2a\r\n",
      "\u001b[32;1mRune : \u001b[0m\u001b[48;2;77;77;77m*\u001b[49m\r\n",
      "\r\n",
      "\u001b[32;1mHex  : \u001b[0m3e\r\n",
      "\u001b[32;1mRune : \u001b[0m\u001b[48;2;77;77;77m>\u001b[49m\r\n",
      "\r\n",
      "\u001b[32;1mHex  : \u001b[0m24\r\n",
      "\u001b[32;1mRune : \u001b[0m\u001b[48;2;77;77;77m$\u001b[49m\r\n",
      "\r\n",
      "\u001b[32;1mHex  : \u001b[0m4e\r\n",
      "\u001b[32;1mRune : \u001b[0m\u001b[48;2;77;77;77mN\u001b[49m\r\n",
      "\r\n",
      "\r\n"
     ]
    }
   ],
   "source": [
    "# visualize codepoints\n",
    "$Sample = @'\n",
    "*>$Null# r\n",
    "'@\n",
    "$C = $Color ??=  @{\n",
    "    Bg = 'gray30'\n",
    "    Fg = 'gray80'\n",
    "}\n",
    "\n",
    "function Notebook.InspectUnicode {\n",
    "    # display codepoints\n",
    "    # future: remap control chars to + 0x2400\n",
    "    param(        \n",
    "        [Parameter(Mandatory, ValueFromPipeline)]\n",
    "        [string]$InputText\n",
    "    )\n",
    "    if($Null -eq $InputText) {        \n",
    "        $InputText = \"`u{2400}\"     \n",
    "    }\n",
    "    $Sample.EnumerateRunes() #.Value #.ToString('x')\n",
    "    | % {\n",
    "        [pscustomobject]@{\n",
    "            Hex = '{0:x2}' -f @($_.Value)\n",
    "            Rune = [char]::ConvertFromUtf32($_.Value) | New-text -bg $C.Bg -fg $c.FG\n",
    "        }     \n",
    "    }\n",
    "} \n",
    "\n",
    "Notebook.InspectUnicode $Sample \n",
    "| % Rune | Join-String -sep ''\n",
    "\n",
    "Notebook.InspectUnicode $Sample \n",
    "| % Rune | Join-String -sep ' ' { $_ }\n",
    "\n",
    "Notebook.InspectUnicode $Sample\n",
    "| fw -au\n",
    "\n",
    "Notebook.InspectUnicode $Sample\n",
    "| ft\n",
    "\n",
    "Notebook.InspectUnicode $Sample | select -first 4\n",
    "| fl"
   ]
  }
 ],
 "metadata": {
  "kernelspec": {
   "display_name": ".NET (PowerShell)",
   "language": "PowerShell",
   "name": ".net-pwsh"
  },
  "language_info": {
   "name": "PowerShell"
  }
 },
 "nbformat": 4,
 "nbformat_minor": 2
}
