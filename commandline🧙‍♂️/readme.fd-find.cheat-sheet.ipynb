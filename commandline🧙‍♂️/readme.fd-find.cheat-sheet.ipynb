{
 "cells": [
  {
   "cell_type": "markdown",
   "metadata": {},
   "source": [
    "`fd`\n",
    "source: \n",
    "- [fd find from sharkdp](https://github.com/sharkdp/fd)\n",
    "- or **choco** package `fd`"
   ]
  },
  {
   "cell_type": "code",
   "execution_count": null,
   "metadata": {
    "dotnet_interactive": {
     "language": "pwsh"
    },
    "vscode": {
     "languageId": "dotnet-interactive.pwsh"
    }
   },
   "outputs": [
    {
     "name": "stdout",
     "output_type": "stream",
     "text": [
      "\u001b[0m\u001b[36m.\\sources\\2022-05\\triggered_by_full_script.ps1\u001b[0m:\u001b[0m\u001b[1m\u001b[31mfunc\u001b[0mtion wrapText {\r\n",
      "\u001b[0m\u001b[36m.\\sources\\2022-05\\triggered_by_full_script.ps1\u001b[0m:# \u001b[0m\u001b[1m\u001b[31mfunc\u001b[0mtion _joinBy {\r\n",
      "\u001b[0m\u001b[36m.\\sources\\2022-05\\triggered_by_full_script.ps1\u001b[0m:\u001b[0m\u001b[1m\u001b[31mfunc\u001b[0mtion _showExample {\r\n",
      "\u001b[0m\u001b[36m.\\sources\\2022-05\\triggered_by_full_script.ps1\u001b[0m:\u001b[0m\u001b[1m\u001b[31mfunc\u001b[0mtion _fmt_enumSummary {\r\n",
      "\u001b[0m\u001b[36m.\\readme.how-to-fd-to-rg.ps1\u001b[0m:fd -d3 -e ps1 -exec-batch rg \u001b[0m\u001b[1m\u001b[31mfunc\u001b[0mtion # -X = --exec-batch\r\n",
      "\u001b[0m\u001b[36m.\\readme.how-to-fd-to-rg.ps1\u001b[0m:fd -d3 -e ps1 -X rg \u001b[0m\u001b[1m\u001b[31mfunc\u001b[0mtion # -X = --exec-batch\r\n",
      "\u001b[0m\u001b[36m.\\readme.how-to-fd-to-rg.ps1\u001b[0m:fd -d3 -e ps1 --exec rg \u001b[0m\u001b[1m\u001b[31mfunc\u001b[0m\r\n",
      "\u001b[0m\u001b[36m.\\readme.how-to-fd-to-rg.ps1\u001b[0m:#  fd -d3 -e ps1 -exec rg \u001b[0m\u001b[1m\u001b[31mfunc\u001b[0mtion # -X = --exec-batch\r\n",
      "\u001b[0m\u001b[36m.\\2022-05-23\\router\\format_mainLog.2022-05.ps1\u001b[0m:\u001b[0m\u001b[1m\u001b[31mfunc\u001b[0mtion _formatRouterLog {\r\n"
     ]
    }
   ],
   "source": [
    "$ConfPath = 'H:\\datasource_staging_area'\n",
    "set-location $ConfPath -ea ignore\n",
    "# expanded\n",
    "fd --max-depth 2 --extension ps1 --exec-batch rg -i func\n",
    "| select -first 10\n",
    "\n",
    "# or: fd -d3 -e ps1 -X rg func"
   ]
  },
  {
   "cell_type": "markdown",
   "metadata": {},
   "source": [
    "### all versions seem to work, and parse the same\n",
    "At least in this context. \n",
    "| a| b|\n",
    "|-|-|\n",
    "```ps1\n",
    "fd -e log\n",
    "fd -elog\n",
    "fd --extension log\n",
    "fd --extension=log\n",
    "```\n"
   ]
  },
  {
   "cell_type": "markdown",
   "metadata": {},
   "source": [
    "https://github.com/sharkdp/fd"
   ]
  },
  {
   "cell_type": "markdown",
   "metadata": {},
   "source": []
  },
  {
   "cell_type": "markdown",
   "metadata": {},
   "source": []
  },
  {
   "cell_type": "markdown",
   "metadata": {},
   "source": []
  },
  {
   "cell_type": "markdown",
   "metadata": {},
   "source": []
  },
  {
   "cell_type": "markdown",
   "metadata": {},
   "source": []
  },
  {
   "cell_type": "markdown",
   "metadata": {},
   "source": [
    "`-X`, `--exec-batch`\n",
    "- invokes as one\n",
    "- you also can set set `--batch-size=<size>`"
   ]
  },
  {
   "cell_type": "code",
   "execution_count": null,
   "metadata": {
    "dotnet_interactive": {
     "language": "pwsh"
    },
    "vscode": {
     "languageId": "dotnet-interactive.pwsh"
    }
   },
   "outputs": [
    {
     "name": "stdout",
     "output_type": "stream",
     "text": [
      "\u001b[0m\u001b[36m.\\Downloads\\template-color-test.ps1\u001b[0m:\u001b[0m\u001b[1m\u001b[31mfunc\u001b[0mtion hr {\r\n",
      "\u001b[0m\u001b[36m.\\Downloads\\template-color-test.ps1\u001b[0m:\u001b[0m\u001b[1m\u001b[31mfunc\u001b[0mtion sep {\r\n",
      "\u001b[0m\u001b[36m.\\Downloads\\temp.ps1\u001b[0m:\u001b[0m\u001b[1m\u001b[31mfunc\u001b[0mtion foo {\r\n",
      "\u001b[0m\u001b[36m.\\Downloads\\temp.color.ps1\u001b[0m:\u001b[0m\u001b[1m\u001b[31mfunc\u001b[0mtion print_row_1 () {\r\n",
      "\u001b[0m\u001b[36m.\\Downloads\\temp.color.ps1\u001b[0m:\u001b[0m\u001b[1m\u001b[31mfunc\u001b[0mtion print_row_2 () {\r\n",
      "\u001b[0m\u001b[36m.\\Downloads\\temp.color.ps1\u001b[0m:\u001b[0m\u001b[1m\u001b[31mfunc\u001b[0mtion print_row_3 () {\r\n",
      "\u001b[0m\u001b[36m.\\Downloads\\optional_or_older_iter_of_test_-_mini_test.ps1\u001b[0m:\u001b[0m\u001b[1m\u001b[31mfunc\u001b[0mtion polyH1 {\r\n",
      "\u001b[0m\u001b[36m.\\Downloads\\optional_or_older_iter_of_test_-_mini_test.ps1\u001b[0m:\u001b[0m\u001b[1m\u001b[31mfunc\u001b[0mtion _testColorTemplate {\r\n",
      "\u001b[0m\u001b[36m.\\Downloads\\optional_or_older_iter_of_test_-_mini_test.ps1\u001b[0m:    \u001b[0m\u001b[1m\u001b[31mfunc\u001b[0mtion _Get-CvADUserProperty {\r\n",
      "\u001b[0m\u001b[36m.\\Downloads\\mini_test.ps1\u001b[0m:\u001b[0m\u001b[1m\u001b[31mfunc\u001b[0mtion polyH1 {\r\n"
     ]
    }
   ],
   "source": [
    "set-location $ConfPath -ea ignore\n",
    "\n",
    "# expanded\n",
    "fd --max-depth 2 --extension ps1 --exec-batch rg -i func\n",
    "| select -first 10\n",
    "# fd -d3 -e ps1 -X rg func"
   ]
  },
  {
   "cell_type": "markdown",
   "metadata": {},
   "source": []
  }
 ],
 "metadata": {
  "kernelspec": {
   "display_name": ".NET (PowerShell)",
   "language": "PowerShell",
   "name": ".net-pwsh"
  },
  "language_info": {
   "name": "PowerShell"
  }
 },
 "nbformat": 4,
 "nbformat_minor": 2
}
