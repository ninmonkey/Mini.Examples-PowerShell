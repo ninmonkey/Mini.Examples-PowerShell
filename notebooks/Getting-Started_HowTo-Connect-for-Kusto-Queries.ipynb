{
 "cells": [
  {
   "cell_type": "code",
   "execution_count": null,
   "metadata": {
    "dotnet_interactive": {
     "language": "kql"
    },
    "vscode": {
     "languageId": "dotnet-interactive.kql"
    }
   },
   "outputs": [
    {
     "data": {
      "text/html": [
       "\r\n",
       "<p>A KQL connection has not been established.</p>\r\n",
       "<p>To connect to a database, first add the KQL extension package by running the following in a C# cell:</p>\r\n",
       "<code>\r\n",
       "    <pre>\r\n",
       "    #r \"nuget:Microsoft.DotNet.Interactive.Kql,*-*\"\r\n",
       "    </pre>\r\n",
       "</code>\r\n",
       "Now, you can connect to a Microsoft Kusto Server database by running the following in a C# cell:\r\n",
       "<code>\r\n",
       "    <pre>\r\n",
       "    #!connect kql --kernel-name mydatabase --cluster \"https://help.kusto.windows.net\" --database \"Samples\"\r\n",
       "    </pre>\r\n",
       "</code>\r\n",
       "<p>Once a connection is established, you can send KQL statements by prefixing them with the magic command for your connection.</p>\r\n",
       "<code>\r\n",
       "    <pre>\r\n",
       "    #!kql-mydatabase\r\n",
       "    tableName | take 10\r\n",
       "    </pre>\r\n",
       "</code>\r\n"
      ]
     },
     "metadata": {},
     "output_type": "display_data"
    }
   ],
   "source": [
    "#!kql-KustoHelp"
   ]
  },
  {
   "cell_type": "markdown",
   "metadata": {},
   "source": [
    "This cell needs to run as **CSharp**"
   ]
  },
  {
   "cell_type": "code",
   "execution_count": null,
   "metadata": {
    "dotnet_interactive": {
     "language": "csharp"
    },
    "vscode": {
     "languageId": "dotnet-interactive.csharp"
    }
   },
   "outputs": [
    {
     "data": {
      "text/html": [
       "<div><div></div><div></div><div><strong>Installed Packages</strong><ul><li><span>Microsoft.DotNet.Interactive.Kql, 1.0.0-beta.22310.2</span></li></ul></div></div>"
      ]
     },
     "metadata": {},
     "output_type": "display_data"
    },
    {
     "data": {
      "text/markdown": [
       "Loading extensions from `Microsoft.DotNet.Interactive.Kql.dll`"
      ]
     },
     "metadata": {},
     "output_type": "display_data"
    },
    {
     "data": {
      "text/html": [
       "<details><summary>Query Microsoft Kusto Server databases.</summary>\r\n",
       "        <p>This extension adds support for connecting to Microsoft Kusto Server databases using the <code>#!connect kql</code> magic command. For more information, run a cell using the <code>#!kql</code> magic command.</p>\r\n",
       "        </details>"
      ]
     },
     "metadata": {},
     "output_type": "display_data"
    }
   ],
   "source": [
    "#r \"nuget:Microsoft.DotNet.Interactive.Kql,*-*\""
   ]
  },
  {
   "cell_type": "code",
   "execution_count": null,
   "metadata": {
    "dotnet_interactive": {
     "language": "kql"
    },
    "vscode": {
     "languageId": "dotnet-interactive.kql"
    }
   },
   "outputs": [
    {
     "data": {
      "text/plain": [
       "Kernel added: #!kql-mydatabase"
      ]
     },
     "metadata": {},
     "output_type": "display_data"
    }
   ],
   "source": [
    "#!connect kql --kernel-name mydatabase --cluster \"https://help.kusto.windows.net\" --database \"Samples\""
   ]
  },
  {
   "cell_type": "markdown",
   "metadata": {},
   "source": [
    "This will pop-up a webpage for authentication, then a query"
   ]
  },
  {
   "cell_type": "code",
   "execution_count": null,
   "metadata": {
    "dotnet_interactive": {
     "language": "kql"
    },
    "vscode": {
     "languageId": "dotnet-interactive.kql"
    }
   },
   "outputs": [
    {
     "data": {
      "text/plain": [
       "Commands completed successfully."
      ]
     },
     "metadata": {},
     "output_type": "display_data"
    },
    {
     "data": {
      "text/csv": [
       "State,count_\r\n",
       "TEXAS,4701\r\n",
       "KANSAS,3166\r\n",
       "IOWA,2337\r\n",
       "ILLINOIS,2022\r\n",
       "MISSOURI,2016\r\n"
      ],
      "text/html": [
       "<table><thead><tr><td><span>State</span></td><td><span>count_</span></td></tr></thead><tbody><tr><td>TEXAS</td><td><div class=\"dni-plaintext\">4701</div></td></tr><tr><td>KANSAS</td><td><div class=\"dni-plaintext\">3166</div></td></tr><tr><td>IOWA</td><td><div class=\"dni-plaintext\">2337</div></td></tr><tr><td>ILLINOIS</td><td><div class=\"dni-plaintext\">2022</div></td></tr><tr><td>MISSOURI</td><td><div class=\"dni-plaintext\">2016</div></td></tr></tbody></table>"
      ]
     },
     "metadata": {},
     "output_type": "display_data"
    }
   ],
   "source": [
    "#!kql-mydatabase\n",
    "StormEvents\n",
    "| summarize count() by State\n",
    "| limit 5"
   ]
  },
  {
   "cell_type": "code",
   "execution_count": null,
   "metadata": {
    "dotnet_interactive": {
     "language": "kql"
    },
    "vscode": {
     "languageId": "dotnet-interactive.kql"
    }
   },
   "outputs": [
    {
     "data": {
      "text/plain": [
       "Commands completed successfully."
      ]
     },
     "metadata": {},
     "output_type": "display_data"
    },
    {
     "data": {
      "text/csv": [
       "x,y\r\n",
       "0,0\r\n",
       "0.01,0.009999833334166664\r\n",
       "0.02,0.01999866669333308\r\n",
       "0.03,0.02999550020249566\r\n",
       "0.04,0.03998933418663416\r\n",
       "0.05,0.04997916927067833\r\n",
       "0.06,0.059964006479444595\r\n",
       "0.07,0.06994284733753277\r\n",
       "0.08,0.0799146939691727\r\n",
       "0.09,0.08987854919801104\r\n"
      ],
      "text/html": [
       "<table><thead><tr><td><span>x</span></td><td><span>y</span></td></tr></thead><tbody><tr><td><div class=\"dni-plaintext\">0</div></td><td><div class=\"dni-plaintext\">0</div></td></tr><tr><td><div class=\"dni-plaintext\">0.01</div></td><td><div class=\"dni-plaintext\">0.009999833334166664</div></td></tr><tr><td><div class=\"dni-plaintext\">0.02</div></td><td><div class=\"dni-plaintext\">0.01999866669333308</div></td></tr><tr><td><div class=\"dni-plaintext\">0.03</div></td><td><div class=\"dni-plaintext\">0.02999550020249566</div></td></tr><tr><td><div class=\"dni-plaintext\">0.04</div></td><td><div class=\"dni-plaintext\">0.03998933418663416</div></td></tr><tr><td><div class=\"dni-plaintext\">0.05</div></td><td><div class=\"dni-plaintext\">0.04997916927067833</div></td></tr><tr><td><div class=\"dni-plaintext\">0.06</div></td><td><div class=\"dni-plaintext\">0.059964006479444595</div></td></tr><tr><td><div class=\"dni-plaintext\">0.07</div></td><td><div class=\"dni-plaintext\">0.06994284733753277</div></td></tr><tr><td><div class=\"dni-plaintext\">0.08</div></td><td><div class=\"dni-plaintext\">0.0799146939691727</div></td></tr><tr><td><div class=\"dni-plaintext\">0.09</div></td><td><div class=\"dni-plaintext\">0.08987854919801104</div></td></tr></tbody></table>"
      ]
     },
     "metadata": {},
     "output_type": "display_data"
    }
   ],
   "source": [
    "#!kql-mydatabase\n",
    "range x from 0.0 to 2*pi() step 0.01 | extend y=sin(x) | limit 10 "
   ]
  },
  {
   "cell_type": "code",
   "execution_count": null,
   "metadata": {
    "dotnet_interactive": {
     "language": "kql"
    },
    "vscode": {
     "languageId": "dotnet-interactive.kql"
    }
   },
   "outputs": [
    {
     "data": {
      "text/plain": [
       "Commands completed successfully."
      ]
     },
     "metadata": {},
     "output_type": "display_data"
    },
    {
     "data": {
      "text/csv": [
       "StartTime,EndTime,EpisodeId,EventId,State,EventType,InjuriesDirect,InjuriesIndirect,DeathsDirect,DeathsIndirect,DamageProperty,DamageCrops,Source,BeginLocation,EndLocation,BeginLat,BeginLon,EndLat,EndLon,StormSummary\r\n",
       "2007-09-29T08:11:00.0000000,2007-09-29T08:11:00.0000000,11091,61032,ATLANTIC SOUTH,Waterspout,0,0,0,0,0,0,Trained Spotter,MELBOURNE BEACH,MELBOURNE BEACH,28.0393,-80.6048,28.0393,-80.6048,\r\n",
       "2007-09-18T20:00:00.0000000,2007-09-19T18:00:00.0000000,11074,60904,FLORIDA,Heavy Rain,0,0,0,0,0,0,Trained Spotter,ORMOND BEACH,NEW SMYRNA BEACH,29.28,-81.05,29.02,-80.93,\r\n",
       "2007-09-20T21:57:00.0000000,2007-09-20T22:05:00.0000000,11078,60913,FLORIDA,Tornado,0,0,0,0,6200000,0,NWS Storm Survey,EUSTIS,EUSTIS,28.8368,-81.6763,28.8628,-81.6846,\r\n"
      ],
      "text/html": [
       "<table><thead><tr><td><span>StartTime</span></td><td><span>EndTime</span></td><td><span>EpisodeId</span></td><td><span>EventId</span></td><td><span>State</span></td><td><span>EventType</span></td><td><span>InjuriesDirect</span></td><td><span>InjuriesIndirect</span></td><td><span>DeathsDirect</span></td><td><span>DeathsIndirect</span></td><td><span>DamageProperty</span></td><td><span>DamageCrops</span></td><td><span>Source</span></td><td><span>BeginLocation</span></td><td><span>EndLocation</span></td><td><span>BeginLat</span></td><td><span>BeginLon</span></td><td><span>EndLat</span></td><td><span>EndLon</span></td><td><span>StormSummary</span></td></tr></thead><tbody><tr><td><span>2007-09-29 08:11:00Z</span></td><td><span>2007-09-29 08:11:00Z</span></td><td><div class=\"dni-plaintext\">11091</div></td><td><div class=\"dni-plaintext\">61032</div></td><td>ATLANTIC SOUTH</td><td>Waterspout</td><td><div class=\"dni-plaintext\">0</div></td><td><div class=\"dni-plaintext\">0</div></td><td><div class=\"dni-plaintext\">0</div></td><td><div class=\"dni-plaintext\">0</div></td><td><div class=\"dni-plaintext\">0</div></td><td><div class=\"dni-plaintext\">0</div></td><td>Trained Spotter</td><td>MELBOURNE BEACH</td><td>MELBOURNE BEACH</td><td><div class=\"dni-plaintext\">28.0393</div></td><td><div class=\"dni-plaintext\">-80.6048</div></td><td><div class=\"dni-plaintext\">28.0393</div></td><td><div class=\"dni-plaintext\">-80.6048</div></td><td><div class=\"dni-plaintext\">&lt;null&gt;</div></td></tr><tr><td><span>2007-09-18 20:00:00Z</span></td><td><span>2007-09-19 18:00:00Z</span></td><td><div class=\"dni-plaintext\">11074</div></td><td><div class=\"dni-plaintext\">60904</div></td><td>FLORIDA</td><td>Heavy Rain</td><td><div class=\"dni-plaintext\">0</div></td><td><div class=\"dni-plaintext\">0</div></td><td><div class=\"dni-plaintext\">0</div></td><td><div class=\"dni-plaintext\">0</div></td><td><div class=\"dni-plaintext\">0</div></td><td><div class=\"dni-plaintext\">0</div></td><td>Trained Spotter</td><td>ORMOND BEACH</td><td>NEW SMYRNA BEACH</td><td><div class=\"dni-plaintext\">29.28</div></td><td><div class=\"dni-plaintext\">-81.05</div></td><td><div class=\"dni-plaintext\">29.02</div></td><td><div class=\"dni-plaintext\">-80.93</div></td><td><div class=\"dni-plaintext\">&lt;null&gt;</div></td></tr><tr><td><span>2007-09-20 21:57:00Z</span></td><td><span>2007-09-20 22:05:00Z</span></td><td><div class=\"dni-plaintext\">11078</div></td><td><div class=\"dni-plaintext\">60913</div></td><td>FLORIDA</td><td>Tornado</td><td><div class=\"dni-plaintext\">0</div></td><td><div class=\"dni-plaintext\">0</div></td><td><div class=\"dni-plaintext\">0</div></td><td><div class=\"dni-plaintext\">0</div></td><td><div class=\"dni-plaintext\">6200000</div></td><td><div class=\"dni-plaintext\">0</div></td><td>NWS Storm Survey</td><td>EUSTIS</td><td>EUSTIS</td><td><div class=\"dni-plaintext\">28.8368</div></td><td><div class=\"dni-plaintext\">-81.6763</div></td><td><div class=\"dni-plaintext\">28.8628</div></td><td><div class=\"dni-plaintext\">-81.6846</div></td><td><div class=\"dni-plaintext\">&lt;null&gt;</div></td></tr></tbody></table>"
      ]
     },
     "metadata": {},
     "output_type": "display_data"
    }
   ],
   "source": [
    "#!kql-mydatabase\n",
    "StormEvents\n",
    "| project-away *Narrative\n",
    "| where StartTime >= datetime(2007-09-18T20:00:00.000Z) \n",
    "| limit 3"
   ]
  }
 ],
 "metadata": {
  "kernelspec": {
   "display_name": ".NET (C#)",
   "language": "C#",
   "name": ".net-csharp"
  },
  "language_info": {
   "file_extension": ".cs",
   "mimetype": "text/x-csharp",
   "name": "C#",
   "pygments_lexer": "csharp",
   "version": "9.0"
  },
  "orig_nbformat": 4
 },
 "nbformat": 4,
 "nbformat_minor": 2
}
