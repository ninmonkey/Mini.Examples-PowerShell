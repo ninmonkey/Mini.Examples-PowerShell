{
 "cells": [
  {
   "cell_type": "code",
   "execution_count": null,
   "metadata": {
    "dotnet_interactive": {
     "language": "pwsh"
    },
    "vscode": {
     "languageId": "dotnet-interactive.pwsh"
    }
   },
   "outputs": [
    {
     "name": "stdout",
     "output_type": "stream",
     "text": [
      "\r\n",
      "\u001b[32;1mName        : \u001b[0mugit\r\n",
      "\u001b[32;1mVersion     : \u001b[0m0.2.3\r\n",
      "\u001b[32;1mDescription : \u001b[0mugit:  Updated Git.\r\n",
      "\u001b[32;1m              \u001b[0m\r\n",
      "\u001b[32;1m              \u001b[0mA powerful PowerShell wrapper for git that lets you extend git, automate multiple \r\n",
      "              \u001b[32;1m\u001b[0mrepos, and use the object pipeline.\r\n",
      "\r\n",
      "\r\n"
     ]
    }
   ],
   "source": [
    "Import-Module 'ugit' -ea stop -passthru | select Name, Version, Description | fl\n",
    "\n"
   ]
  },
  {
   "cell_type": "code",
   "execution_count": null,
   "metadata": {
    "dotnet_interactive": {
     "language": "pwsh"
    },
    "vscode": {
     "languageId": "dotnet-interactive.pwsh"
    }
   },
   "outputs": [],
   "source": [
    "Set-Location \"$Env:UserProfile/SkyDrive/Documents/2022/Pwsh/my_Github/proto.nin\""
   ]
  },
  {
   "cell_type": "code",
   "execution_count": null,
   "metadata": {
    "dotnet_interactive": {
     "language": "pwsh"
    },
    "vscode": {
     "languageId": "dotnet-interactive.pwsh"
    }
   },
   "outputs": [
    {
     "name": "stdout",
     "output_type": "stream",
     "text": [
      "\r\n",
      "\u001b[32;1mFullName      : \u001b[0mC:\\Users\\cppmo_000\\SkyDrive\\Documents\\2022\\Pwsh\\my_Github\\proto.nin\\ideas.attribute\r\n",
      "                \u001b[32;1m\u001b[0ms.md\r\n",
      "\u001b[32;1mLastWriteTime : \u001b[0m7/9/2022 8:14:09 PM\r\n",
      "\r\n",
      "\u001b[32;1mFullName      : \u001b[0mC:\\Users\\cppmo_000\\SkyDrive\\Documents\\2022\\Pwsh\\my_Github\\proto.nin\\src\\other\\\r\n",
      "\u001b[32;1mLastWriteTime : \u001b[0m7/9/2022 8:02:51 PM\r\n",
      "\r\n",
      "\r\n"
     ]
    }
   ],
   "source": [
    "(git status).Untracked\n",
    "| ? LastWriteTime -gt ((get-date).AddDays(-2))\n",
    "| fl FullName, LastWriteTime"
   ]
  },
  {
   "cell_type": "markdown",
   "metadata": {},
   "source": [
    "## Preview files from the query, in the console \n",
    "\n",
    "```ps1\n",
    "(git status).Untracked\n",
    "| ? LastWriteTime -gt ((get-date).AddDays( -2 ))\n",
    "| ?{ -not ( Test-IsDirectory -InputObject $_) }\n",
    "| batPreview\n",
    "```\n",
    "\n",
    "## Optionally pipe selected files to `git add`\n",
    "\n",
    "```ps1\n",
    "(git status).Untracked\n",
    "| ? LastWriteTime -gt ((get-date).AddDays( -2 ))\n",
    "| ?{ -not ( Test-IsDirectory -InputObject $_) }\n",
    "| batPreview\n",
    "| git add\n",
    "\n",
    "git commit -m 'message'\n",
    "```\n",
    "\n"
   ]
  },
  {
   "cell_type": "code",
   "execution_count": null,
   "metadata": {
    "dotnet_interactive": {
     "language": "pwsh"
    },
    "vscode": {
     "languageId": "dotnet-interactive.pwsh"
    }
   },
   "outputs": [],
   "source": [
    "Get-ChildItem . *.ipynb | git add"
   ]
  },
  {
   "cell_type": "markdown",
   "metadata": {},
   "source": [
    "\n",
    "```ps1\n",
    "Pwsh🐒> Get-ChildItem . *.ipynb | git add\n",
    "#or\n",
    "Pwsh🐒> fd -e ipynb | git add | git add\n",
    "```\n",
    "```\n",
    "warning: LF will be replaced by CRLF in notebooks/module/uGit-native-git-extensions.ipynb.\n",
    "The file will have its original line endings in your working directory\n",
    "```"
   ]
  },
  {
   "cell_type": "code",
   "execution_count": null,
   "metadata": {
    "dotnet_interactive": {
     "language": "pwsh"
    },
    "vscode": {
     "languageId": "dotnet-interactive.pwsh"
    }
   },
   "outputs": [
    {
     "name": "stdout",
     "output_type": "stream",
     "text": [
      "\r\n",
      "   GitRoot: C:\\Users\\cppmo_000\\SkyDrive\\Documents\\2022\\Pwsh\\my_Github\\proto.nin\r\n",
      "\r\n",
      "On Branch: \u001b[1;36m\u001b[1;36m\u001b[39m\u001b[1;33mmain\u001b[1;33m\u001b[39m\r\n",
      "Your branch is ahead of 'origin/main' by 12 commits.\r\n",
      "Changes Not Staged For Commit:\r\n",
      "  (use git add <file> to add, git restore <file> to discard changes)\r\n",
      "    \r\n",
      "    \u001b[32;1mChangeType Path\u001b[0m\r\n",
      "    \u001b[32;1m---------- ----\u001b[0m\r\n",
      "    modified   buff/Start-CollectMemoryUsageStats.ps1\r\n",
      "    modified   buff/attribute-validateFileExitsting.ps1\r\n",
      "    modified   buff/generators_icolor.ps1\r\n",
      "    modified   buff/generators_iint.ps1\r\n",
      "    modified   proto-nin.code-workspace\r\n",
      "    modified   src/Attribute_ResolvedPath.ps1\r\n",
      "    modified   src/buff/inspect-command-parameters-attribute.ps1\r\n",
      "    modified   src/public/text/slice-string.tests.ps1\r\n",
      "    modified   src/text/invoke-ssms.ps1\r\n",
      "    \r\n",
      "    \r\n",
      "Untracked Files:\r\n",
      "  (use git add <file> to include in commit)\r\n",
      "    \r\n",
      "        Directory: C:\\Users\\cppmo_000\\SkyDrive\\Documents\\2022\\Pwsh\\my_Github\\proto.nin\\buff\r\n",
      "    \r\n",
      "    \u001b[32;1mMode                 LastWriteTime         Length Name\u001b[0m\r\n",
      "    \u001b[32;1m----                 -------------         ------ ----\u001b[0m\r\n",
      "    la---            7/2/2022 12:23 PM                WIP\r\n",
      "    la---            7/5/2022 11:38 AM           1065 Write-FunctionError.ps1\r\n",
      "    la---           6/20/2022  4:13 PM                first\r\n",
      "    la---           6/20/2022  4:17 PM                longest_shared_string\r\n",
      "    \r\n",
      "        Directory: C:\\Users\\cppmo_000\\SkyDrive\\Documents\\2022\\Pwsh\\my_Github\\proto.nin\\buff\\ref\r\n",
      "    \r\n",
      "    \u001b[32;1mMode                 LastWriteTime         Length Name\u001b[0m\r\n",
      "    \u001b[32;1m----                 -------------         ------ ----\u001b[0m\r\n",
      "    la---           6/19/2022  9:38 PM            574 FixTable -- multiple-ft-wrappers.ps1\r\n",
      "    \r\n",
      "        Directory: C:\\Users\\cppmo_000\\SkyDrive\\Documents\\2022\\Pwsh\\my_Github\\proto.nin\\buff\r\n",
      "    \r\n",
      "    \u001b[32;1mMode                 LastWriteTime         Length Name\u001b[0m\r\n",
      "    \u001b[32;1m----                 -------------         ------ ----\u001b[0m\r\n",
      "    la---           6/20/2022  4:31 PM                string\r\n",
      "    la---           6/29/2022  9:49 PM                to_filter\r\n",
      "    \r\n",
      "        Directory: C:\\Users\\cppmo_000\\SkyDrive\\Documents\\2022\\Pwsh\\my_Github\\proto.nin\r\n",
      "    \r\n",
      "    \u001b[32;1mMode                 LastWriteTime         Length Name\u001b[0m\r\n",
      "    \u001b[32;1m----                 -------------         ------ ----\u001b[0m\r\n",
      "    la---            7/9/2022  8:14 PM           1609 ideas.attributes.md\r\n",
      "    \r\n",
      "        Directory: C:\\Users\\cppmo_000\\SkyDrive\\Documents\\2022\\Pwsh\\my_Github\\proto.nin\\src\r\n",
      "    \r\n",
      "    \u001b[32;1mMode                 LastWriteTime         Length Name\u001b[0m\r\n",
      "    \u001b[32;1m----                 -------------         ------ ----\u001b[0m\r\n",
      "    la---           6/28/2022  9:20 PM                format\r\n",
      "    la---           6/27/2022  9:57 AM                io\r\n",
      "    la---            7/1/2022  2:21 PM                note.util_sketch\r\n",
      "    la---            7/9/2022  8:02 PM                other\r\n",
      "    \r\n",
      "        Directory: \r\n",
      "    C:\\Users\\cppmo_000\\SkyDrive\\Documents\\2022\\Pwsh\\my_Github\\proto.nin\\src\\public\r\n",
      "    \r\n",
      "    \u001b[32;1mMode                 LastWriteTime         Length Name\u001b[0m\r\n",
      "    \u001b[32;1m----                 -------------         ------ ----\u001b[0m\r\n",
      "    la---           6/19/2022  7:11 PM                cli-everythingSearch\r\n",
      "    la---           6/15/2022  1:30 PM                io\r\n",
      "    \r\n",
      "        Directory: C:\\Users\\cppmo_000\\SkyDrive\\Documents\\2022\\Pwsh\\my_Github\\proto.nin\\src\\text\r\n",
      "    \r\n",
      "    \u001b[32;1mMode                 LastWriteTime         Length Name\u001b[0m\r\n",
      "    \u001b[32;1m----                 -------------         ------ ----\u001b[0m\r\n",
      "    la---           6/20/2022  4:10 PM           1196 _fmt_asHexByteStr.proto.ps1\r\n",
      "    la---           6/20/2022  4:10 PM           1364 _fmt_asHexByteStr.proto.tests.ps1\r\n",
      "    la---           6/28/2022  2:20 PM           4585 temp-text.dump.ps1\r\n",
      "    \r\n",
      "    Nothing to commit, working tree clean\r\n",
      "\r\n"
     ]
    }
   ],
   "source": [
    "git status | Select -first 30"
   ]
  },
  {
   "cell_type": "markdown",
   "metadata": {},
   "source": []
  }
 ],
 "metadata": {
  "kernelspec": {
   "display_name": ".NET (PowerShell)",
   "language": "PowerShell",
   "name": ".net-pwsh"
  },
  "language_info": {
   "name": "PowerShell"
  }
 },
 "nbformat": 4,
 "nbformat_minor": 2
}
