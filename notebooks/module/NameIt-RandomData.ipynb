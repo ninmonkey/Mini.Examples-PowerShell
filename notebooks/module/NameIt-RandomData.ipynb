{
 "cells": [
  {
   "cell_type": "code",
   "execution_count": null,
   "metadata": {
    "dotnet_interactive": {
     "language": "pwsh"
    },
    "vscode": {
     "languageId": "dotnet-interactive.pwsh"
    }
   },
   "outputs": [
    {
     "name": "stdout",
     "output_type": "stream",
     "text": [
      "last executed: 2022-07-04 10:05:10Z\r\n",
      "NameIt 2.3.2\r\n",
      "Pwsh: 7.2.4\r\n",
      "Invoke-Generate, New-NameItTemplate\r\n",
      "fin NameIt\r\n",
      "fin NameIt 2.3.2\r\n"
     ]
    }
   ],
   "source": [
    "# ignore this section, written to be short as possible\n",
    "function Csv { \n",
    "    param(\n",
    "        <# prefix string #>[Alias('op')][Parameter(Position=0)]$Prefix = '',\n",
    "        <# suffix string #> [Alias('os')][Parameter(Position=1)]$Suffix = '',\n",
    "        <# suffix property #> [Alias('Prop')][Parameter()]$PropertyName = $Null,\n",
    "        <# Actual Pipe #>[Parameter(ValueFromPipeline, Mandatory)][object[]]$InputObject\n",
    "    )\n",
    "    begin {\n",
    "        $items = [System.Collections.Generic.list[object]]::new()\n",
    "    }\n",
    "    process {\n",
    "        foreach($cur in $InputObject) { $Items.add($cur)}\n",
    "    } \n",
    "    end {\n",
    "        $splat = @{} ; if($PropertyName) { $splat.Property = $PropertyName }\n",
    "        $Items | Join-String -sep ', ' -op:$Prefix -os $Suffix @splat\n",
    "    }\n",
    "}\n",
    "('last executed: {0}' -f @((get-date).tostring('u')))\n",
    "Import-Module NameIt -ea stop -passthru | Join-String { $_.Name, $_.Version } -sep ', '\n",
    "$PSVersionTable | join-string -op 'Pwsh: ' -Property PSVersion\n",
    "Get-Command -m NameIT | Join-String -sep ', ' Name\n",
    "\n",
    "\n",
    "Import-Module NameIt -ea stop -passthru | Csv -op 'fin ' -prop Name\n",
    "Import-Module NameIt -ea stop -passthru | Csv -op 'fin ' -prop { $_.Name, $_.Version }\n",
    "\n"
   ]
  },
  {
   "cell_type": "markdown",
   "metadata": {
    "dotnet_interactive": {
     "language": "pwsh"
    }
   },
   "source": [
    "<a name='nb-top' href='#'>Top</a>\n",
    "### Using [github.com/dfinke/NameIt](https://github.com/dfinke/NameIt)\n",
    "<!-- - <a href='#nb-item-1'>Empty File</a>\n",
    "- [Load Column, Row, hashtable](https://github.com/dfinke/ImportExcel/blob/master/FAQ/How%20to%20Read%20an%20Existing%20Excel%20File.md#other-common-operations) -->"
   ]
  },
  {
   "cell_type": "code",
   "execution_count": null,
   "metadata": {
    "dotnet_interactive": {
     "language": "pwsh"
    },
    "vscode": {
     "languageId": "dotnet-interactive.pwsh"
    }
   },
   "outputs": [
    {
     "name": "stdout",
     "output_type": "stream",
     "text": [
      "     [name], [color] = name, orange\r\n",
      "     [name], [color] = name, red\r\n",
      "     [name], [color] = name, crimson\r\n",
      "     [name], [color] = name, khaki\r\n",
      "           [address] = 600 Roofruekcin Trailer\r\n",
      "           [address] = 2749 Foso Underpass\r\n",
      "           [address] = 12936 Qigdazufurdec Cen\r\n",
      "           [address] = 464 Qaonipfoxa Path\r\n",
      "                #### = 9619\r\n",
      "                #### = 5312\r\n",
      "                #### = 6370\r\n",
      "                #### = 5205\r\n",
      "     ??-###-####-?## = pk-023-0335-b99\r\n",
      "     ??-###-####-?## = vl-502-4303-v26\r\n",
      "     ??-###-####-?## = zu-853-2163-s89\r\n",
      "     ??-###-####-?## = dq-401-6036-r29\r\n"
     ]
    }
   ],
   "source": [
    "$Templates = @(\n",
    "    '[name], [color]'\n",
    "    '[address]'\n",
    "    '####'\n",
    "    '??-###-####-?##'\n",
    ")\n",
    "$Templates | %{ \n",
    "    foreach($i in 0..3) { \n",
    "    @(\n",
    "        $_.PadLeft(20)\n",
    "        ig $_\n",
    "    ) -join ' = '\n",
    "    }\n",
    "}"
   ]
  },
  {
   "cell_type": "code",
   "execution_count": null,
   "metadata": {
    "dotnet_interactive": {
     "language": "pwsh"
    },
    "vscode": {
     "languageId": "dotnet-interactive.pwsh"
    }
   },
   "outputs": [
    {
     "name": "stdout",
     "output_type": "stream",
     "text": [
      "\u001b[91mCsv: \r\n",
      "\u001b[96mLine |\r\n",
      "\u001b[96m   3 | \u001b[0m Invoke-Generate -alpha 'abc' -count 3 | \u001b[96mCsv 'abc: '\u001b[0m\r\n",
      "\u001b[96m     | \u001b[91m                                         ~~~~~~~~~~~\r\n",
      "\u001b[91m\u001b[96m     | \u001b[91mThe input object cannot be bound to any parameters for the command either because the command does not take pipeline input or the input and its properties do not match any of the parameters that take pipeline input.\u001b[0m\r\n",
      "\u001b[91mCsv: \r\n",
      "\u001b[96mLine |\r\n",
      "\u001b[96m   3 | \u001b[0m Invoke-Generate -alpha 'abc' -count 3 | \u001b[96mCsv 'abc: '\u001b[0m\r\n",
      "\u001b[96m     | \u001b[91m                                         ~~~~~~~~~~~\r\n",
      "\u001b[91m\u001b[96m     | \u001b[91mThe input object cannot be bound to any parameters for the command either because the command does not take pipeline input or the input and its properties do not match any of the parameters that take pipeline input.\u001b[0m\r\n",
      "\u001b[91mCsv: \r\n",
      "\u001b[96mLine |\r\n",
      "\u001b[96m   3 | \u001b[0m Invoke-Generate -alpha 'abc' -count 3 | \u001b[96mCsv 'abc: '\u001b[0m\r\n",
      "\u001b[96m     | \u001b[91m                                         ~~~~~~~~~~~\r\n",
      "\u001b[91m\u001b[96m     | \u001b[91mThe input object cannot be bound to any parameters for the command either because the command does not take pipeline input or the input and its properties do not match any of the parameters that take pipeline input.\u001b[0m\r\n",
      "abc: \r\n",
      "\u001b[91mCsv: \r\n",
      "\u001b[96mLine |\r\n",
      "\u001b[96m   5 | \u001b[0m Invoke-Generate -count 5 \"[synonym cafe]_[syllable][syllable]\" | \u001b[96mcsv\u001b[0m\r\n",
      "\u001b[96m     | \u001b[91m                                                                  ~~~\r\n",
      "\u001b[91m\u001b[96m     | \u001b[91mThe input object cannot be bound to any parameters for the command either because the command does not take pipeline input or the input and its properties do not match any of the parameters that take pipeline input.\u001b[0m\r\n",
      "\u001b[91mCsv: \r\n",
      "\u001b[96mLine |\r\n",
      "\u001b[96m   5 | \u001b[0m Invoke-Generate -count 5 \"[synonym cafe]_[syllable][syllable]\" | \u001b[96mcsv\u001b[0m\r\n",
      "\u001b[96m     | \u001b[91m                                                                  ~~~\r\n",
      "\u001b[91m\u001b[96m     | \u001b[91mThe input object cannot be bound to any parameters for the command either because the command does not take pipeline input or the input and its properties do not match any of the parameters that take pipeline input.\u001b[0m\r\n",
      "\u001b[91mCsv: \r\n",
      "\u001b[96mLine |\r\n",
      "\u001b[96m   5 | \u001b[0m Invoke-Generate -count 5 \"[synonym cafe]_[syllable][syllable]\" | \u001b[96mcsv\u001b[0m\r\n",
      "\u001b[96m     | \u001b[91m                                                                  ~~~\r\n",
      "\u001b[91m\u001b[96m     | \u001b[91mThe input object cannot be bound to any parameters for the command either because the command does not take pipeline input or the input and its properties do not match any of the parameters that take pipeline input.\u001b[0m\r\n",
      "\u001b[91mCsv: \r\n",
      "\u001b[96mLine |\r\n",
      "\u001b[96m   5 | \u001b[0m Invoke-Generate -count 5 \"[synonym cafe]_[syllable][syllable]\" | \u001b[96mcsv\u001b[0m\r\n",
      "\u001b[96m     | \u001b[91m                                                                  ~~~\r\n",
      "\u001b[91m\u001b[96m     | \u001b[91mThe input object cannot be bound to any parameters for the command either because the command does not take pipeline input or the input and its properties do not match any of the parameters that take pipeline input.\u001b[0m\r\n",
      "\u001b[91mCsv: \r\n",
      "\u001b[96mLine |\r\n",
      "\u001b[96m   5 | \u001b[0m Invoke-Generate -count 5 \"[synonym cafe]_[syllable][syllable]\" | \u001b[96mcsv\u001b[0m\r\n",
      "\u001b[96m     | \u001b[91m                                                                  ~~~\r\n",
      "\u001b[91m\u001b[96m     | \u001b[91mThe input object cannot be bound to any parameters for the command either because the command does not take pipeline input or the input and its properties do not match any of the parameters that take pipeline input.\u001b[0m\r\n",
      "\r\n"
     ]
    }
   ],
   "source": [
    "\n",
    "#from the docs\n",
    "Invoke-Generate -alpha 'abc' -count 3 | Csv 'abc: '\n",
    "\n",
    "Invoke-Generate -count 5 \"[synonym cafe]_[syllable][syllable]\" | csv"
   ]
  },
  {
   "cell_type": "markdown",
   "metadata": {},
   "source": [
    "<a href='#nb-top'>Go Top</a>\n",
    "- [Plot](https://github.com/dfinke/ImportExcel/blob/master/Examples/Charts/plot.ps1)\n",
    "\n",
    "<h4 id='nb-bottom'>See More</h4>\n",
    "See more:\n",
    "- Works well with [dfinke/ImportExcel](https://github.com/dfinke/ImportExcel)\n",
    "- repo: [dfinke/NameIt](https://github.com/dfinke/NameIt)\n",
    "  "
   ]
  },
  {
   "cell_type": "code",
   "execution_count": null,
   "metadata": {
    "dotnet_interactive": {
     "language": "pwsh"
    },
    "vscode": {
     "languageId": "dotnet-interactive.pwsh"
    }
   },
   "outputs": [],
   "source": []
  }
 ],
 "metadata": {
  "kernelspec": {
   "display_name": ".NET (PowerShell)",
   "language": "PowerShell",
   "name": ".net-pwsh"
  },
  "language_info": {
   "name": "PowerShell"
  }
 },
 "nbformat": 4,
 "nbformat_minor": 2
}
