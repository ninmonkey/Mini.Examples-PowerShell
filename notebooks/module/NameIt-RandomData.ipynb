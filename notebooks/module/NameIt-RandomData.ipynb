{
 "cells": [
  {
   "cell_type": "code",
   "execution_count": null,
   "metadata": {
    "dotnet_interactive": {
     "language": "pwsh"
    },
    "vscode": {
     "languageId": "dotnet-interactive.pwsh"
    }
   },
   "outputs": [
    {
     "name": "stdout",
     "output_type": "stream",
     "text": [
      "last executed: 2022-07-04 11:05:48Z\r\n",
      "modules = NameIt 2.3.2\r\n",
      "modules = \n",
      " - NameIt 2.3.2\n",
      "\r\n",
      "Pwsh: 7.2.4\r\n",
      "NameIt Commands = Invoke-Generate, New-NameItTemplate\r\n",
      "NameIt Commands = \n",
      " - Invoke-Generate\n",
      " - New-NameItTemplate\n",
      "\r\n"
     ]
    }
   ],
   "source": [
    "# ignore this section, written to be short as possible\n",
    "function nb.JoinCsv { \n",
    "    [Alias('Csv', 'UL')]\n",
    "    [cmdletbinding()]\n",
    "    param(\n",
    "        <# prefix string #>[Alias('op')][Parameter(Position=0)]$Prefix = '',\n",
    "        <# suffix string #> [Alias('os')][Parameter(Position=1)]$Suffix = '',\n",
    "        <# suffix string #> [Alias('Sep')][Parameter()]$Separator = ', ',\n",
    "        <# suffix property #> [Alias('Prop', 'P')][Parameter()]$PropertyName = $Null,\n",
    "        <# Actual Pipe #>[Parameter(ValueFromPipeline, Mandatory)][object[]]$InputObject,\n",
    "        [switch]$Sort, [switch]$Unique, [int]$Pad = 0\n",
    "        # [switch]$Qoute\n",
    "    )\n",
    "    begin {\n",
    "        $items = [System.Collections.Generic.list[object]]::new()\n",
    "    }\n",
    "    process {\n",
    "        foreach($cur in $InputObject) { $Items.add($cur)}\n",
    "    } \n",
    "    end {\n",
    "        $isUL = $PSCmdlet.MyInvocation.InvocationName -eq 'UL'\n",
    "\n",
    "        $padding = \"`n\" * $Pad -join ''\n",
    "        $Prefix = $Padding + $Prefix\n",
    "        $Suffix = $Suffix + $Padding\n",
    "\n",
    "        \n",
    "        if($False -and 'original UL' -and $IsUL) {             \n",
    "                $Prefix = $Prefix + \"`n - \"\n",
    "                $Suffix = \"`n - \" + $Suffix\n",
    "                $Separator = \"`n - \"\n",
    "        }\n",
    "        if($IsUL) {             \n",
    "            if( (-not $Separator) -or $Separator -eq ', ') {\n",
    "                $Separator = ' - '    \n",
    "            }\n",
    "            $Prefix = $Prefix + \"`n${Separator}\"\n",
    "            $Suffix = \"`n\" + $Suffix\n",
    "            # $Suffix = \"`n${Separator}\" + $Suffix # was\n",
    "            $Separator = \"`n${Separator}\"\n",
    "        }\n",
    "        \n",
    "        $splat = @{  'sep' = $Separator ; 'op' =  $Prefix ; 'os' = $Suffix }\n",
    "        $IsRawText = $items[0] -is 'string'\n",
    "        write-debug $IsRawText\n",
    "        \n",
    "        $filtered = if($Unique) { $Items | Sort -Unique }\n",
    "        elseif($Sort) { $Items | sort }\n",
    "        else { $items } \n",
    "\n",
    "        if($PropertyName -and (! $IsRawText)) { \n",
    "            $filtered | Join-String @splat -Prop $PropertyName\n",
    "            # $Items | Join-String -sep ', ' -op:$Prefix -os $Suffix -Prop $PropertyName\n",
    "        } else {\n",
    "            $filtered | Join-String @splat\n",
    "            # $Items | Join-String -sep ', ' -op:$Prefix -os $Suffix\n",
    "        }\n",
    "    }\n",
    "}\n",
    "\n",
    "('last executed: {0}' -f @((get-date).tostring('u')))\n",
    "Import-Module NameIt -ea stop -passthru | Csv -Prop { $_.Name, $_.Version } -op 'modules = '\n",
    "Import-Module NameIt -ea stop -passthru | Ul -Prop { $_.Name, $_.Version } -op 'modules = '\n",
    "$PSVersionTable | join-string -op 'Pwsh: ' -Property PSVersion\n",
    "Get-Command -m NameIT | Csv -prop Name -op 'NameIt Commands = '\n",
    "Get-Command -m NameIT | ul -prop Name -op 'NameIt Commands = '\n",
    "\n"
   ]
  },
  {
   "cell_type": "markdown",
   "metadata": {
    "dotnet_interactive": {
     "language": "pwsh"
    }
   },
   "source": [
    "<a name='nb-top' href='#'>Top</a>\n",
    "### Using [github.com/dfinke/NameIt](https://github.com/dfinke/NameIt)\n",
    "<!-- - <a href='#nb-item-1'>Empty File</a>\n",
    "- [Load Column, Row, hashtable](https://github.com/dfinke/ImportExcel/blob/master/FAQ/How%20to%20Read%20an%20Existing%20Excel%20File.md#other-common-operations) -->"
   ]
  },
  {
   "cell_type": "code",
   "execution_count": null,
   "metadata": {
    "dotnet_interactive": {
     "language": "pwsh"
    },
    "vscode": {
     "languageId": "dotnet-interactive.pwsh"
    }
   },
   "outputs": [
    {
     "name": "stdout",
     "output_type": "stream",
     "text": [
      "   [person], [color] = Siena Dillon, green\r\n",
      "   [person], [color] = Robert Allen, crimson\r\n",
      "   [person], [color] = Maverick Terrell, crimson\r\n",
      "   [person], [color] = Braiden Bright, yellow\r\n",
      "           [address] = 10878 Bitrodsavaqji Div\r\n",
      "           [address] = 7512 Ofumlip Streets\r\n",
      "           [address] = 553 Deumsuklat Mntain\r\n",
      "           [address] = 297 Arwek Ext\r\n",
      "[synonym cafe]_[syllable][syllable] = coffeeshop_zooj\r\n",
      "[synonym cafe]_[syllable][syllable] = coffeehouse_qooq\r\n",
      "[synonym cafe]_[syllable][syllable] = eatinghouse_vaec\r\n",
      "[synonym cafe]_[syllable][syllable] = coffeeshop_leex\r\n",
      "                #### = 0570\r\n",
      "                #### = 2994\r\n",
      "                #### = 9545\r\n",
      "                #### = 1271\r\n",
      "     ??-###-####-?## = yc-919-0069-o93\r\n",
      "     ??-###-####-?## = jb-349-8177-d83\r\n",
      "     ??-###-####-?## = uy-972-8164-l42\r\n",
      "     ??-###-####-?## = vg-187-1397-o94\r\n"
     ]
    }
   ],
   "source": [
    "$Templates = @(\n",
    "    '[person], [color]'\n",
    "    '[address]'\n",
    "    '[synonym cafe]_[syllable][syllable]'\n",
    "    '####'\n",
    "    '??-###-####-?##'\n",
    ")\n",
    "$Templates | %{ \n",
    "    foreach($i in 0..3) { \n",
    "    @(\n",
    "        $_.PadLeft(20)\n",
    "        ig $_\n",
    "    ) -join ' = '\n",
    "    }\n",
    "}\n"
   ]
  },
  {
   "cell_type": "code",
   "execution_count": null,
   "metadata": {
    "dotnet_interactive": {
     "language": "pwsh"
    },
    "vscode": {
     "languageId": "dotnet-interactive.pwsh"
    }
   },
   "outputs": [
    {
     "name": "stdout",
     "output_type": "stream",
     "text": [
      "Template = \"[person], [color]\"\r\n",
      "\n",
      " Jaylynn Morris, yellow\n",
      " Walter Gentry, purple\n",
      " Cailyn Davidson, white\n",
      " Paityn Grant, amber\n",
      " \r\n",
      "Template = \"[address]\"\r\n",
      "\n",
      " 245 Tugotupugit Freeway\n",
      " 57800 Boix Overpass\n",
      " 141 Beraquje Knl\n",
      " 812 Meokduy Plaza\n",
      " \r\n",
      "Template = \"[synonym cafe]_[syllable][syllable]\"\r\n",
      "\n",
      " coffeehouse_seqin\n",
      " eatingplace_fifbu\n",
      " coffeeshop_nidoc\n",
      " coffeeshop_naoh\n",
      " \r\n",
      "Template = \"####\"\r\n",
      "\n",
      " 1410\n",
      " 7055\n",
      " 5317\n",
      " 4096\n",
      " \r\n",
      "Template = \"??-###-####-?##\"\r\n",
      "\n",
      " gl-427-6805-m01\n",
      " ue-806-6528-t07\n",
      " gd-112-6016-b53\n",
      " zl-010-5670-f82\n",
      " \r\n"
     ]
    }
   ],
   "source": [
    "\n",
    "$Templates | %{ \n",
    "    $_ | Csv 'Template = \"' -os '\"'\n",
    "    @(foreach($i in 0..3) { \n",
    "        Invoke-Generate $_     \n",
    "    }) | UL -sep ' '\n",
    "}"
   ]
  },
  {
   "cell_type": "code",
   "execution_count": null,
   "metadata": {
    "dotnet_interactive": {
     "language": "pwsh"
    },
    "vscode": {
     "languageId": "dotnet-interactive.pwsh"
    }
   },
   "outputs": [
    {
     "name": "stdout",
     "output_type": "stream",
     "text": [
      "\n",
      " - abbccaab\n",
      " - cbbbcaaa\n",
      " - aacaaaac\n",
      "\r\n",
      "\n",
      "syllable: eatinghouse_isod\n",
      "- coffeehouse_roow\n",
      "- coffeehouse_akro\n",
      "- coffeeshop_uqtuv\n",
      "- restaurant_wihos\n",
      "\r\n"
     ]
    }
   ],
   "source": [
    "\n",
    "#from the docs\n",
    "Invoke-Generate -alpha 'abc' -count 3 | ul\n",
    "\n",
    "\n",
    "Invoke-Generate -count 5 \"[synonym cafe]_[syllable][syllable]\" | csv -op 'syllable: ' -pad 1 -sep \"`n- \""
   ]
  },
  {
   "cell_type": "markdown",
   "metadata": {},
   "source": [
    "<a href='#nb-top'>Go Top</a>\n",
    "- [Plot](https://github.com/dfinke/ImportExcel/blob/master/Examples/Charts/plot.ps1)\n",
    "\n",
    "<h4 id='nb-bottom'>See More</h4>\n",
    "See more:\n",
    "- Works well with [dfinke/ImportExcel](https://github.com/dfinke/ImportExcel)\n",
    "- repo: [dfinke/NameIt](https://github.com/dfinke/NameIt)\n",
    "  "
   ]
  },
  {
   "cell_type": "code",
   "execution_count": null,
   "metadata": {
    "dotnet_interactive": {
     "language": "pwsh"
    },
    "vscode": {
     "languageId": "dotnet-interactive.pwsh"
    }
   },
   "outputs": [],
   "source": []
  }
 ],
 "metadata": {
  "kernelspec": {
   "display_name": ".NET (PowerShell)",
   "language": "PowerShell",
   "name": ".net-pwsh"
  },
  "language_info": {
   "name": "PowerShell"
  }
 },
 "nbformat": 4,
 "nbformat_minor": 2
}
