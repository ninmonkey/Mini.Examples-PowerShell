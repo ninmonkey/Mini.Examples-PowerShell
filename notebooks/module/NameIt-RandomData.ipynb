{
 "cells": [
  {
   "cell_type": "code",
   "execution_count": null,
   "metadata": {
    "dotnet_interactive": {
     "language": "pwsh"
    },
    "vscode": {
     "languageId": "dotnet-interactive.pwsh"
    }
   },
   "outputs": [
    {
     "name": "stdout",
     "output_type": "stream",
     "text": [
      "last executed: 2022-07-04 11:05:48Z\r\n",
      "modules = NameIt 2.3.2\r\n",
      "modules = \n",
      " - NameIt 2.3.2\n",
      "\r\n",
      "Pwsh: 7.2.4\r\n",
      "NameIt Commands = Invoke-Generate, New-NameItTemplate\r\n",
      "NameIt Commands = \n",
      " - Invoke-Generate\n",
      " - New-NameItTemplate\n",
      "\r\n"
     ]
    }
   ],
   "source": [
    "# ignore this section, written to be short as possible\n",
    "function nb.JoinCsv { \n",
    "    [Alias('Csv', 'UL')]\n",
    "    [cmdletbinding()]\n",
    "    param(\n",
    "        <# prefix string #>[Alias('op')][Parameter(Position=0)]$Prefix = '',\n",
    "        <# suffix string #> [Alias('os')][Parameter(Position=1)]$Suffix = '',\n",
    "        <# suffix string #> [Alias('Sep')][Parameter()]$Separator = ', ',\n",
    "        <# suffix property #> [Alias('Prop', 'P')][Parameter()]$PropertyName = $Null,\n",
    "        <# Actual Pipe #>[Parameter(ValueFromPipeline, Mandatory)][object[]]$InputObject,\n",
    "        [switch]$Sort, [switch]$Unique, [int]$Pad = 0\n",
    "        # [switch]$Qoute\n",
    "    )\n",
    "    begin {\n",
    "        $items = [System.Collections.Generic.list[object]]::new()\n",
    "    }\n",
    "    process {\n",
    "        foreach($cur in $InputObject) { $Items.add($cur)}\n",
    "    } \n",
    "    end {\n",
    "        $isUL = $PSCmdlet.MyInvocation.InvocationName -eq 'UL'\n",
    "\n",
    "        $padding = \"`n\" * $Pad -join ''\n",
    "        $Prefix = $Padding + $Prefix\n",
    "        $Suffix = $Suffix + $Padding\n",
    "\n",
    "        \n",
    "        if($False -and 'original UL' -and $IsUL) {             \n",
    "                $Prefix = $Prefix + \"`n - \"\n",
    "                $Suffix = \"`n - \" + $Suffix\n",
    "                $Separator = \"`n - \"\n",
    "        }\n",
    "        if($IsUL) {             \n",
    "            if( (-not $Separator) -or $Separator -eq ', ') {\n",
    "                $Separator = ' - '    \n",
    "            }\n",
    "            $Prefix = $Prefix + \"`n${Separator}\"\n",
    "            $Suffix = \"`n\" + $Suffix\n",
    "            # $Suffix = \"`n${Separator}\" + $Suffix # was\n",
    "            $Separator = \"`n${Separator}\"\n",
    "        }\n",
    "        \n",
    "        $splat = @{  'sep' = $Separator ; 'op' =  $Prefix ; 'os' = $Suffix }\n",
    "        $IsRawText = $items[0] -is 'string'\n",
    "        write-debug $IsRawText\n",
    "        \n",
    "        $filtered = if($Unique) { $Items | Sort -Unique }\n",
    "        elseif($Sort) { $Items | sort }\n",
    "        else { $items } \n",
    "\n",
    "        if($PropertyName -and (! $IsRawText)) { \n",
    "            $filtered | Join-String @splat -Prop $PropertyName\n",
    "            # $Items | Join-String -sep ', ' -op:$Prefix -os $Suffix -Prop $PropertyName\n",
    "        } else {\n",
    "            $filtered | Join-String @splat\n",
    "            # $Items | Join-String -sep ', ' -op:$Prefix -os $Suffix\n",
    "        }\n",
    "    }\n",
    "}\n",
    "\n",
    "('last executed: {0}' -f @((get-date).tostring('u')))\n",
    "Import-Module NameIt -ea stop -passthru | Csv -Prop { $_.Name, $_.Version } -op 'modules = '\n",
    "Import-Module NameIt -ea stop -passthru | Ul -Prop { $_.Name, $_.Version } -op 'modules = '\n",
    "$PSVersionTable | join-string -op 'Pwsh: ' -Property PSVersion\n",
    "Get-Command -m NameIT | Csv -prop Name -op 'NameIt Commands = '\n",
    "Get-Command -m NameIT | ul -prop Name -op 'NameIt Commands = '\n",
    "\n"
   ]
  },
  {
   "cell_type": "markdown",
   "metadata": {
    "dotnet_interactive": {
     "language": "pwsh"
    }
   },
   "source": [
    "<a name='nb-top' href='#'>Top</a>\n",
    "### Using [github.com/dfinke/NameIt](https://github.com/dfinke/NameIt)\n",
    "- part2: [Template type Summary Table](#nb-part2)\n",
    "- part3: [New-NameItTemplate](#nb-part3)\n",
    "<!-- - <a href='#nb-item-1'>Empty File</a>\n",
    "- [Load Column, Row, hashtable](https://github.com/dfinke/ImportExcel/blob/master/FAQ/How%20to%20Read%20an%20Existing%20Excel%20File.md#other-common-operations) -->"
   ]
  },
  {
   "cell_type": "code",
   "execution_count": null,
   "metadata": {
    "dotnet_interactive": {
     "language": "pwsh"
    },
    "vscode": {
     "languageId": "dotnet-interactive.pwsh"
    }
   },
   "outputs": [
    {
     "name": "stdout",
     "output_type": "stream",
     "text": [
      "   [person], [color] = Siena Dillon, green\r\n",
      "   [person], [color] = Robert Allen, crimson\r\n",
      "   [person], [color] = Maverick Terrell, crimson\r\n",
      "   [person], [color] = Braiden Bright, yellow\r\n",
      "           [address] = 10878 Bitrodsavaqji Div\r\n",
      "           [address] = 7512 Ofumlip Streets\r\n",
      "           [address] = 553 Deumsuklat Mntain\r\n",
      "           [address] = 297 Arwek Ext\r\n",
      "[synonym cafe]_[syllable][syllable] = coffeeshop_zooj\r\n",
      "[synonym cafe]_[syllable][syllable] = coffeehouse_qooq\r\n",
      "[synonym cafe]_[syllable][syllable] = eatinghouse_vaec\r\n",
      "[synonym cafe]_[syllable][syllable] = coffeeshop_leex\r\n",
      "                #### = 0570\r\n",
      "                #### = 2994\r\n",
      "                #### = 9545\r\n",
      "                #### = 1271\r\n",
      "     ??-###-####-?## = yc-919-0069-o93\r\n",
      "     ??-###-####-?## = jb-349-8177-d83\r\n",
      "     ??-###-####-?## = uy-972-8164-l42\r\n",
      "     ??-###-####-?## = vg-187-1397-o94\r\n"
     ]
    }
   ],
   "source": [
    "$Templates = @(\n",
    "    '[person], [color]'\n",
    "    '[address]'\n",
    "    '[synonym cafe]_[syllable][syllable]'\n",
    "    '####'\n",
    "    '??-###-####-?##'\n",
    ")\n",
    "$Templates | %{ \n",
    "    foreach($i in 0..3) { \n",
    "    @(\n",
    "        $_.PadLeft(20)\n",
    "        ig $_\n",
    "    ) -join ' = '\n",
    "    }\n",
    "}\n"
   ]
  },
  {
   "cell_type": "code",
   "execution_count": null,
   "metadata": {
    "dotnet_interactive": {
     "language": "pwsh"
    },
    "vscode": {
     "languageId": "dotnet-interactive.pwsh"
    }
   },
   "outputs": [
    {
     "name": "stdout",
     "output_type": "stream",
     "text": [
      "Template = \"[person], [color]\"\r\n",
      "\n",
      " Jaylynn Morris, yellow\n",
      " Walter Gentry, purple\n",
      " Cailyn Davidson, white\n",
      " Paityn Grant, amber\n",
      " \r\n",
      "Template = \"[address]\"\r\n",
      "\n",
      " 245 Tugotupugit Freeway\n",
      " 57800 Boix Overpass\n",
      " 141 Beraquje Knl\n",
      " 812 Meokduy Plaza\n",
      " \r\n",
      "Template = \"[synonym cafe]_[syllable][syllable]\"\r\n",
      "\n",
      " coffeehouse_seqin\n",
      " eatingplace_fifbu\n",
      " coffeeshop_nidoc\n",
      " coffeeshop_naoh\n",
      " \r\n",
      "Template = \"####\"\r\n",
      "\n",
      " 1410\n",
      " 7055\n",
      " 5317\n",
      " 4096\n",
      " \r\n",
      "Template = \"??-###-####-?##\"\r\n",
      "\n",
      " gl-427-6805-m01\n",
      " ue-806-6528-t07\n",
      " gd-112-6016-b53\n",
      " zl-010-5670-f82\n",
      " \r\n"
     ]
    }
   ],
   "source": [
    "\n",
    "$Templates | %{ \n",
    "    $_ | Csv 'Template = \"' -os '\"'\n",
    "    @(foreach($i in 0..3) { \n",
    "        Invoke-Generate $_     \n",
    "    }) | UL -sep ' '\n",
    "}"
   ]
  },
  {
   "cell_type": "markdown",
   "metadata": {},
   "source": [
    "<a href='#nb-top'>Go Top</a>\n",
    "## <a name=\"nb-part2\">Template Types Reference</a> \n",
    " \n",
    "\n",
    "| Template                | Description                                                                                        |\n",
    "| ----------------------- | -------------------------------------------------------------------------------------------------- |\n",
    "| `[alpha]`               | selects a random character (constrained by the -Alphabet parameter).                               |\n",
    "| `[numeric]`             | selects a random numeric (constrained by the -Numbers parameter).                                  |\n",
    "| `[vowel]`               | selects a vowel from a, e, i, o or u.                                                              |\n",
    "| `[phoneticVowel]`       | selects a vowel sound, for example ou.                                                             |\n",
    "| `[consonant]`           | selects a consonant from the entire alphabet.                                                      |\n",
    "| `[syllable]`            | generates (usually) a pronouncable single syllable.                                                |\n",
    "| `[synonym word]`        | finds a synonym to match the provided word.                                                        |\n",
    "| `[person]`              | generate random name of female or male based on provided culture like <FirstName><Space><LastName> |\n",
    "| `[person female]`       | generate random name of female based on provided culture like <FirstName><Space><LastName>.        |\n",
    "| `[person female first]` |\n",
    "| `[person female last]`  |\n",
    "| `[person male]`         | generate random name of male based on provided culture like <FirstName><Space><LastName>.          |\n",
    "| `[person male first]`   | .                                                                                                  |\n",
    "| `[person male last]`    | .                                                                                                  |\n",
    "| `[person both first]`   | .                                                                                                  |\n",
    "| `[person both last]`    | .                                                                                                  |\n",
    "| `[address]`             | generate a random street address. Formatting is biased to US currently.                            |\n",
    "| `[space]`               | inserts a literal space. Spaces are striped from the templates string by default.                  |\n",
    " "
   ]
  },
  {
   "cell_type": "code",
   "execution_count": null,
   "metadata": {
    "dotnet_interactive": {
     "language": "pwsh"
    },
    "vscode": {
     "languageId": "dotnet-interactive.pwsh"
    }
   },
   "outputs": [
    {
     "name": "stdout",
     "output_type": "stream",
     "text": [
      "\n",
      " - cbaabbca\n",
      " - acbcaccb\n",
      " - acccbaba\n",
      "\r\n",
      "\n",
      "syllable: eatingplace_nelef\n",
      "- coffeehouse_cibpof\n",
      "- coffeebar_jixi\n",
      "- coffeeshop_rogom\n",
      "- eatingplace_ijuy\n",
      "\r\n"
     ]
    }
   ],
   "source": [
    "\n",
    "#from the docs\n",
    "Invoke-Generate -alpha 'abc' -count 3 | ul\n",
    "\n",
    "\n",
    "Invoke-Generate -count 5 \"[synonym cafe]_[syllable][syllable]\" | csv -op 'syllable: ' -pad 1 -sep \"`n- \""
   ]
  },
  {
   "cell_type": "code",
   "execution_count": null,
   "metadata": {
    "dotnet_interactive": {
     "language": "pwsh"
    },
    "vscode": {
     "languageId": "dotnet-interactive.pwsh"
    }
   },
   "outputs": [
    {
     "name": "stdout",
     "output_type": "stream",
     "text": [
      "\r\n",
      "\u001b[32;1mstate      zip   Age   Company Name          address\u001b[0m\r\n",
      "\u001b[32;1m-----      ---   ---   ------- ----          -------\u001b[0m\r\n",
      "New Mexico 85001 35145 hwghkq  Sarai Murray  593 Wiugus Bayoo\r\n",
      "New Jersey 21401 45893 kwbbbu  Mckinley Ford 610 Fudi Unions\r\n",
      "Indiana    19901 81334 nrgegn  Dorian Hansen 763 Obgufok Falls\r\n",
      "\r\n"
     ]
    }
   ],
   "source": [
    "$Kind = New-NameItTemplate -sb {\n",
    "    [PSCustomObject]@{\n",
    "        Company = ''      \n",
    "        Name    = ''\n",
    "        Age     = 0\n",
    "        address = ''\n",
    "        state   = ''\n",
    "        zip     = ''\n",
    "    }        \n",
    "\n",
    "}\n",
    "Invoke-Generate $Kind -Count 3 -AsPSObject | Format-Table\n"
   ]
  },
  {
   "cell_type": "markdown",
   "metadata": {},
   "source": [
    "### Steps to use custom objects as templates\n",
    "\n",
    "1. Create a `ScriptBlock` that returns a `[PSCustomObject]`\n",
    "1. Call `Invoke-Generate $YourSB -Count 5`\n",
    "1. Choose output type:\n",
    "   1. raw text, 1 string per `-count` \n",
    "   2. or `-AsCsv` and `-AsTabDelimited`\n",
    "   3. or a `[pscustomobject]`\n",
    "\n",
    "> If a property name has has the value **name, zip, address, or state** the appropriate NameIT template is applied, **otherwise the type is inferred as numeric or alpha**.\n",
    "\n",
    "```ps1\n",
    "New-NameItTemplate {[PSCustomObject]@{Company=\"\";Name=\"\"}}\n",
    "```"
   ]
  },
  {
   "cell_type": "code",
   "execution_count": null,
   "metadata": {
    "dotnet_interactive": {
     "language": "pwsh"
    },
    "vscode": {
     "languageId": "dotnet-interactive.pwsh"
    }
   },
   "outputs": [
    {
     "name": "stdout",
     "output_type": "stream",
     "text": [
      "\n",
      "-AsPSObject\n",
      "\r\n",
      "\r\n",
      "\u001b[32;1mstate    zip   Age   Company Name         address\u001b[0m\r\n",
      "\u001b[32;1m-----    ---   ---   ------- ----         -------\u001b[0m\r\n",
      "Michigan 50301 18147 ffyprn  King Frank   51545 Emak Rest\r\n",
      "Arkansas 02108 95864 rvxmkt  Titus Lester 762 Josid Harbors\r\n",
      "\r\n",
      "\n",
      "-AsCsv\n",
      "\r\n",
      "\"state\",\"zip\",\"Age\",\"Company\",\"Name\",\"address\"\r\n",
      "\"Mississippi\",\"98501\",\"72553\",\"uzdiry\",\"Lizbeth Roman\",\"784 Oqve Sq\"\r\n",
      "\"state\",\"zip\",\"Age\",\"Company\",\"Name\",\"address\"\r\n",
      "\"Washington\",\"97301\",\"60262\",\"vjhklm\",\"Reece Rivas\",\"73136 Alxogop Roads\"\r\n",
      "\n",
      "-AsTabDelimited\n",
      "\r\n",
      "\"state\"\t\"zip\"\t\"Age\"\t\"Company\"\t\"Name\"\t\"address\"\r\n",
      "\"Michigan\"\t\"23218\"\t\"95040\"\t\"jyibpy\"\t\"Trevin Parsons\"\t\"661 Tevdabjuv Ways\"\r\n",
      "\"state\"\t\"zip\"\t\"Age\"\t\"Company\"\t\"Name\"\t\"address\"\r\n",
      "\"Nevada\"\t\"25301\"\t\"25690\"\t\"fwpotb\"\t\"Colton Valentine\"\t\"714 Efkektiyes Hill\"\r\n"
     ]
    }
   ],
   "source": [
    "'-AsPSObject' | csv -pad 1\n",
    "Invoke-Generate $Kind -Count 2 -AsPSObject | Ft\n",
    "\n",
    "'-AsCsv' | csv -pad 1\n",
    "Invoke-Generate $Kind -Count 2 -AsCsv\n",
    "\n",
    "'-AsTabDelimited' | csv -pad 1\n",
    "Invoke-Generate $Kind -Count 2 -AsTabDelimited\n"
   ]
  },
  {
   "cell_type": "markdown",
   "metadata": {},
   "source": [
    "<a href='#nb-top'>Go Top</a>\n",
    "<h4><a name='nb-bottom'>See More</a>\n",
    "\n",
    "- other `.inpynb` here\n",
    "- Works well with [dfinke/ImportExcel](https://github.com/dfinke/ImportExcel)\n",
    "- repo: [dfinke/NameIt](https://github.com/dfinke/NameIt)\n",
    "  "
   ]
  },
  {
   "cell_type": "code",
   "execution_count": null,
   "metadata": {
    "dotnet_interactive": {
     "language": "pwsh"
    },
    "vscode": {
     "languageId": "dotnet-interactive.pwsh"
    }
   },
   "outputs": [
    {
     "name": "stdout",
     "output_type": "stream",
     "text": [
      "\r\n",
      "object properties as a hash summary:\r\n",
      "\r\n",
      "@{ Company=cmtrvv, Name=Kara Chaney, Age=76509, address=3283 Pasanuhciyho Ranch, state=North Dakota, zip=84101Company=xklsjy, Name=Ali Mayo, Age=79241, address=940 Hukxolomkulwaw Falls, state=Hawaii, zip=25301} \r\n",
      "\r\n",
      "Almost hashtable literals:\r\n",
      "\r\n",
      "@{ \"Company=hvxidl\"\"Name=Shayna Hartman\"\"Age=5403\"\"address=64155 Vacehfizofic Clb\"\"state=Massachusetts\"\"zip=70801\"\"Company=ithcsj\"\"Name=Sawyer Villarreal\"\"Age=6121\"\"address=883 Xedfi Court\"\"state=West Virginia\"\"zip=43201\"} \r\n"
     ]
    }
   ],
   "source": [
    "# Testing output\n",
    "'\n",
    "object properties as a hash summary:\n",
    "'\n",
    "Invoke-Generate $Kind -Count 2\n",
    "| Foreach-Object { \n",
    "    $_ -split \"\\r?\\n\" | csv } | Join-String -op '@{ ' -os '} '\n",
    "'\n",
    "Almost hashtable literals:\n",
    "'\n",
    "Invoke-Generate $Kind -Count 2\n",
    "| Foreach-Object { \n",
    "    $_ -split \"\\r?\\n\"\n",
    "    | Join-String -prop {$_ | Join-String -DoubleQuote -sep ' ;  ' } } | Join-String -op '@{ ' -os '} '\n"
   ]
  },
  {
   "cell_type": "code",
   "execution_count": null,
   "metadata": {
    "dotnet_interactive": {
     "language": "pwsh"
    },
    "vscode": {
     "languageId": "dotnet-interactive.pwsh"
    }
   },
   "outputs": [
    {
     "name": "stdout",
     "output_type": "stream",
     "text": [
      "Company=[alpha 6]\r\n",
      "Name=[person]\r\n",
      "round trip should not fail\r\n",
      "{\r\n",
      "  \"Company\": null,\r\n",
      "  \"Name\": \"\"\r\n",
      "}\r\n"
     ]
    }
   ],
   "source": [
    "New-NameItTemplate {[PSCustomObject]@{Company=\"\";Name=\"\"}}\n",
    "\n",
    "\"round trip should not fail\"\n",
    "[PSCustomObject]@{ Company=$null; Name=\"\" } \n",
    "| ConvertTo-Json | convertfrom-json\n",
    "| ConvertTo-Json\n",
    "\n"
   ]
  },
  {
   "cell_type": "code",
   "execution_count": null,
   "metadata": {
    "dotnet_interactive": {
     "language": "pwsh"
    },
    "vscode": {
     "languageId": "dotnet-interactive.pwsh"
    }
   },
   "outputs": [
    {
     "name": "stdout",
     "output_type": "stream",
     "text": [
      "\n",
      "from a [PSCO]\n",
      "\r\n",
      "Name=[person]\r\n",
      "State=[state]\r\n",
      "EmployeeId=[alpha 6]\r\n",
      "\n",
      "from Json\n",
      "\r\n",
      "Name=[person]\r\n",
      "State=[state]\r\n",
      "EmployeId=[numeric 5]\r\n"
     ]
    }
   ],
   "source": [
    "# Can json directly easily work?\n",
    "$json = @'\n",
    "{\n",
    "    \"Name\": \"\",\n",
    "    \"State\": \"\",\n",
    "    \"EmployeId\": 0\n",
    "}\n",
    "'@\n",
    "$Template = @{}\n",
    "\n",
    "$Obj = $Json | ConvertFrom-Json\n",
    "\n",
    "$Template.FromJson = New-NameItTemplate -sb { $obj }\n",
    "$Template.FromCommand = New-NameItTemplate {\n",
    "    [PSCustomObject]@{\n",
    "        Name=\"\"\n",
    "        State=\"\"\n",
    "        EmployeeId=\"\"\n",
    "    }\n",
    "}\n",
    "\n",
    "'from a [PSCO]' | csv -pad 1\n",
    "$Template.FromCommand\n",
    "\n",
    "'from Json' | Csv -Pad 1\n",
    "$Template.FromJson"
   ]
  },
  {
   "cell_type": "markdown",
   "metadata": {},
   "source": [
    "<a href='#nb-top'>Go Top</a>\n",
    "## <a name=\"nb-part3\">New-NameItTemplate</a> \n",
    " \n"
   ]
  }
 ],
 "metadata": {
  "kernelspec": {
   "display_name": ".NET (PowerShell)",
   "language": "PowerShell",
   "name": ".net-pwsh"
  },
  "language_info": {
   "name": "PowerShell"
  }
 },
 "nbformat": 4,
 "nbformat_minor": 2
}
