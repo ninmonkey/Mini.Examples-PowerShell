{
 "cells": [
  {
   "cell_type": "markdown",
   "metadata": {},
   "source": [
    "## Using `NameIt`\n",
    "\n",
    "\n"
   ]
  },
  {
   "cell_type": "code",
   "execution_count": null,
   "metadata": {
    "vscode": {
     "languageId": "plaintext"
    }
   },
   "outputs": [],
   "source": []
  },
  {
   "cell_type": "markdown",
   "metadata": {
    "dotnet_interactive": {
     "language": "pwsh"
    }
   },
   "source": [
    "<a name='nb-top' href='#'>Top</a>\n",
    "\n",
    "### Using [github.com/dfinke/NameIt](https://github.com/dfinke/NameIt)\n",
    "\n",
    "- part1: [Builtin Template Strings](#nb-part1)\n",
    "- part2: [Template type Summary Table](#nb-part2)\n",
    "- part3: [New-NameItTemplate](#nb-part3)\n",
    "\n",
    "This first block is for helper functions.\n",
    "You can mostly ignore it,The important code comes after. It's written to be short, not written to be \"good\" (ie: the helper functions are not best practice)"
   ]
  },
  {
   "cell_type": "code",
   "execution_count": null,
   "metadata": {
    "dotnet_interactive": {
     "language": "pwsh"
    },
    "vscode": {
     "languageId": "dotnet-interactive.pwsh"
    }
   },
   "outputs": [
    {
     "name": "stdout",
     "output_type": "stream",
     "text": [
      "last executed: 2022-07-06 12:48:32Z\r\n",
      "modules = \n",
      " - NameIt 2.3.2\n",
      "\r\n",
      "NameIt Commands = \n",
      " - Invoke-Generate\n",
      " - New-NameItTemplate\n",
      "\r\n"
     ]
    }
   ],
   "source": [
    "function nb.JoinCsv { \n",
    "    [Alias('Csv', 'UL')]\n",
    "    [cmdletbinding()]\n",
    "    param(\n",
    "        <# prefix string #>     [Alias('op')][Parameter(Position=0)]$Prefix       = '',\n",
    "        <# suffix string #>     [Alias('os')][Parameter(Position=1)]$Suffix       = '',\n",
    "        <# suffix string #>     [Alias('Sep')][Parameter()]$Separator             = ', ',\n",
    "        <# suffix property #>   [Alias('Prop', 'P')][Parameter()]$PropertyName    = $Null,\n",
    "        <# Actual Pipe #>[Parameter(ValueFromPipeline, Mandatory)][object[]]$InputObject,\n",
    "        [switch]$Sort, [switch]$Unique, [int]$Pad = 0\n",
    "        # [switch]$Qoute\n",
    "    )\n",
    "    begin {\n",
    "        $items = [System.Collections.Generic.list[object]]::new()\n",
    "    }\n",
    "    process {\n",
    "        foreach($cur in $InputObject) { $Items.add($cur)}\n",
    "    } \n",
    "    end {\n",
    "        $isUL = $PSCmdlet.MyInvocation.InvocationName -eq 'UL'\n",
    "\n",
    "        $padding = \"`n\" * $Pad -join ''\n",
    "        $Prefix = $Padding + $Prefix\n",
    "        $Suffix = $Suffix + $Padding\n",
    "\n",
    "        \n",
    "        if($False -and 'original UL' -and $IsUL) {             \n",
    "                $Prefix = $Prefix + \"`n - \"\n",
    "                $Suffix = \"`n - \" + $Suffix\n",
    "                $Separator = \"`n - \"\n",
    "        }\n",
    "        if($IsUL) {             \n",
    "            if( (-not $Separator) -or $Separator -eq ', ') {\n",
    "                $Separator = ' - '    \n",
    "            }\n",
    "            $Prefix = $Prefix + \"`n${Separator}\"\n",
    "            $Suffix = \"`n\" + $Suffix\n",
    "            # $Suffix = \"`n${Separator}\" + $Suffix # was\n",
    "            $Separator = \"`n${Separator}\"\n",
    "        }\n",
    "        \n",
    "        $splat = @{  'sep' = $Separator ; 'op' =  $Prefix ; 'os' = $Suffix }\n",
    "        $IsRawText = $items[0] -is 'string'\n",
    "        write-debug $IsRawText\n",
    "        \n",
    "        $filtered = if($Unique) { $Items | Sort -Unique }\n",
    "        elseif($Sort) { $Items | sort }\n",
    "        else { $items } \n",
    "\n",
    "        if($PropertyName -and (! $IsRawText)) { \n",
    "            $filtered | Join-String @splat -Prop $PropertyName\n",
    "            # $Items | Join-String -sep ', ' -op:$Prefix -os $Suffix -Prop $PropertyName\n",
    "        } else {\n",
    "            $filtered | Join-String @splat\n",
    "            # $Items | Join-String -sep ', ' -op:$Prefix -os $Suffix\n",
    "        }\n",
    "    }\n",
    "}\n",
    "\n",
    "('last executed: {0}' -f @((get-date).tostring('u')))\n",
    "Import-Module NameIt -ea stop -passthru | Ul -Prop { $_.Name, $_.Version } -op 'modules = '\n",
    "Get-Command -m NameIT | ul -prop Name -op 'NameIt Commands = '"
   ]
  },
  {
   "cell_type": "code",
   "execution_count": null,
   "metadata": {
    "dotnet_interactive": {
     "language": "pwsh"
    },
    "vscode": {
     "languageId": "dotnet-interactive.pwsh"
    }
   },
   "outputs": [
    {
     "name": "stdout",
     "output_type": "stream",
     "text": [
      "                  [person], [color] = Ernest Richardson, beige\r\n",
      "                  [person], [color] = Helen Mcneil, crimson\r\n",
      "                  [person], [color] = Blaine Forbes, red\r\n",
      "                  [person], [color] = Calvin Barton, cyan\r\n",
      "                          [address] = 59145 Tifu Lck\r\n",
      "                          [address] = 98871 Vexeyimuyax Blf\r\n",
      "                          [address] = 498 Etniyuzheuv Run\r\n",
      "                          [address] = 12541 Jege Glen\r\n",
      "[synonym cafe]_[syllable][syllable] = restaurant_ihot\r\n",
      "[synonym cafe]_[syllable][syllable] = restaurant_ayap\r\n",
      "[synonym cafe]_[syllable][syllable] = restaurant_umos\r\n",
      "[synonym cafe]_[syllable][syllable] = coffeebar_xaoc\r\n",
      "                               #### = 4628\r\n",
      "                               #### = 9883\r\n",
      "                               #### = 7582\r\n",
      "                               #### = 6000\r\n",
      "                    ??-###-####-?## = qs-012-2711-m70\r\n",
      "                    ??-###-####-?## = yl-119-2603-x00\r\n",
      "                    ??-###-####-?## = iq-581-1293-i19\r\n",
      "                    ??-###-####-?## = pb-004-2472-n33\r\n"
     ]
    }
   ],
   "source": [
    "$Templates = @(\n",
    "    '[person], [color]'\n",
    "    '[address]'\n",
    "    '[synonym cafe]_[syllable][syllable]'\n",
    "    '####'\n",
    "    '??-###-####-?##'\n",
    "); $Max = $Templates | Measure-object Length -max | % Maximum\n",
    "$Templates | %{ \n",
    "    foreach($i in 0..3) { \n",
    "    @(\n",
    "        $_.PadLeft($max)\n",
    "        ig $_\n",
    "    ) -join ' = '\n",
    "    }\n",
    "}\n"
   ]
  },
  {
   "cell_type": "markdown",
   "metadata": {},
   "source": [
    "<a href='#nb-top'>Go Top</a>\n",
    "## <a name=\"nb-part1\">Built-in Template Strings</a> "
   ]
  },
  {
   "cell_type": "markdown",
   "metadata": {},
   "source": []
  },
  {
   "cell_type": "markdown",
   "metadata": {},
   "source": []
  },
  {
   "cell_type": "code",
   "execution_count": null,
   "metadata": {
    "dotnet_interactive": {
     "language": "pwsh"
    },
    "vscode": {
     "languageId": "dotnet-interactive.pwsh"
    }
   },
   "outputs": [
    {
     "name": "stdout",
     "output_type": "stream",
     "text": [
      "Template = \"[person], [color]\"\r\n",
      "\n",
      " Jamar Macdonald, white\n",
      " Ronin Mckay, gray\n",
      " Jackson Reyes, beige\n",
      " Cullen Whitney, amber\n",
      "\r\n",
      "Template = \"[address]\"\r\n",
      "\n",
      " 53951 Zileagcix Sqrs\n",
      " 2637 Etev Forks\n",
      " 9797 Eredgedtic Forges\n",
      " 56775 Vorun Field\n",
      "\r\n",
      "Template = \"[synonym cafe]_[syllable][syllable]\"\r\n",
      "\n",
      " coffeehouse_fiol\n",
      " coffeehouse_wumjab\n",
      " eatingplace_mulo\n",
      " eatingplace_kompo\n",
      "\r\n",
      "Template = \"####\"\r\n",
      "\n",
      " 6349\n",
      " 8032\n",
      " 3089\n",
      " 9603\n",
      "\r\n",
      "Template = \"??-###-####-?##\"\r\n",
      "\n",
      " kj-287-4981-a19\n",
      " mu-008-4413-h05\n",
      " ab-967-9481-z23\n",
      " xf-427-8246-n96\n",
      "\r\n"
     ]
    }
   ],
   "source": [
    "\n",
    "$Templates | Foreach-Object { \n",
    "    $_ | Csv 'Template = \"' -os '\"'\n",
    "    @(foreach($i in 0..3) { \n",
    "        Invoke-Generate $_     \n",
    "    }) | UL -sep ' '\n",
    "}"
   ]
  },
  {
   "cell_type": "markdown",
   "metadata": {},
   "source": [
    "<a href='#nb-top'>Go Top</a>\n",
    "## <a name=\"nb-part2\">Template Types Reference</a> \n",
    " \n",
    "\n",
    "| Template                | Description                                                                                        |\n",
    "| ----------------------- | -------------------------------------------------------------------------------------------------- |\n",
    "| `[alpha]`               | selects a random character (constrained by the -Alphabet parameter).                               |\n",
    "| `[numeric]`             | selects a random numeric (constrained by the -Numbers parameter).                                  |\n",
    "| `[vowel]`               | selects a vowel from a, e, i, o or u.                                                              |\n",
    "| `[phoneticVowel]`       | selects a vowel sound, for example ou.                                                             |\n",
    "| `[consonant]`           | selects a consonant from the entire alphabet.                                                      |\n",
    "| `[syllable]`            | generates (usually) a pronouncable single syllable.                                                |\n",
    "| `[synonym word]`        | finds a synonym to match the provided word.                                                        |\n",
    "| `[person]`              | generate random name of female or male based on provided culture like <FirstName><Space><LastName> |\n",
    "| `[person female]`       | generate random name of female based on provided culture like <FirstName><Space><LastName>.        |\n",
    "| `[person female first]` |\n",
    "| `[person female last]`  |\n",
    "| `[person male]`         | generate random name of male based on provided culture like <FirstName><Space><LastName>.          |\n",
    "| `[person male first]`   | .                                                                                                  |\n",
    "| `[person male last]`    | .                                                                                                  |\n",
    "| `[person both first]`   | .                                                                                                  |\n",
    "| `[person both last]`    | .                                                                                                  |\n",
    "| `[address]`             | generate a random street address. Formatting is biased to US currently.                            |\n",
    "| `[space]`               | inserts a literal space. Spaces are striped from the templates string by default.                  |\n",
    " "
   ]
  },
  {
   "cell_type": "code",
   "execution_count": null,
   "metadata": {
    "dotnet_interactive": {
     "language": "pwsh"
    },
    "vscode": {
     "languageId": "dotnet-interactive.pwsh"
    }
   },
   "outputs": [
    {
     "name": "stdout",
     "output_type": "stream",
     "text": [
      "\n",
      " - baacabbb\n",
      " - cacabaca\n",
      " - acbcaabb\n",
      "\r\n",
      "\n",
      "syllable: coffeebar_wotyob\n",
      "- eatingplace_tabfi\n",
      "- eatingplace_obiq\n",
      "- restaurant_ruhat\n",
      "- eatingplace_avpe\n",
      "\r\n"
     ]
    }
   ],
   "source": [
    "\n",
    "#from the docs\n",
    "Invoke-Generate -alpha 'abc' -count 3 | ul\n",
    "\n",
    "\n",
    "Invoke-Generate -count 5 \"[synonym cafe]_[syllable][syllable]\" | csv -op 'syllable: ' -pad 1 -sep \"`n- \""
   ]
  },
  {
   "cell_type": "code",
   "execution_count": null,
   "metadata": {
    "dotnet_interactive": {
     "language": "pwsh"
    },
    "vscode": {
     "languageId": "dotnet-interactive.pwsh"
    }
   },
   "outputs": [
    {
     "name": "stdout",
     "output_type": "stream",
     "text": [
      "Template = \"ThisQuarter\"\r\n",
      "\n",
      " 9/25/2022\n",
      " 9/11/2022\n",
      "\r\n",
      "Template = \"q1\"\r\n",
      "\n",
      " 1/23/2022\n",
      " 3/2/2022\n",
      "\r\n",
      "Template = \"q3\"\r\n",
      "\n",
      " 9/24/2022\n",
      " 8/12/2022\n",
      "\r\n",
      "Template = \"q3\"\r\n",
      "\n",
      " 8/9/2022\n",
      " 7/23/2022\n",
      "\r\n",
      "Template = \"q4\"\r\n",
      "\n",
      " 10/29/2022\n",
      " 11/17/2022\n",
      "\r\n",
      "Template = \"Today\"\r\n",
      "\n",
      " 7/6/2022\n",
      " 7/6/2022\n",
      "\r\n",
      "Template = \"Tomorrow\"\r\n",
      "\n",
      " 7/7/2022\n",
      " 7/7/2022\n",
      "\r\n",
      "Template = \"Yesterday\"\r\n",
      "\n",
      " 7/5/2022\n",
      " 7/5/2022\n",
      "\r\n",
      "Template = \"February\"\r\n",
      "\n",
      " 2/20/2022\n",
      " 2/8/2022\n",
      "\r\n",
      "Template = \"April\"\r\n",
      "\n",
      " 4/18/2022\n",
      " 4/2/2022\n",
      "\r\n",
      "Template = \"October\"\r\n",
      "\n",
      " 10/28/2022\n",
      " 10/19/2022\n",
      "\r\n"
     ]
    }
   ],
   "source": [
    "$Templates =  @('ThisQuarter', 'q1', 'q3', 'q3', 'q4', 'Today', 'Tomorrow', 'Yesterday', 'February', 'April', 'October')\n",
    "$Templates | %{ \n",
    "    $_ | Csv 'Template = \"' -os '\"'\n",
    "    @(foreach($i in 0..1) { \n",
    "        Invoke-Generate $_     \n",
    "    }) | UL -sep ' '\n",
    "}"
   ]
  },
  {
   "cell_type": "code",
   "execution_count": null,
   "metadata": {
    "dotnet_interactive": {
     "language": "pwsh"
    },
    "vscode": {
     "languageId": "dotnet-interactive.pwsh"
    }
   },
   "outputs": [
    {
     "name": "stdout",
     "output_type": "stream",
     "text": [
      "\r\n",
      "\u001b[32;1mstate    address              Name                 Company Age   zip\u001b[0m\r\n",
      "\u001b[32;1m-----    -------              ----                 ------- ---   ---\u001b[0m\r\n",
      "Kansas   28172 Luyroci Common Finley Delgado       fdbbnk  81704 62701\r\n",
      "Vermont  659 Yava Allee       Jefferson Cunningham xhvfuc  69772 85001\r\n",
      "Arkansas 6304 Buow Dam        Mariam Moody         efkfzs  24713 36101\r\n",
      "\r\n"
     ]
    }
   ],
   "source": [
    "$Kind = New-NameItTemplate -sb {\n",
    "    [PSCustomObject]@{\n",
    "        Company = ''      \n",
    "        Name    = ''\n",
    "        Age     = 0\n",
    "        address = ''\n",
    "        state   = ''\n",
    "        zip     = ''\n",
    "    }        \n",
    "\n",
    "}\n",
    "Invoke-Generate $Kind -Count 3 -AsPSObject | Format-Table\n"
   ]
  },
  {
   "cell_type": "markdown",
   "metadata": {},
   "source": [
    "### Steps to use custom objects as templates\n",
    "\n",
    "1. Create a `ScriptBlock` that returns a `[PSCustomObject]`\n",
    "1. Call `Invoke-Generate $YourSB -Count 5`\n",
    "1. Choose output type:\n",
    "   1. raw text, 1 string per `-count` \n",
    "   2. or `-AsCsv` and `-AsTabDelimited`\n",
    "   3. or a `[pscustomobject]`\n",
    "\n",
    "> If a property name has has the value **name, zip, address, or state** the appropriate NameIT template is applied, **otherwise the type is inferred as numeric or alpha**.\n",
    "\n",
    "```ps1\n",
    "New-NameItTemplate {[PSCustomObject]@{Company=\"\";Name=\"\"}}\n",
    "```"
   ]
  },
  {
   "cell_type": "code",
   "execution_count": null,
   "metadata": {
    "dotnet_interactive": {
     "language": "pwsh"
    },
    "vscode": {
     "languageId": "dotnet-interactive.pwsh"
    }
   },
   "outputs": [
    {
     "name": "stdout",
     "output_type": "stream",
     "text": [
      "\n",
      "-AsPSObject\n",
      "\r\n",
      "\r\n",
      "\u001b[32;1mstate        address            Name           Company Age   zip\u001b[0m\r\n",
      "\u001b[32;1m-----        -------            ----           ------- ---   ---\u001b[0m\r\n",
      "North Dakota 33485 Korof Trace  Tanner Baldwin exedcx  17005 83701\r\n",
      "Maryland     25703 Eceq Centers Fisher Roy     vfvjnq  57190 59601\r\n",
      "\r\n",
      "\n",
      "-AsCsv\n",
      "\r\n",
      "\"state\",\"address\",\"Name\",\"Company\",\"Age\",\"zip\"\r\n",
      "\"Delaware\",\"2589 Xexurcarjas Brooks\",\"Alana Briggs\",\"pdyjjf\",\"24572\",\"59601\"\r\n",
      "\"state\",\"address\",\"Name\",\"Company\",\"Age\",\"zip\"\r\n",
      "\"Nebraska\",\"560 Rumawacpe Parkway\",\"Lilly Decker\",\"yzekgp\",\"52429\",\"43201\"\r\n",
      "\n",
      "-AsTabDelimited\n",
      "\r\n",
      "\"state\"\t\"address\"\t\"Name\"\t\"Company\"\t\"Age\"\t\"zip\"\r\n",
      "\"Maine\"\t\"466 Kuhec Shl\"\t\"Sandra Dougherty\"\t\"uxglrc\"\t\"94597\"\t\"02901\"\r\n",
      "\"state\"\t\"address\"\t\"Name\"\t\"Company\"\t\"Age\"\t\"zip\"\r\n",
      "\"Louisiana\"\t\"98457 Xeulox Trnpk\"\t\"Luciana Pratt\"\t\"vhqkpo\"\t\"9685\"\t\"84101\"\r\n"
     ]
    }
   ],
   "source": [
    "'-AsPSObject' | csv -pad 1\n",
    "Invoke-Generate $Kind -Count 2 -AsPSObject | Ft\n",
    "\n",
    "'-AsCsv' | csv -pad 1\n",
    "Invoke-Generate $Kind -Count 2 -AsCsv\n",
    "\n",
    "'-AsTabDelimited' | csv -pad 1\n",
    "Invoke-Generate $Kind -Count 2 -AsTabDelimited\n"
   ]
  },
  {
   "cell_type": "markdown",
   "metadata": {},
   "source": [
    "<a href='#nb-top'>Go Top</a>\n",
    "<h4><a name='nb-bottom'>See More</a>\n",
    "\n",
    "- other `.inpynb` here\n",
    "- Works well with [dfinke/ImportExcel](https://github.com/dfinke/ImportExcel)\n",
    "- repo: [dfinke/NameIt](https://github.com/dfinke/NameIt)\n",
    "  "
   ]
  },
  {
   "cell_type": "code",
   "execution_count": null,
   "metadata": {
    "dotnet_interactive": {
     "language": "pwsh"
    },
    "vscode": {
     "languageId": "dotnet-interactive.pwsh"
    }
   },
   "outputs": [
    {
     "name": "stdout",
     "output_type": "stream",
     "text": [
      "\n",
      "object properties as a hash summary:\n",
      "\r\n",
      "@{ Company=steokt, Name=Avery Lowery, Age=39166, address=763 Vemvuk Causeway, state=Michigan, zip=43201Company=tnkmfv, Name=Oliver Blair, Age=74340, address=438 Aqxo Overpass, state=Rhode Island, zip=73101} \r\n",
      "\n",
      "Almost hashtable literals:\n",
      "\r\n",
      "@{ \"Company=lteonr\"\"Name=Kelvin Bright\"\"Age=66354\"\"address=21228 Bofjoxemmid Stra\"\"state=Virginia\"\"zip=73301\"\"Company=gjdqyy\"\"Name=Haley Douglas\"\"Age=33823\"\"address=25062 Mikresnivic Creek\"\"state=Montana\"\"zip=39201\"} \r\n"
     ]
    }
   ],
   "source": [
    "# Testing output\n",
    "'\n",
    "object properties as a hash summary:\n",
    "'\n",
    "Invoke-Generate $Kind -Count 2\n",
    "| Foreach-Object { \n",
    "    $_ -split \"\\r?\\n\" | csv } | Join-String -op '@{ ' -os '} '\n",
    "'\n",
    "Almost hashtable literals:\n",
    "'\n",
    "Invoke-Generate $Kind -Count 2\n",
    "| Foreach-Object { \n",
    "    $_ -split \"\\r?\\n\"\n",
    "    | Join-String -prop {$_ | Join-String -DoubleQuote -sep ' ;  ' } } | Join-String -op '@{ ' -os '} '\n"
   ]
  },
  {
   "cell_type": "code",
   "execution_count": null,
   "metadata": {
    "dotnet_interactive": {
     "language": "pwsh"
    },
    "vscode": {
     "languageId": "dotnet-interactive.pwsh"
    }
   },
   "outputs": [
    {
     "name": "stdout",
     "output_type": "stream",
     "text": [
      "Company=[alpha 6]\r\n",
      "Name=[person]\r\n",
      "round trip should not fail\r\n",
      "{\r\n",
      "  \"Company\": null,\r\n",
      "  \"Name\": \"\"\r\n",
      "}\r\n"
     ]
    }
   ],
   "source": [
    "New-NameItTemplate {[PSCustomObject]@{Company=\"\";Name=\"\"}}\n",
    "\n",
    "\"round trip should not fail\"\n",
    "[PSCustomObject]@{ Company=$null; Name=\"\" } \n",
    "| ConvertTo-Json | convertfrom-json\n",
    "| ConvertTo-Json\n",
    "\n"
   ]
  },
  {
   "cell_type": "code",
   "execution_count": null,
   "metadata": {
    "dotnet_interactive": {
     "language": "pwsh"
    },
    "vscode": {
     "languageId": "dotnet-interactive.pwsh"
    }
   },
   "outputs": [
    {
     "name": "stdout",
     "output_type": "stream",
     "text": [
      "\n",
      "from a [PSCO]\n",
      "\r\n",
      "Name=[person]\r\n",
      "State=[state]\r\n",
      "EmployeeId=[alpha 6]\r\n",
      "\n",
      "from Json\n",
      "\r\n",
      "Name=[person]\r\n",
      "State=[state]\r\n",
      "EmployeId=[numeric 5]\r\n"
     ]
    }
   ],
   "source": [
    "# Can json directly easily work?\n",
    "$json = @'\n",
    "{\n",
    "    \"Name\": \"\",\n",
    "    \"State\": \"\",\n",
    "    \"EmployeId\": 0\n",
    "}\n",
    "'@\n",
    "$Template = @{}\n",
    "\n",
    "$Obj = $Json | ConvertFrom-Json\n",
    "\n",
    "$Template.FromJson = New-NameItTemplate -sb { $obj }\n",
    "$Template.FromCommand = New-NameItTemplate {\n",
    "    [PSCustomObject]@{\n",
    "        Name=\"\"\n",
    "        State=\"\"\n",
    "        EmployeeId=\"\"\n",
    "    }\n",
    "}\n",
    "\n",
    "'from a [PSCO]' | csv -pad 1\n",
    "$Template.FromCommand\n",
    "\n",
    "'from Json' | Csv -Pad 1\n",
    "$Template.FromJson"
   ]
  },
  {
   "cell_type": "markdown",
   "metadata": {},
   "source": [
    "<a href='#nb-top'>Go Top</a>\n",
    "## <a name=\"nb-part3\">New-NameItTemplate</a> \n",
    " \n"
   ]
  },
  {
   "cell_type": "code",
   "execution_count": null,
   "metadata": {
    "dotnet_interactive": {
     "language": "pwsh"
    },
    "vscode": {
     "languageId": "dotnet-interactive.pwsh"
    }
   },
   "outputs": [
    {
     "name": "stdout",
     "output_type": "stream",
     "text": [
      "city\r\n",
      "city both\r\n",
      "city county\r\n"
     ]
    }
   ],
   "source": [
    "# City and County no longer output\n",
    "Invoke-Generate '[city]' -Count 1       \n",
    "Invoke-Generate '[city both]' -Count 1\n",
    "Invoke-Generate '[city county]' -Count 1  -verbose -debug"
   ]
  }
 ],
 "metadata": {
  "kernelspec": {
   "display_name": ".NET (PowerShell)",
   "language": "PowerShell",
   "name": ".net-pwsh"
  },
  "language_info": {
   "name": "PowerShell"
  }
 },
 "nbformat": 4,
 "nbformat_minor": 2
}
