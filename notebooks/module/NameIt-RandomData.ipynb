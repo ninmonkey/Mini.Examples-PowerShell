{
 "cells": [
  {
   "cell_type": "code",
   "execution_count": null,
   "metadata": {
    "dotnet_interactive": {
     "language": "pwsh"
    },
    "vscode": {
     "languageId": "dotnet-interactive.pwsh"
    }
   },
   "outputs": [
    {
     "name": "stdout",
     "output_type": "stream",
     "text": [
      "last executed: 2022-07-04 10:48:40Z\r\n",
      "modules = NameIt 2.3.2\r\n",
      "Pwsh: 7.2.4\r\n",
      "NameIt Commands = Invoke-Generate, New-NameItTemplate\r\n",
      "NameIt Commands = \n",
      " -Invoke-Generate\n",
      " -New-NameItTemplate\r\n"
     ]
    }
   ],
   "source": [
    "# ignore this section, written to be short as possible\n",
    "function nb.JoinCsv { \n",
    "    [Alias('Csv', 'UL')]\n",
    "    [cmdletbinding()]\n",
    "    param(\n",
    "        <# prefix string #>[Alias('op')][Parameter(Position=0)]$Prefix = '',\n",
    "        <# suffix string #> [Alias('os')][Parameter(Position=1)]$Suffix = '',\n",
    "        <# suffix string #> [Alias('Sep')][Parameter()]$Separator = ', ',\n",
    "        <# suffix property #> [Alias('Prop', 'P')][Parameter()]$PropertyName = $Null,\n",
    "        <# Actual Pipe #>[Parameter(ValueFromPipeline, Mandatory)][object[]]$InputObject,\n",
    "        [switch]$Sort, [switch]$Unique, [int]$Pad = 0\n",
    "    )\n",
    "    begin {\n",
    "        $items = [System.Collections.Generic.list[object]]::new()\n",
    "    }\n",
    "    process {\n",
    "        foreach($cur in $InputObject) { $Items.add($cur)}\n",
    "    } \n",
    "    end {\n",
    "        $isUL = $PSCmdlet.MyInvocation.InvocationName -eq 'UL'\n",
    "\n",
    "        $padding = \"`n\" * $Pad -join ''\n",
    "        $Prefix = $Padding + $Prefix\n",
    "        $Suffix = $Suffix + $Padding\n",
    "\n",
    "        if($IsUL) { \n",
    "            $Prefix += \"`n - \"\n",
    "            $Separator = \"`n - \"\n",
    "        }\n",
    "        \n",
    "        $splat = @{  'sep' = $Separator ; 'op' =  $Prefix ; 'os' = $Suffix }\n",
    "        $IsRawText = $items[0] -is 'string'\n",
    "        write-debug $IsRawText\n",
    "        \n",
    "        $filtered = if($Unique) { $Items | Sort -Unique }\n",
    "        elseif($Sort) { $Items | sort }\n",
    "        else { $items } \n",
    "\n",
    "        if($PropertyName -and (! $IsRawText)) { \n",
    "            $filtered | Join-String @splat -Prop $PropertyName\n",
    "            # $Items | Join-String -sep ', ' -op:$Prefix -os $Suffix -Prop $PropertyName\n",
    "        } else {\n",
    "            $filtered | Join-String @splat\n",
    "            # $Items | Join-String -sep ', ' -op:$Prefix -os $Suffix\n",
    "        }\n",
    "    }\n",
    "}\n",
    "\n",
    "('last executed: {0}' -f @((get-date).tostring('u')))\n",
    "Import-Module NameIt -ea stop -passthru | Csv -Prop { $_.Name, $_.Version } -op 'modules = '\n",
    "$PSVersionTable | join-string -op 'Pwsh: ' -Property PSVersion\n",
    "Get-Command -m NameIT | Csv -prop Name -op 'NameIt Commands = '\n",
    "Get-Command -m NameIT | ul -prop Name -op 'NameIt Commands = '\n",
    "\n"
   ]
  },
  {
   "cell_type": "markdown",
   "metadata": {
    "dotnet_interactive": {
     "language": "pwsh"
    }
   },
   "source": [
    "<a name='nb-top' href='#'>Top</a>\n",
    "### Using [github.com/dfinke/NameIt](https://github.com/dfinke/NameIt)\n",
    "<!-- - <a href='#nb-item-1'>Empty File</a>\n",
    "- [Load Column, Row, hashtable](https://github.com/dfinke/ImportExcel/blob/master/FAQ/How%20to%20Read%20an%20Existing%20Excel%20File.md#other-common-operations) -->"
   ]
  },
  {
   "cell_type": "code",
   "execution_count": null,
   "metadata": {
    "dotnet_interactive": {
     "language": "pwsh"
    },
    "vscode": {
     "languageId": "dotnet-interactive.pwsh"
    }
   },
   "outputs": [
    {
     "name": "stdout",
     "output_type": "stream",
     "text": [
      "     [name], [color] = name, brown\r\n",
      "     [name], [color] = name, blue\r\n",
      "     [name], [color] = name, khaki\r\n",
      "     [name], [color] = name, black\r\n",
      "           [address] = 20427 Tupevub Park\r\n",
      "           [address] = 411 Novloqadiw Throughway\r\n",
      "           [address] = 421 Sekjeqixha Oval\r\n",
      "           [address] = 6115 Wasa Court\r\n",
      "                #### = 5221\r\n",
      "                #### = 7414\r\n",
      "                #### = 1099\r\n",
      "                #### = 8222\r\n",
      "     ??-###-####-?## = mf-693-9322-u89\r\n",
      "     ??-###-####-?## = pb-083-6992-u63\r\n",
      "     ??-###-####-?## = qr-605-6860-d62\r\n",
      "     ??-###-####-?## = bx-433-9880-p69\r\n"
     ]
    }
   ],
   "source": [
    "$Templates = @(\n",
    "    '[name], [color]'\n",
    "    '[address]'\n",
    "    '####'\n",
    "    '??-###-####-?##'\n",
    ")\n",
    "$Templates | %{ \n",
    "    foreach($i in 0..3) { \n",
    "    @(\n",
    "        $_.PadLeft(20)\n",
    "        ig $_\n",
    "    ) -join ' = '\n",
    "    }\n",
    "}"
   ]
  },
  {
   "cell_type": "code",
   "execution_count": null,
   "metadata": {
    "dotnet_interactive": {
     "language": "pwsh"
    },
    "vscode": {
     "languageId": "dotnet-interactive.pwsh"
    }
   },
   "outputs": [
    {
     "name": "stdout",
     "output_type": "stream",
     "text": [
      "\n",
      "abc: abababca, bccccbba, aabcbcab\n",
      "\r\n",
      "\n",
      "syllable: eatingplace_cizcor\n",
      "- eatingplace_begya\n",
      "- coffeehouse_nixaw\n",
      "- coffeebar_inal\n",
      "- eatinghouse_xeppeg\n",
      "\r\n"
     ]
    }
   ],
   "source": [
    "\n",
    "#from the docs\n",
    "Invoke-Generate -alpha 'abc' -count 3 | Csv 'abc: ' -pad 1\n",
    "\n",
    "\n",
    "Invoke-Generate -count 5 \"[synonym cafe]_[syllable][syllable]\" | csv -op 'syllable: ' -pad 1 -sep \"`n- \""
   ]
  },
  {
   "cell_type": "markdown",
   "metadata": {},
   "source": [
    "<a href='#nb-top'>Go Top</a>\n",
    "- [Plot](https://github.com/dfinke/ImportExcel/blob/master/Examples/Charts/plot.ps1)\n",
    "\n",
    "<h4 id='nb-bottom'>See More</h4>\n",
    "See more:\n",
    "- Works well with [dfinke/ImportExcel](https://github.com/dfinke/ImportExcel)\n",
    "- repo: [dfinke/NameIt](https://github.com/dfinke/NameIt)\n",
    "  "
   ]
  },
  {
   "cell_type": "code",
   "execution_count": null,
   "metadata": {
    "dotnet_interactive": {
     "language": "pwsh"
    },
    "vscode": {
     "languageId": "dotnet-interactive.pwsh"
    }
   },
   "outputs": [],
   "source": []
  }
 ],
 "metadata": {
  "kernelspec": {
   "display_name": ".NET (PowerShell)",
   "language": "PowerShell",
   "name": ".net-pwsh"
  },
  "language_info": {
   "name": "PowerShell"
  }
 },
 "nbformat": 4,
 "nbformat_minor": 2
}
