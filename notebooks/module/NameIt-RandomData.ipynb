{
 "cells": [
  {
   "cell_type": "code",
   "execution_count": null,
   "metadata": {
    "dotnet_interactive": {
     "language": "pwsh"
    },
    "vscode": {
     "languageId": "dotnet-interactive.pwsh"
    }
   },
   "outputs": [
    {
     "name": "stdout",
     "output_type": "stream",
     "text": [
      "last executed: 2022-07-04 10:55:26Z\r\n",
      "modules = NameIt 2.3.2\r\n",
      "modules = NameIt 2.3.2\r\n",
      "Pwsh: 7.2.4\r\n",
      "NameIt Commands = Invoke-Generate, New-NameItTemplate\r\n",
      "NameIt Commands = Invoke-Generate, New-NameItTemplate\r\n"
     ]
    }
   ],
   "source": [
    "# ignore this section, written to be short as possible\n",
    "function nb.JoinCsv { \n",
    "    [Alias('Csv', 'UL')]\n",
    "    [cmdletbinding()]\n",
    "    param(\n",
    "        <# prefix string #>[Alias('op')][Parameter(Position=0)]$Prefix = '',\n",
    "        <# suffix string #> [Alias('os')][Parameter(Position=1)]$Suffix = '',\n",
    "        <# suffix string #> [Alias('Sep')][Parameter()]$Separator = ', ',\n",
    "        <# suffix property #> [Alias('Prop', 'P')][Parameter()]$PropertyName = $Null,\n",
    "        <# Actual Pipe #>[Parameter(ValueFromPipeline, Mandatory)][object[]]$InputObject,\n",
    "        [switch]$Sort, [switch]$Unique, [int]$Pad = 0\n",
    "    )\n",
    "    begin {\n",
    "        $items = [System.Collections.Generic.list[object]]::new()\n",
    "    }\n",
    "    process {\n",
    "        foreach($cur in $InputObject) { $Items.add($cur)}\n",
    "    } \n",
    "    end {\n",
    "        $isUL = $PSCmdlet.MyInvocation.InvocationName -eq 'UL'\n",
    "\n",
    "        $padding = \"`n\" * $Pad -join ''\n",
    "        $Prefix = $Padding + $Prefix\n",
    "        $Suffix = $Suffix + $Padding\n",
    "\n",
    "        \n",
    "        if($False -and 'original UL' -and $IsUL) {             \n",
    "                $Prefix = $Prefix + \"`n - \"\n",
    "                $Suffix = \"`n - \" + $Suffix\n",
    "                $Separator = \"`n - \"\n",
    "        }\n",
    "        if($IsUL) {             \n",
    "            if( (-not $Separator) -or $Separator -eq ', ') {\n",
    "                $Separator = ' - '    \n",
    "            }\n",
    "            $Prefix = $Prefix + \"`n${Separator}\"\n",
    "            $Suffix = \"`n${Separator}\" + $Suffix\n",
    "            $Separator = \"`n${Separator}\"\n",
    "        }\n",
    "        \n",
    "        $splat = @{  'sep' = $Separator ; 'op' =  $Prefix ; 'os' = $Suffix }\n",
    "        $IsRawText = $items[0] -is 'string'\n",
    "        write-debug $IsRawText\n",
    "        \n",
    "        $filtered = if($Unique) { $Items | Sort -Unique }\n",
    "        elseif($Sort) { $Items | sort }\n",
    "        else { $items } \n",
    "\n",
    "        if($PropertyName -and (! $IsRawText)) { \n",
    "            $filtered | Join-String @splat -Prop $PropertyName\n",
    "            # $Items | Join-String -sep ', ' -op:$Prefix -os $Suffix -Prop $PropertyName\n",
    "        } else {\n",
    "            $filtered | Join-String @splat\n",
    "            # $Items | Join-String -sep ', ' -op:$Prefix -os $Suffix\n",
    "        }\n",
    "    }\n",
    "}\n",
    "\n",
    "('last executed: {0}' -f @((get-date).tostring('u')))\n",
    "Import-Module NameIt -ea stop -passthru | Csv -Prop { $_.Name, $_.Version } -op 'modules = '\n",
    "Import-Module NameIt -ea stop -passthru | Ul -Prop { $_.Name, $_.Version } -op 'modules = '\n",
    "$PSVersionTable | join-string -op 'Pwsh: ' -Property PSVersion\n",
    "Get-Command -m NameIT | Csv -prop Name -op 'NameIt Commands = '\n",
    "Get-Command -m NameIT | ul -prop Name -op 'NameIt Commands = '\n",
    "\n"
   ]
  },
  {
   "cell_type": "markdown",
   "metadata": {
    "dotnet_interactive": {
     "language": "pwsh"
    }
   },
   "source": [
    "<a name='nb-top' href='#'>Top</a>\n",
    "### Using [github.com/dfinke/NameIt](https://github.com/dfinke/NameIt)\n",
    "<!-- - <a href='#nb-item-1'>Empty File</a>\n",
    "- [Load Column, Row, hashtable](https://github.com/dfinke/ImportExcel/blob/master/FAQ/How%20to%20Read%20an%20Existing%20Excel%20File.md#other-common-operations) -->"
   ]
  },
  {
   "cell_type": "code",
   "execution_count": null,
   "metadata": {
    "dotnet_interactive": {
     "language": "pwsh"
    },
    "vscode": {
     "languageId": "dotnet-interactive.pwsh"
    }
   },
   "outputs": [
    {
     "name": "stdout",
     "output_type": "stream",
     "text": [
      "     [name], [color] = name, gray\r\n",
      "     [name], [color] = name, orange\r\n",
      "     [name], [color] = name, magenta\r\n",
      "     [name], [color] = name, beige\r\n",
      "           [address] = 59994 Ocutudzaza Pr\r\n",
      "           [address] = 94400 Wobjakuney Corners\r\n",
      "           [address] = 409 Nihwadqoulej Course\r\n",
      "           [address] = 317 Bavomor Un\r\n",
      "                #### = 7587\r\n",
      "                #### = 3341\r\n",
      "                #### = 2702\r\n",
      "                #### = 4446\r\n",
      "     ??-###-####-?## = se-275-7150-x79\r\n",
      "     ??-###-####-?## = yu-134-0947-u11\r\n",
      "     ??-###-####-?## = ub-371-1236-n05\r\n",
      "     ??-###-####-?## = ha-771-4884-i56\r\n",
      "\n",
      " - [name], [color]\n",
      " - name, cyan\n",
      " - name, orange\n",
      " - name, beige\n",
      " - name, blue\n",
      " - [address]\n",
      " - 140 Yuwuxoqnuni Curve\n",
      " - 9161 Idro Sq\n",
      " - 83628 Yivwuvomri Is\n",
      " - 48402 Uhukeclisduc Run\n",
      " - ####\n",
      " - 6461\n",
      " - 9313\n",
      " - 5021\n",
      " - 6355\n",
      " - ??-###-####-?##\n",
      " - yk-763-8462-x23\n",
      " - io-227-8089-f33\n",
      " - xe-255-0871-w36\n",
      " - pb-901-2724-k46\r\n"
     ]
    }
   ],
   "source": [
    "$Templates = @(\n",
    "    '[name], [color]'\n",
    "    '[address]'\n",
    "    '####'\n",
    "    '??-###-####-?##'\n",
    ")\n",
    "$Templates | %{ \n",
    "    foreach($i in 0..3) { \n",
    "    @(\n",
    "        $_.PadLeft(20)\n",
    "        ig $_\n",
    "    ) -join ' = '\n",
    "    }\n",
    "}\n"
   ]
  },
  {
   "cell_type": "code",
   "execution_count": null,
   "metadata": {
    "dotnet_interactive": {
     "language": "pwsh"
    },
    "vscode": {
     "languageId": "dotnet-interactive.pwsh"
    }
   },
   "outputs": [
    {
     "name": "stdout",
     "output_type": "stream",
     "text": [
      "aaz\r\n",
      "Template = [name], [color]\r\n",
      "\n",
      " - name, khaki\n",
      " - name, yellow\n",
      " - name, violet\n",
      " - name, cyan\r\n",
      "Template = [address]\r\n",
      "\n",
      " - 426 Guvepvi Dr\n",
      " - 3870 Taqlew Byp\n",
      " - 34570 Tuap Overpass\n",
      " - 59709 Xuxgaiwvoik Parkways\r\n",
      "Template = ####\r\n",
      "\n",
      " - 8352\n",
      " - 1887\n",
      " - 9321\n",
      " - 5553\r\n",
      "Template = ??-###-####-?##\r\n",
      "\n",
      " - cl-846-6962-o76\n",
      " - ht-698-6665-c57\n",
      " - cq-921-7531-s96\n",
      " - qp-336-6788-e70\r\n"
     ]
    }
   ],
   "source": [
    "'aaz'\n",
    "$Templates | %{ \n",
    "    $_ | Csv 'Template = '\n",
    "    @(foreach($i in 0..3) { \n",
    "        @(\n",
    "            # $_.PadLeft(20)\n",
    "            ig $_ \n",
    "        ) #| csv \n",
    "    }) | Ul\n",
    "} #| Ul"
   ]
  },
  {
   "cell_type": "code",
   "execution_count": null,
   "metadata": {
    "dotnet_interactive": {
     "language": "pwsh"
    },
    "vscode": {
     "languageId": "dotnet-interactive.pwsh"
    }
   },
   "outputs": [
    {
     "name": "stdout",
     "output_type": "stream",
     "text": [
      "\n",
      "abc: abababca, bccccbba, aabcbcab\n",
      "\r\n",
      "\n",
      "syllable: eatingplace_cizcor\n",
      "- eatingplace_begya\n",
      "- coffeehouse_nixaw\n",
      "- coffeebar_inal\n",
      "- eatinghouse_xeppeg\n",
      "\r\n"
     ]
    }
   ],
   "source": [
    "\n",
    "#from the docs\n",
    "Invoke-Generate -alpha 'abc' -count 3 | Csv 'abc: ' -pad 1\n",
    "\n",
    "\n",
    "Invoke-Generate -count 5 \"[synonym cafe]_[syllable][syllable]\" | csv -op 'syllable: ' -pad 1 -sep \"`n- \""
   ]
  },
  {
   "cell_type": "markdown",
   "metadata": {},
   "source": [
    "<a href='#nb-top'>Go Top</a>\n",
    "- [Plot](https://github.com/dfinke/ImportExcel/blob/master/Examples/Charts/plot.ps1)\n",
    "\n",
    "<h4 id='nb-bottom'>See More</h4>\n",
    "See more:\n",
    "- Works well with [dfinke/ImportExcel](https://github.com/dfinke/ImportExcel)\n",
    "- repo: [dfinke/NameIt](https://github.com/dfinke/NameIt)\n",
    "  "
   ]
  },
  {
   "cell_type": "code",
   "execution_count": null,
   "metadata": {
    "dotnet_interactive": {
     "language": "pwsh"
    },
    "vscode": {
     "languageId": "dotnet-interactive.pwsh"
    }
   },
   "outputs": [],
   "source": []
  }
 ],
 "metadata": {
  "kernelspec": {
   "display_name": ".NET (PowerShell)",
   "language": "PowerShell",
   "name": ".net-pwsh"
  },
  "language_info": {
   "name": "PowerShell"
  }
 },
 "nbformat": 4,
 "nbformat_minor": 2
}
