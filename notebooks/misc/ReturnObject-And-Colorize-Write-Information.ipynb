{
 "cells": [
  {
   "cell_type": "code",
   "execution_count": null,
   "metadata": {
    "dotnet_interactive": {
     "language": "pwsh"
    },
    "vscode": {
     "languageId": "dotnet-interactive.pwsh"
    }
   },
   "outputs": [
    {
     "name": "stdout",
     "output_type": "stream",
     "text": [
      "You found 3 files, newest of the 3 \u001b[91m\u001b[48;2;255;165;0m5/13/2022 2:22:54 PM\u001b[49m\u001b[39m\r\n",
      "content of $files? it's not text\r\n",
      "\r\n",
      "    Directory: C:\\\r\n",
      "\r\n",
      "\u001b[32;1mMode        LastWriteTime Length Name\u001b[0m\r\n",
      "\u001b[32;1m----        ------------- ------ ----\u001b[0m\r\n",
      "d----  7/19/2020  5:29 PM        apps\r\n",
      "d---- 12/12/2021 12:17 PM        autocomplete\r\n",
      "d----  5/13/2022  2:22 PM        bin_nin\r\n",
      "\r\n"
     ]
    }
   ],
   "source": [
    "function firstFiles {\n",
    "  # write colors without polluting your objects\n",
    "  [cmdletbinding()]\n",
    "  param()\n",
    "  $files = ls -path 'c:/' | select -first 3\n",
    "\n",
    "  'You found {0} files, newest of the 3 {1}' -f @(\n",
    "      $files.count\n",
    "      $files\n",
    "      | sort LastWriteTime -Descending -Top 1 \n",
    "      | % lastwritetime\n",
    "      | New-text -fg 'red' -bg 'orange'\n",
    "  )\n",
    "  | write-information \n",
    "\n",
    "  return $files \n",
    "}\n",
    "\n",
    "$files = firstFiles -infa Continue\n",
    "'content of $files? it''s not text'\n",
    "$files | ft -auto\n"
   ]
  }
 ],
 "metadata": {
  "kernelspec": {
   "display_name": ".NET (C#)",
   "language": "C#",
   "name": ".net-csharp"
  },
  "language_info": {
   "file_extension": ".cs",
   "mimetype": "text/x-csharp",
   "name": "C#",
   "pygments_lexer": "csharp",
   "version": "9.0"
  },
  "vscode": {
   "interpreter": {
    "hash": "74c392d937995c80c000e965374d78af3f189f264a4219fb3bb9b9db8f0c4454"
   }
  }
 },
 "nbformat": 4,
 "nbformat_minor": 2
}
