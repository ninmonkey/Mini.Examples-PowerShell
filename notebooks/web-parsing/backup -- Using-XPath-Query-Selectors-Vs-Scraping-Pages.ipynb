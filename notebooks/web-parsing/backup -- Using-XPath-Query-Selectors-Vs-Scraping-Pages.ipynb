{
 "cells": [
  {
   "cell_type": "code",
   "execution_count": null,
   "metadata": {
    "dotnet_interactive": {
     "language": "pwsh"
    },
    "vscode": {
     "languageId": "dotnet-interactive.pwsh"
    }
   },
   "outputs": [],
   "source": [
    "Import-Module PowerHTML\n",
    "$Url = @{ PowerBI_Blog = 'https://powerbi.microsoft.com/en-us/blog/'  }\n",
    "$qRaw ??= PowerHTML\\ConvertFrom-Html -URI $Url.PowerBI_Blog -Raw\n",
    "$q ??= PowerHTML\\ConvertFrom-Html -URI $Url.PowerBI_Blog \n",
    "New-Alias 'jstr' Join-String -ea ignore\n",
    "function Csv {  \n",
    "    $Input | Join-String -sep ', '\n",
    "}"
   ]
  },
  {
   "cell_type": "markdown",
   "metadata": {},
   "source": [
    "References:\n",
    "- [XPath from 3schools](https://www.w3schools.com/xml/xpath_syntax.asp)\n",
    "- [Cheat Sheet: devhints.io](https://devhints.io/xpath)"
   ]
  },
  {
   "cell_type": "markdown",
   "metadata": {},
   "source": []
  },
  {
   "cell_type": "code",
   "execution_count": null,
   "metadata": {
    "dotnet_interactive": {
     "language": "pwsh"
    },
    "vscode": {
     "languageId": "dotnet-interactive.pwsh"
    }
   },
   "outputs": [
    {
     "name": "stdout",
     "output_type": "stream",
     "text": [
      "Default: HtmlAgilityPack.HtmlNode, System.Object\r\n",
      "With -Raw: HtmlAgilityPack.HtmlDocument, System.Object\r\n"
     ]
    }
   ],
   "source": [
    "$q.pstypenames | Csv | jStr -op '$q is a: '\n",
    "$qRaw.PSTypeNames | Csv  | jStr -op '$qRaw is a: '"
   ]
  },
  {
   "cell_type": "code",
   "execution_count": null,
   "metadata": {
    "dotnet_interactive": {
     "language": "pwsh"
    },
    "vscode": {
     "languageId": "dotnet-interactive.pwsh"
    }
   },
   "outputs": [
    {
     "name": "stdout",
     "output_type": "stream",
     "text": [
      "\r\n",
      "\u001b[32;1mNodeType Name AttributeCount ChildNodeCount ContentLength InnerText\u001b[0m\r\n",
      "\u001b[32;1m-------- ---- -------------- -------------- ------------- ---------\u001b[0m\r\n",
      "Element  a    4              1              20            Skip to main content\r\n",
      "Element  a    5              3              134             \r\n",
      "Element  a    5              1              10             Power BI \r\n",
      "Element  a    5              1              8              Cancel \r\n",
      "Element  a    3              1              16            What is Power BI\r\n",
      "Element  a    3              1              12            Why Power BI\r\n",
      "Element  a    3              1              16            Customer stories\r\n",
      "Element  a    3              1              12            Data visuals\r\n",
      "Element  a    3              1              8             Security\r\n",
      "Element  a    3              1              16            Power BI Desktop\r\n",
      "Element  a    3              1              12            Power BI Pro\r\n",
      "Element  a    3              1              16            Power BI Premium\r\n",
      "Element  a    3              1              15            Power BI Mobile\r\n",
      "Skip to main content,   ,  Power BI ,  Cancel , What is Power BI, Why Power BI, Customer stories, Data visuals, Security, Power BI Desktop, Power BI Pro, Power BI Premium, Power BI Mobile, Power BI Embedded, Power BI Report Server, Pricing, Azure + Power BI, Office 365 + Power BI , Energy, Healthcare, Manufacturing, Media, Retail, For analysts, For IT, Overview, Embedded analytics, Power BI visuals, Automation, Documentation, Community, Overview, Find consulting services, Partner showcase, Find a partner, Become a partner, Instructor-led training, Getting started, Overview, Online workshops, Self-guided learning, Webinars, Documentation, Roadmap, Overview, Issues, Give feedback, Blog, Business intelligence topics, Overview, Forums, Galleries, Submit ideas, Events, User groups, Community blog,  Sign in ,  Try free , Buy now,  Search  ,  Sign in ,  Try free , Buy now,   ,   , Power BI June 2022 Feature Summary, Oksana Kyrychenko, Read more, Preview data is now available in the dataset details page, Announcements, Features, Paginated Reports, Power BI, Cookie McCray, &raquo; Read more, Updates to full report attachments for email subscriptions in Premium Gen2, Announcements, Power BI, Michael Bruhjell, &raquo; Read more, SQL Server Reporting Services 2022 , Announcements, Features, Report Server, Cookie McCray, &raquo; Read more, Enhanced refresh with the Power BI REST API is now generally available, Admin, Analysis Services, Announcements, API, Features, Power BI, Ogbemi Ekwejunor-Etchie, &raquo; Read more, On-premises data gateway May 2022 update is now available, Announcements, Miquella de Boer, &raquo; Read more, Unlocking new self-service BI scenarios with ExecuteQueries support in Power Automate, API, Developers, Features, Goals, Power BI, Kay Unkroth, &raquo; Read more, Power BI Report Server May 2022 Feature Summary, Announcements, Power BI, Report Server, Oksana Kyrychenko, &raquo; Read more, Announcing general availability of the ExecuteQueries REST API, Announcements, API, Developers, Features, Power BI, Kay Unkroth, &raquo; Read more, Announcing general availability of automatic aggregations, Announcements, Features, Power BI, Kay Unkroth, &raquo; Read more, 1, 2, 3, 4, , , Read more,       VIEW RSS FEED , Admin, Analysis Services, Announcements, API, Archive, Developers, Features, Goals, Information Protection, Metrics, Paginated Reports, Power BI, Power BI Embedded, Report Server, Support, Template apps, June 2022, May 2022, April 2022, March 2022, February 2022, January 2022, December 2021, November 2021, October 2021, September 2021, August 2021, July 2021, June 2021, May 2021, April 2021, March 2021, February 2021, January 2021, December 2020, November 2020, October 2020, September 2020, August 2020, July 2020, June 2020, May 2020, April 2020, March 2020, February 2020, January 2020, December 2019, November 2019, October 2019, September 2019, August 2019, July 2019, June 2019, May 2019, April 2019, March 2019, February 2019, January 2019, December 2018, November 2018, October 2018, September 2018, August 2018, July 2018, June 2018, May 2018, April 2018, March 2018, February 2018, January 2018, December 2017, November 2017, October 2017, September 2017, August 2017, July 2017, June 2017, May 2017, April 2017, March 2017, February 2017, January 2017, December 2016, November 2016, October 2016, September 2016, August 2016, July 2016, June 2016, May 2016, April 2016, March 2016, February 2016, January 2016, December 2015, November 2015, October 2015, September 2015, August 2015, July 2015, June 2015, May 2015, April 2015, March 2015, February 2015, January 2015, December 2014, November 2014, October 2014, September 2014, August 2014, July 2014, June 2014, May 2014, April 2014, March 2014, February 2014, January 2014, December 2013, November 2013, October 2013, September 2013, August 2013, July 2013, Overview, Power BI, Power&nbsp;Apps, Power&nbsp;Automate, Power&nbsp;Virtual&nbsp;Agents, Sign in, Sign up, Solutions, Partners, Consulting Services, Power BI Desktop, Power BI Mobile, Power BI Report Server, See all downloads, Guided learning, Documentation, Support, Community, Give feedback, Webinars, Developers, Blog, Newsletter,       ,                  ,                  ,                  ,  Privacy &amp; cookies , Manage cookies, Terms of use, Trademarks\r\n",
      "\u001b[91mhr: \r\n",
      "\u001b[96mLine |\r\n",
      "\u001b[96m   5 | \u001b[0m \u001b[96mhr\u001b[0m\r\n",
      "\u001b[96m     | \u001b[91m ~~\r\n",
      "\u001b[91m\u001b[96m     | \u001b[91mThe term 'hr' is not recognized as a name of a cmdlet, function, script file, or executable program.\r\n",
      "Check the spelling of the name, or if a path was included, verify that the path is correct and try again.\u001b[0m\r\n",
      "\r\n"
     ]
    }
   ],
   "source": [
    "$q.SelectNodes('//a') | select -first 13\n",
    "$q.SelectNodes('//a').InnerText | Csv \n",
    "\n",
    "$nodes | Get-Random -Count 3 | ft\n",
    "hr\n",
    "($nodes | Get-Random -Count 3).attributes |Ft"
   ]
  },
  {
   "cell_type": "code",
   "execution_count": null,
   "metadata": {
    "dotnet_interactive": {
     "language": "pwsh"
    },
    "vscode": {
     "languageId": "dotnet-interactive.pwsh"
    }
   },
   "outputs": [
    {
     "name": "stdout",
     "output_type": "stream",
     "text": [
      "WARNING: $q.SelectNodes(\"//a[@href~='category']\") | Select -first 10\n",
      "\n",
      "Left off here, was supposed to partial match an attribute or title\r\n"
     ]
    }
   ],
   "source": [
    "write-warning @'\n",
    "$q.SelectNodes(\"//a[@href~='category']\") | Select -first 10\n",
    "\n",
    "Left off here, was supposed to partial match an attribute or title\n",
    "'@"
   ]
  },
  {
   "cell_type": "code",
   "execution_count": null,
   "metadata": {
    "dotnet_interactive": {
     "language": "pwsh"
    },
    "vscode": {
     "languageId": "dotnet-interactive.pwsh"
    }
   },
   "outputs": [
    {
     "name": "stdout",
     "output_type": "stream",
     "text": [
      "\r\n",
      "\u001b[32;1mNodeType Name AttributeCount ChildNodeCount ContentLength InnerText\u001b[0m\r\n",
      "\u001b[32;1m-------- ---- -------------- -------------- ------------- ---------\u001b[0m\r\n",
      "Element  a    3              1              17            Analysis Services\r\n",
      "Element  a    2              1              17            Analysis Services\r\n",
      "\r\n"
     ]
    }
   ],
   "source": [
    "\n",
    "$q.SelectNodes(\"//a[@href='/en-us/blog/category/analysis-services/']\") | Select -first 10"
   ]
  },
  {
   "cell_type": "markdown",
   "metadata": {},
   "source": [
    "| What | XPath |\n",
    "| - | - | \n",
    "| Exactly match attribute  | `//a[@href='/en-us/blog/category/analysis-services/']`  | "
   ]
  }
 ],
 "metadata": {
  "kernelspec": {
   "display_name": ".NET (C#)",
   "language": "C#",
   "name": ".net-csharp"
  },
  "language_info": {
   "file_extension": ".cs",
   "mimetype": "text/x-csharp",
   "name": "C#",
   "pygments_lexer": "csharp",
   "version": "9.0"
  },
  "orig_nbformat": 4,
  "vscode": {
   "interpreter": {
    "hash": "8e65ecf69b84ee21005b94e358f2d3cf10262c9f41faddc0c8feb501dc97a6c9"
   }
  }
 },
 "nbformat": 4,
 "nbformat_minor": 2
}
