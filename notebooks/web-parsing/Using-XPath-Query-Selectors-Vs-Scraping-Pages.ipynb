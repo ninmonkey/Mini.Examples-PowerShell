{
 "cells": [
  {
   "cell_type": "code",
   "execution_count": null,
   "metadata": {
    "dotnet_interactive": {
     "language": "pwsh"
    },
    "vscode": {
     "languageId": "dotnet-interactive.pwsh"
    }
   },
   "outputs": [],
   "source": [
    "Import-Module PowerHTML\n",
    "$Url = @{ PowerBI_Blog = 'https://powerbi.microsoft.com/en-us/blog/'  }\n",
    "$qRaw ??= PowerHTML\\ConvertFrom-Html -URI $Url.PowerBI_Blog -Raw\n",
    "$q ??= PowerHTML\\ConvertFrom-Html -URI $Url.PowerBI_Blog \n",
    "New-Alias 'jstr' Join-String -ea ignore\n",
    "function Csv {  \n",
    "    $Input | Join-String -sep ', '\n",
    "}"
   ]
  },
  {
   "cell_type": "markdown",
   "metadata": {},
   "source": [
    "References:\n",
    "- [XPath from 3schools](https://www.w3schools.com/xml/xpath_syntax.asp)\n",
    "- [Cheat Sheet: devhints.io](https://devhints.io/xpath)"
   ]
  },
  {
   "cell_type": "markdown",
   "metadata": {},
   "source": []
  },
  {
   "cell_type": "code",
   "execution_count": null,
   "metadata": {
    "dotnet_interactive": {
     "language": "pwsh"
    },
    "vscode": {
     "languageId": "dotnet-interactive.pwsh"
    }
   },
   "outputs": [
    {
     "name": "stdout",
     "output_type": "stream",
     "text": [
      "Default  : HtmlAgilityPack.HtmlNode, System.Object\r\n",
      "With -Raw: HtmlAgilityPack.HtmlDocument, System.Object\r\n"
     ]
    }
   ],
   "source": [
    "$q.pstypenames | Csv | jStr -op '$q is a: '\n",
    "$qRaw.PSTypeNames | Csv  | jStr -op '$qRaw is a: '"
   ]
  },
  {
   "cell_type": "code",
   "execution_count": null,
   "metadata": {
    "dotnet_interactive": {
     "language": "pwsh"
    },
    "vscode": {
     "languageId": "dotnet-interactive.pwsh"
    }
   },
   "outputs": [
    {
     "name": "stdout",
     "output_type": "stream",
     "text": [
      "\r\n",
      "\u001b[32;1mNodeType Name AttributeCount ChildNodeCount ContentLength InnerText\u001b[0m\r\n",
      "\u001b[32;1m-------- ---- -------------- -------------- ------------- ---------\u001b[0m\r\n",
      "Element  a    4              1              20            Skip to main content\r\n",
      "Element  a    5              3              134             \r\n",
      "Element  a    5              1              10             Power BI \r\n",
      "Element  a    5              1              8              Cancel \r\n",
      "Element  a    3              1              16            What is Power BI\r\n",
      "Element  a    3              1              12            Why Power BI\r\n",
      "Element  a    3              1              16            Customer stories\r\n",
      "Element  a    3              1              12            Data visuals\r\n",
      "Element  a    3              1              8             Security\r\n",
      "Element  a    3              1              16            Power BI Desktop\r\n",
      "\r\n"
     ]
    }
   ],
   "source": [
    "$q.SelectNodes('//a') | select -first 13\n",
    "$q.SelectNodes('//a').InnerText | Csv \n",
    "\n",
    "$nodes | Get-Random -Count 3 | ft\n",
    "hr\n",
    "($nodes | Get-Random -Count 3).attributes |Ft"
   ]
  },
  {
   "cell_type": "code",
   "execution_count": null,
   "metadata": {
    "dotnet_interactive": {
     "language": "pwsh"
    },
    "vscode": {
     "languageId": "dotnet-interactive.pwsh"
    }
   },
   "outputs": [
    {
     "name": "stdout",
     "output_type": "stream",
     "text": [
      "WARNING: $q.SelectNodes(\"//a[@href~='category']\") | Select -first 10\n",
      "\n",
      "Left off here, was supposed to partial match an attribute or title\r\n"
     ]
    }
   ],
   "source": [
    "write-warning @'\n",
    "$q.SelectNodes(\"//a[@href~='category']\") | Select -first 10\n",
    "\n",
    "Left off here, was supposed to partial match an attribute or title\n",
    "'@"
   ]
  },
  {
   "cell_type": "code",
   "execution_count": null,
   "metadata": {
    "dotnet_interactive": {
     "language": "pwsh"
    },
    "vscode": {
     "languageId": "dotnet-interactive.pwsh"
    }
   },
   "outputs": [
    {
     "name": "stdout",
     "output_type": "stream",
     "text": [
      "\r\n",
      "\u001b[32;1mNodeType Name AttributeCount ChildNodeCount ContentLength InnerText\u001b[0m\r\n",
      "\u001b[32;1m-------- ---- -------------- -------------- ------------- ---------\u001b[0m\r\n",
      "Element  a    3              1              17            Analysis Services\r\n",
      "Element  a    2              1              17            Analysis Services\r\n",
      "\r\n"
     ]
    }
   ],
   "source": [
    "\n",
    "$q.SelectNodes(\"//a[@href='/en-us/blog/category/analysis-services/']\") | Select -first 10"
   ]
  },
  {
   "cell_type": "markdown",
   "metadata": {},
   "source": [
    "| What | XPath |\n",
    "| - | - | \n",
    "| Exactly match attribute  | `//a[@href='/en-us/blog/category/analysis-services/']`  | \n",
    "| All Elements, anywhere  | `//a` | \n"
   ]
  },
  {
   "cell_type": "code",
   "execution_count": null,
   "metadata": {
    "dotnet_interactive": {
     "language": "pwsh"
    },
    "vscode": {
     "languageId": "dotnet-interactive.pwsh"
    }
   },
   "outputs": [
    {
     "name": "stdout",
     "output_type": "stream",
     "text": [
      "\r\n",
      "\u001b[32;1mNodeType Name AttributeCount ChildNodeCount ContentLength InnerText\u001b[0m\r\n",
      "\u001b[32;1m-------- ---- -------------- -------------- ------------- ---------\u001b[0m\r\n",
      "Element  a    3              1              17            Analysis Services\r\n",
      "Element  a    2              1              17            Analysis Services\r\n",
      "Element  a    3              1              17            Analysis Services\r\n",
      "Element  a    2              1              17            Analysis Services\r\n",
      "\r\n"
     ]
    }
   ],
   "source": [
    "$q.SelectNodes(\"//a[@href='/en-us/blog/category/analysis-services/']\") | Select -first 10\n",
    "$q.SelectNodes(\"//a[@href='/en-us/blog/category/analysis-services/']\") | Select -first 10"
   ]
  }
 ],
 "metadata": {
  "kernelspec": {
   "display_name": ".NET (C#)",
   "language": "C#",
   "name": ".net-csharp"
  },
  "language_info": {
   "file_extension": ".cs",
   "mimetype": "text/x-csharp",
   "name": "C#",
   "pygments_lexer": "csharp",
   "version": "9.0"
  },
  "orig_nbformat": 4,
  "vscode": {
   "interpreter": {
    "hash": "8e65ecf69b84ee21005b94e358f2d3cf10262c9f41faddc0c8feb501dc97a6c9"
   }
  }
 },
 "nbformat": 4,
 "nbformat_minor": 2
}
