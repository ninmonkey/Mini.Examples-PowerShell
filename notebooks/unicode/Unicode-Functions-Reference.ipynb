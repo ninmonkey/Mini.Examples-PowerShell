{
 "cells": [
  {
   "cell_type": "markdown",
   "metadata": {
    "dotnet_interactive": {
     "language": "pwsh"
    }
   },
   "source": [
    "## Converting from Codepoint to Char and Back"
   ]
  },
  {
   "cell_type": "code",
   "execution_count": null,
   "metadata": {
    "dotnet_interactive": {
     "language": "pwsh"
    },
    "vscode": {
     "languageId": "dotnet-interactive.pwsh"
    }
   },
   "outputs": [
    {
     "name": "stdout",
     "output_type": "stream",
     "text": [
      "g\r\n",
      "\u001b[91mInvalidArgument: \r\n",
      "\u001b[96mLine |\r\n",
      "\u001b[96m   3 | \u001b[0m \u001b[96m[char]0x1f468\u001b[0m\r\n",
      "\u001b[96m     | \u001b[91m ~~~~~~~~~~~~~\r\n",
      "\u001b[91m\u001b[96m     | \u001b[91mCannot convert value \"128104\" to type \"System.Char\". Error: \"Value was either too large or too small for a character.\"\u001b[0m\r\n",
      "was it too big?\r\n",
      "True\r\n"
     ]
    }
   ],
   "source": [
    "# wrong way\n",
    "[char]103\n",
    "[char]0x1f468\n",
    "'was it too big?'\n",
    "0x1f468 -gt [char]::MaxValue"
   ]
  },
  {
   "cell_type": "code",
   "execution_count": null,
   "metadata": {
    "dotnet_interactive": {
     "language": "pwsh"
    },
    "vscode": {
     "languageId": "dotnet-interactive.pwsh"
    }
   },
   "outputs": [
    {
     "name": "stdout",
     "output_type": "stream",
     "text": [
      "👨\r\n",
      "128104\r\n",
      "True\r\n"
     ]
    }
   ],
   "source": [
    "# Codepoint (int32) to char/string\n",
    "[char]::ConvertFromUtf32( 0x1f468 )\n",
    "\n",
    "# codepoint from [char] to codepoint\n",
    "$charList = '👨'.ToCharArray()\n",
    "[char]::ConvertToUtf32( $charList[0], $charList[1] )\n",
    "\n",
    "# it outputs in decimal, it's the same number\n",
    "128104 -eq 0x1f468\n"
   ]
  },
  {
   "cell_type": "markdown",
   "metadata": {},
   "source": [
    "Note: The return type of `[char]::ConvertFromUtf32` is actually a `[string]`, not a `[char]`"
   ]
  },
  {
   "cell_type": "code",
   "execution_count": null,
   "metadata": {
    "dotnet_interactive": {
     "language": "pwsh"
    },
    "vscode": {
     "languageId": "dotnet-interactive.pwsh"
    }
   },
   "outputs": [
    {
     "name": "stdout",
     "output_type": "stream",
     "text": [
      "\r\n",
      "\u001b[32;1mDetails          Input         Utf16Length TotalCodepoints\u001b[0m\r\n",
      "\u001b[32;1m-------          -----         ----------- ---------------\u001b[0m\r\n",
      "{👨, 👨, ‍, 👩…} 👨👨‍👩‍👧‍👦          13               8\r\n",
      "\r\n",
      "\r\n",
      "\u001b[32;1mIsAscii IsBmp Plane Utf16SequenceLength Utf8SequenceLength  Value\u001b[0m\r\n",
      "\u001b[32;1m------- ----- ----- ------------------- ------------------  -----\u001b[0m\r\n",
      "  False False     1                   2                  4 128104\r\n",
      "  False False     1                   2                  4 128104\r\n",
      "  False  True     0                   1                  3   8205\r\n",
      "  False False     1                   2                  4 128105\r\n",
      "  False  True     0                   1                  3   8205\r\n",
      "  False False     1                   2                  4 128103\r\n",
      "  False  True     0                   1                  3   8205\r\n",
      "  False False     1                   2                  4 128102\r\n",
      "\r\n"
     ]
    }
   ],
   "source": [
    "function inspectString {\n",
    "    param(\n",
    "        [string]$InputText\n",
    "    )\n",
    "    $info = @{\n",
    "        'Input' = $InputText\n",
    "        'Utf16Length' = $InputText.Length\n",
    "        'TotalCodepoints' = $inputText.EnumerateRunes().Value.count\n",
    "        'Details' = $InputText.EnumerateRunes()\n",
    "    }\n",
    "    return [pscustomobject]$Info\n",
    "    # return $Info\n",
    "}\n",
    "\n",
    "$str = '👨👨‍👩‍👧‍👦'\n",
    "$strMan = '👨'\n",
    "inspectString $str \n",
    "(inspectString $str ).Details | Ft -auto\n"
   ]
  },
  {
   "cell_type": "code",
   "execution_count": null,
   "metadata": {
    "dotnet_interactive": {
     "language": "pwsh"
    },
    "vscode": {
     "languageId": "dotnet-interactive.pwsh"
    }
   },
   "outputs": [
    {
     "name": "stdout",
     "output_type": "stream",
     "text": [
      "\r\n",
      "\u001b[32;1mSum Property\u001b[0m\r\n",
      "\u001b[32;1m--- --------\u001b[0m\r\n",
      " 13 Utf16SequenceLength\r\n",
      " 29 Utf8SequenceLength\r\n",
      "\r\n",
      "13\r\n"
     ]
    }
   ],
   "source": [
    "function inspectStrLength {\n",
    "    \n",
    "}\n",
    "\n",
    "inspectStrLength $str\n",
    "| Measure-Object -Property Utf16SequenceLength, Utf8SequenceLength -Sum | ft Sum, Property\n",
    "$str.length\n",
    "\n"
   ]
  },
  {
   "cell_type": "code",
   "execution_count": null,
   "metadata": {
    "dotnet_interactive": {
     "language": "pwsh"
    },
    "vscode": {
     "languageId": "dotnet-interactive.pwsh"
    }
   },
   "outputs": [
    {
     "name": "stdout",
     "output_type": "stream",
     "text": [
      "other numbers\r\n",
      "29\r\n",
      "26\r\n",
      "\u001b[91mMethodException: \r\n",
      "\u001b[96mLine |\r\n",
      "\u001b[96m   5 | \u001b[0m \u001b[96m[Text.Encoding]::Unicode.GetCharCount( $str )\u001b[0m\r\n",
      "\u001b[96m     | \u001b[91m ~~~~~~~~~~~~~~~~~~~~~~~~~~~~~~~~~~~~~~~~~~~~~\r\n",
      "\u001b[91m\u001b[96m     | \u001b[91mCannot convert argument \"bytes\", with value: \"👨👨‍👩‍👧‍👦\", for \"GetCharCount\" to type \"System.Byte[]\": \"Cannot convert value \"👨👨‍👩‍👧‍👦\" to type \"System.Byte[]\". Error: \"Cannot convert value \"👨👨‍👩‍👧‍👦\" to type \"System.Byte\". Error: \"Input string was not in a correct format.\"\"\"\u001b[0m\r\n",
      "26\r\n"
     ]
    }
   ],
   "source": [
    "'other numbers'\n",
    "[Text.Encoding]::UTF8.GetByteCount( $str )\n",
    "\n",
    "[Text.Encoding]::Unicode.GetByteCount( $str )\n",
    "[Text.Encoding]::Unicode.GetCharCount( $str )\n",
    "[Text.Encoding]::Unicode.GetBytes( $str ).count"
   ]
  },
  {
   "cell_type": "markdown",
   "metadata": {},
   "source": [
    "Converting a codepoint to a `[char]`, (actually a `[string]`)"
   ]
  },
  {
   "cell_type": "markdown",
   "metadata": {
    "dotnet_interactive": {
     "language": "pwsh"
    }
   },
   "source": [
    "Assume that Dotnet uses the encoding `UTF-16LE` by default, unless the docs explicitly say another. \n",
    "| Type | Description |\n",
    "| - | -  |\n",
    "| `[char]` | represesnts a single UTF16le `code-unit`<br>max value is **2-bytes** |\n",
    "| `[String]` | a list of utf16le code-units | \n",
    "| `[Rune]` | represents a single Unicode Scalar Codepoint<br>in the range `[0..0x10ffff]`<br>Except the Surrogate range `[0xd800..0xdfff]`   |\n",
    "\n",
    "docs:\n",
    "- [Introduction to Character Encoding in `.NET`](https://docs.microsoft.com/en-us/dotnet/standard/base-types/character-encoding-introduction)\n",
    "- [`[Char]`](https://docs.microsoft.com/en-us/dotnet/api/system.char?view=net-6.0)\n",
    "- [`[String]`](https://docs.microsoft.com/en-us/dotnet/api/system.char?view=net-6.0)\n",
    "- [`[Text.Rune]`](https://docs.microsoft.com/en-us/dotnet/api/system.text.rune?view=net-6.0)\n",
    "- [`[Globalization.StringInfo]`](https://docs.microsoft.com/en-us/dotnet/api/system.globalization.stringinfo?view=net-6.0)"
   ]
  },
  {
   "cell_type": "markdown",
   "metadata": {},
   "source": []
  },
  {
   "cell_type": "markdown",
   "metadata": {},
   "source": [
    "Note: **WindowsPowershell** does not have any `[Rune]` functions\n",
    "\n",
    "See more:\n",
    "- [Introduction to Character Encoding in `.NET`](https://docs.microsoft.com/en-us/dotnet/standard/base-types/character-encoding-introduction)\n",
    "- [`System.String` and `char`](https://docs.microsoft.com/en-us/dotnet/api/system.string?view=net-6.0#char-objects-and-unicode-characters)"
   ]
  }
 ],
 "metadata": {
  "kernelspec": {
   "display_name": ".NET (PowerShell)",
   "language": "PowerShell",
   "name": ".net-pwsh"
  },
  "language_info": {
   "name": "PowerShell"
  }
 },
 "nbformat": 4,
 "nbformat_minor": 2
}
