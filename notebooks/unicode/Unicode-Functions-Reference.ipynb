{
 "cells": [
  {
   "cell_type": "markdown",
   "metadata": {
    "dotnet_interactive": {
     "language": "pwsh"
    }
   },
   "source": [
    "## Converting from Codepoint to Char and Back"
   ]
  },
  {
   "cell_type": "code",
   "execution_count": null,
   "metadata": {
    "dotnet_interactive": {
     "language": "pwsh"
    },
    "vscode": {
     "languageId": "dotnet-interactive.pwsh"
    }
   },
   "outputs": [
    {
     "name": "stdout",
     "output_type": "stream",
     "text": [
      "g\r\n",
      "\u001b[91mInvalidArgument: \r\n",
      "\u001b[96mLine |\r\n",
      "\u001b[96m   3 | \u001b[0m \u001b[96m[char]0x1f468\u001b[0m\r\n",
      "\u001b[96m     | \u001b[91m ~~~~~~~~~~~~~\r\n",
      "\u001b[91m\u001b[96m     | \u001b[91mCannot convert value \"128104\" to type \"System.Char\". Error: \"Value was either too large or too small for a character.\"\u001b[0m\r\n"
     ]
    }
   ],
   "source": [
    "# wrong way\n",
    "[char]103\n",
    "[char]0x1f468"
   ]
  },
  {
   "cell_type": "code",
   "execution_count": null,
   "metadata": {
    "dotnet_interactive": {
     "language": "pwsh"
    },
    "vscode": {
     "languageId": "dotnet-interactive.pwsh"
    }
   },
   "outputs": [
    {
     "name": "stdout",
     "output_type": "stream",
     "text": [
      "was it too big to fit into one [char]?\r\n",
      "True\r\n"
     ]
    }
   ],
   "source": [
    "'was it too big to fit into one [char]?'\n",
    "0x1f468 -gt [char]::MaxValue"
   ]
  },
  {
   "cell_type": "code",
   "execution_count": null,
   "metadata": {
    "dotnet_interactive": {
     "language": "pwsh"
    },
    "vscode": {
     "languageId": "dotnet-interactive.pwsh"
    }
   },
   "outputs": [
    {
     "name": "stdout",
     "output_type": "stream",
     "text": [
      "👨\r\n",
      "128104\r\n",
      "True\r\n"
     ]
    }
   ],
   "source": [
    "# Codepoint (int32) to char/string\n",
    "[char]::ConvertFromUtf32( 0x1f468 )\n",
    "\n",
    "# codepoint from [char] to codepoint\n",
    "$charList = '👨'.ToCharArray()\n",
    "[char]::ConvertToUtf32( $charList[0], $charList[1] )\n",
    "\n",
    "# it outputs in decimal, it's the same number\n",
    "128104 -eq 0x1f468\n"
   ]
  },
  {
   "cell_type": "markdown",
   "metadata": {},
   "source": [
    "Note: The return type of `[char]::ConvertFromUtf32` is actually a `[string]`, not a `[char]`"
   ]
  },
  {
   "cell_type": "code",
   "execution_count": null,
   "metadata": {
    "dotnet_interactive": {
     "language": "pwsh"
    },
    "vscode": {
     "languageId": "dotnet-interactive.pwsh"
    }
   },
   "outputs": [
    {
     "name": "stdout",
     "output_type": "stream",
     "text": [
      "\r\n",
      "\u001b[32;1mInput         Details          String.Length TotalCodepoints\u001b[0m\r\n",
      "\u001b[32;1m-----         -------          ------------- ---------------\u001b[0m\r\n",
      "👨👨‍👩‍👧‍👦 {👨, 👨, ‍, 👩…}            13               8\r\n",
      "\r\n",
      "\r\n",
      "\u001b[32;1mInput Details String.Length TotalCodepoints\u001b[0m\r\n",
      "\u001b[32;1m----- ------- ------------- ---------------\u001b[0m\r\n",
      "👨    {👨}                2               1\r\n",
      "\r\n",
      "\r\n",
      "\u001b[32;1mProperty            Sum Count\u001b[0m\r\n",
      "\u001b[32;1m--------            --- -----\u001b[0m\r\n",
      "Utf8SequenceLength   29     8\r\n",
      "Utf16SequenceLength  13     8\r\n",
      "\r\n"
     ]
    }
   ],
   "source": [
    "function inspectString {\n",
    "    param(\n",
    "        [string]$InputText\n",
    "    )\n",
    "    \n",
    "    $info = @{\n",
    "        'Input' = $InputText\n",
    "        'String.Length' = $InputText.Length        \n",
    "        # 'Utf8SequenceLength' = $stats.Utf8SequenceLength.Sum\n",
    "        # 'Utf16SequenceLength' = $stats.Utf16SequenceLength.Sum\n",
    "        # 'Utf8SequenceCount' = $stats.Utf8SequenceLength.count\n",
    "        # 'Utf16SequenceCount' = $stats.Utf16SequenceLength.Count\n",
    "        'TotalCodepoints' = $inputText.EnumerateRunes().Value.count\n",
    "        'Details' = $InputText.EnumerateRunes()\n",
    "    }\n",
    "    # | Ft -AutoSize Property, Sum, Count\n",
    "\n",
    "    return [pscustomobject]$Info\n",
    "    # return $Info\n",
    "}\n",
    "\n",
    "$str = '👨👨‍👩‍👧‍👦'\n",
    "inspectString $str | ft -auto\n",
    "$strMan = '👨'\n",
    "inspectString $strMan | ft -auto\n",
    "\n",
    "$str.EnumerateRunes()\n",
    "    | measure -Property Utf8SequenceLength, Utf16SequenceLength -Sum\n",
    "    | ft Property, Sum, Count"
   ]
  },
  {
   "cell_type": "code",
   "execution_count": null,
   "metadata": {
    "vscode": {
     "languageId": "dotnet-interactive.pwsh"
    }
   },
   "outputs": [
    {
     "name": "stdout",
     "output_type": "stream",
     "text": [
      "\r\n",
      "\u001b[32;1mIsAscii IsBmp Plane Utf16SequenceLength Utf8SequenceLength  Value\u001b[0m\r\n",
      "\u001b[32;1m------- ----- ----- ------------------- ------------------  -----\u001b[0m\r\n",
      "  False False     1                   2                  4 128104\r\n",
      "  False False     1                   2                  4 128104\r\n",
      "  False  True     0                   1                  3   8205\r\n",
      "  False False     1                   2                  4 128105\r\n",
      "  False  True     0                   1                  3   8205\r\n",
      "  False False     1                   2                  4 128103\r\n",
      "  False  True     0                   1                  3   8205\r\n",
      "  False False     1                   2                  4 128102\r\n",
      "\r\n"
     ]
    }
   ],
   "source": [
    "(inspectString $str ).Details | Ft -auto"
   ]
  },
  {
   "cell_type": "code",
   "execution_count": null,
   "metadata": {
    "dotnet_interactive": {
     "language": "pwsh"
    },
    "vscode": {
     "languageId": "dotnet-interactive.pwsh"
    }
   },
   "outputs": [
    {
     "name": "stdout",
     "output_type": "stream",
     "text": [
      "13\r\n",
      "29\r\n",
      "26\r\n",
      "13\r\n"
     ]
    }
   ],
   "source": [
    "# 'other numbers'\n",
    "$str.Length\n",
    "[Text.Encoding]::UTF8.GetByteCount( $str ) # Byte of char\n",
    "\n",
    "# [Text.Encoding]::Unicode.GetByteCount( $bstr )        \n",
    "$bStr_16 = [Text.Encoding]::Unicode.GetBytes( $str ) # char of bytes\n",
    "$bStr_16.Length\n",
    "[Text.Encoding]::Unicode.GetCharCount( $bstr_16 ) #char of bytes"
   ]
  },
  {
   "cell_type": "markdown",
   "metadata": {},
   "source": [
    "Converting a codepoint to a `[char]`, (actually a `[string]`)"
   ]
  },
  {
   "cell_type": "markdown",
   "metadata": {
    "dotnet_interactive": {
     "language": "pwsh"
    }
   },
   "source": [
    "\n",
    "Assume that Dotnet uses the encoding `UTF-16LE` by default, unless the docs explicitly say another. \n",
    "\n",
    "| Type | Description |\n",
    "| - | -  |\n",
    "| `[char]` | represesnts a single UTF16le `code-unit`<br>max value is **2-bytes** |\n",
    "| `[String]` | a list of utf16le code-units | \n",
    "| `[Rune]` | represents a single Unicode Scalar Codepoint<br>in the range `[0..0x10ffff]`<br>Except the Surrogate range `[0xd800..0xdfff]`   |\n",
    "\n",
    "docs:\n",
    "\n",
    "- [Introduction to Character Encoding in `.NET`](https://docs.microsoft.com/en-us/dotnet/standard/base-types/character-encoding-introduction)\n",
    "- [`[Char]`](https://docs.microsoft.com/en-us/dotnet/api/system.char?view=net-6.0)\n",
    "- [`[String]`](https://docs.microsoft.com/en-us/dotnet/api/system.char?view=net-6.0)\n",
    "- [`[Text.Rune]`](https://docs.microsoft.com/en-us/dotnet/api/system.text.rune?view=net-6.0)\n",
    "- [`[Globalization.StringInfo]`](https://docs.microsoft.com/en-us/dotnet/api/system.globalization.stringinfo?view=net-6.0)"
   ]
  },
  {
   "cell_type": "markdown",
   "metadata": {},
   "source": []
  },
  {
   "cell_type": "markdown",
   "metadata": {},
   "source": [
    "Note: **WindowsPowershell** does not have any `[Rune]` functions\n",
    "\n",
    "See more:\n",
    "- [Introduction to Character Encoding in `.NET`](https://docs.microsoft.com/en-us/dotnet/standard/base-types/character-encoding-introduction)\n",
    "- [`System.String` and `char`](https://docs.microsoft.com/en-us/dotnet/api/system.string?view=net-6.0#char-objects-and-unicode-characters)"
   ]
  }
 ],
 "metadata": {
  "kernelspec": {
   "display_name": ".NET (PowerShell)",
   "language": "PowerShell",
   "name": ".net-pwsh"
  },
  "language_info": {
   "name": "PowerShell"
  }
 },
 "nbformat": 4,
 "nbformat_minor": 2
}
