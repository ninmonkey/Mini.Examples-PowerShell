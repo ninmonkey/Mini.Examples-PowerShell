{
 "cells": [
  {
   "cell_type": "markdown",
   "metadata": {
    "dotnet_interactive": {
     "language": "pwsh"
    }
   },
   "source": [
    "## Converting from Codepoint to Char and Back"
   ]
  },
  {
   "cell_type": "code",
   "execution_count": null,
   "metadata": {
    "dotnet_interactive": {
     "language": "pwsh"
    },
    "vscode": {
     "languageId": "polyglot-notebook"
    }
   },
   "outputs": [],
   "source": [
    "# wrong way\n",
    "[char]103\n",
    "[char]0x1f468"
   ]
  },
  {
   "cell_type": "code",
   "execution_count": null,
   "metadata": {
    "dotnet_interactive": {
     "language": "pwsh"
    },
    "vscode": {
     "languageId": "polyglot-notebook"
    }
   },
   "outputs": [],
   "source": [
    "'was it too big to fit into one [char]?'\n",
    "0x1f468 -gt [char]::MaxValue"
   ]
  },
  {
   "cell_type": "code",
   "execution_count": null,
   "metadata": {
    "dotnet_interactive": {
     "language": "pwsh"
    },
    "vscode": {
     "languageId": "polyglot-notebook"
    }
   },
   "outputs": [],
   "source": [
    "# Codepoint (int32) to char/string\n",
    "[char]::ConvertFromUtf32( 0x1f468 )\n",
    "\n",
    "# codepoint from [char] to codepoint\n",
    "$charList = '👨'.ToCharArray()\n",
    "[char]::ConvertToUtf32( $charList[0], $charList[1] )\n",
    "\n",
    "# it outputs in decimal, it's the same number\n",
    "128104 -eq 0x1f468\n"
   ]
  },
  {
   "cell_type": "markdown",
   "metadata": {
    "dotnet_interactive": {
     "language": "csharp"
    },
    "polyglot_notebook": {
     "kernelName": "csharp"
    }
   },
   "source": [
    "Note: The return type of `[char]::ConvertFromUtf32` is actually a `[string]`, not a `[char]`"
   ]
  },
  {
   "cell_type": "code",
   "execution_count": null,
   "metadata": {
    "dotnet_interactive": {
     "language": "pwsh"
    },
    "vscode": {
     "languageId": "polyglot-notebook"
    }
   },
   "outputs": [],
   "source": [
    "function inspectString {\n",
    "    param(\n",
    "        [string]$InputText\n",
    "    )\n",
    "    \n",
    "    $info = @{\n",
    "        'Input' = $InputText\n",
    "        'String.Length' = $InputText.Length        \n",
    "        # 'Utf8SequenceLength' = $stats.Utf8SequenceLength.Sum\n",
    "        # 'Utf16SequenceLength' = $stats.Utf16SequenceLength.Sum\n",
    "        # 'Utf8SequenceCount' = $stats.Utf8SequenceLength.count\n",
    "        # 'Utf16SequenceCount' = $stats.Utf16SequenceLength.Count\n",
    "        'TotalCodepoints' = $inputText.EnumerateRunes().Value.count\n",
    "        'Details' = $InputText.EnumerateRunes()\n",
    "    }\n",
    "    # | Ft -AutoSize Property, Sum, Count\n",
    "\n",
    "    return [pscustomobject]$Info\n",
    "    # return $Info\n",
    "}\n",
    "\n",
    "$str = '👨👨‍👩‍👧‍👦'\n",
    "inspectString $str | ft -auto\n",
    "$strMan = '👨'\n",
    "inspectString $strMan | ft -auto\n",
    "\n",
    "$str.EnumerateRunes()\n",
    "    | measure -Property Utf8SequenceLength, Utf16SequenceLength -Sum\n",
    "    | ft Property, Sum, Count"
   ]
  },
  {
   "cell_type": "code",
   "execution_count": null,
   "metadata": {
    "dotnet_interactive": {
     "language": "pwsh"
    },
    "polyglot_notebook": {
     "kernelName": "pwsh"
    },
    "vscode": {
     "languageId": "polyglot-notebook"
    }
   },
   "outputs": [],
   "source": [
    "(inspectString $str ).Details | Ft -auto"
   ]
  },
  {
   "cell_type": "code",
   "execution_count": null,
   "metadata": {
    "dotnet_interactive": {
     "language": "pwsh"
    },
    "vscode": {
     "languageId": "polyglot-notebook"
    }
   },
   "outputs": [],
   "source": [
    "# 'other numbers'\n",
    "$str.Length\n",
    "[Text.Encoding]::UTF8.GetByteCount( $str ) # Byte of char\n",
    "\n",
    "# [Text.Encoding]::Unicode.GetByteCount( $bstr )        \n",
    "$bStr_16 = [Text.Encoding]::Unicode.GetBytes( $str ) # char of bytes\n",
    "$bStr_16.Length\n",
    "[Text.Encoding]::Unicode.GetCharCount( $bstr_16 ) #char of bytes"
   ]
  },
  {
   "cell_type": "markdown",
   "metadata": {
    "dotnet_interactive": {
     "language": "csharp"
    },
    "polyglot_notebook": {
     "kernelName": "csharp"
    }
   },
   "source": [
    "Converting a codepoint to a `[char]`, (actually a `[string]`)"
   ]
  },
  {
   "cell_type": "markdown",
   "metadata": {
    "dotnet_interactive": {
     "language": "pwsh"
    }
   },
   "source": [
    "\n",
    "Assume that Dotnet uses the encoding `UTF-16LE` by default, unless the docs explicitly say another. \n",
    "\n",
    "| Type | Description |\n",
    "| - | -  |\n",
    "| `[char]` | represesnts a single UTF16le `code-unit`<br>max value is **2-bytes** |\n",
    "| `[String]` | a list of utf16le code-units | \n",
    "| `[Rune]` | represents a single Unicode Scalar Codepoint<br>in the range `[0..0x10ffff]`<br>Except the Surrogate range `[0xd800..0xdfff]`   |\n",
    "\n",
    "docs:\n",
    "\n",
    "- [Introduction to Character Encoding in `.NET`](https://docs.microsoft.com/en-us/dotnet/standard/base-types/character-encoding-introduction)\n",
    "- [`[Char]`](https://docs.microsoft.com/en-us/dotnet/api/system.char?view=net-6.0)\n",
    "- [`[String]`](https://docs.microsoft.com/en-us/dotnet/api/system.char?view=net-6.0)\n",
    "- [`[Text.Rune]`](https://docs.microsoft.com/en-us/dotnet/api/system.text.rune?view=net-6.0)\n",
    "- [`[Globalization.StringInfo]`](https://docs.microsoft.com/en-us/dotnet/api/system.globalization.stringinfo?view=net-6.0)"
   ]
  },
  {
   "cell_type": "markdown",
   "metadata": {
    "dotnet_interactive": {
     "language": "csharp"
    },
    "polyglot_notebook": {
     "kernelName": "csharp"
    }
   },
   "source": []
  },
  {
   "cell_type": "markdown",
   "metadata": {
    "dotnet_interactive": {
     "language": "csharp"
    },
    "polyglot_notebook": {
     "kernelName": "csharp"
    }
   },
   "source": [
    "Note: **WindowsPowershell** does not have any `[Rune]` functions\n",
    "\n",
    "See more:\n",
    "- [Introduction to Character Encoding in `.NET`](https://docs.microsoft.com/en-us/dotnet/standard/base-types/character-encoding-introduction)\n",
    "- [`System.String` and `char`](https://docs.microsoft.com/en-us/dotnet/api/system.string?view=net-6.0#char-objects-and-unicode-characters)"
   ]
  }
 ],
 "metadata": {
  "kernelspec": {
   "display_name": ".NET (C#)",
   "language": "C#",
   "name": ".net-csharp"
  },
  "polyglot_notebook": {
   "kernelInfo": {
    "defaultKernelName": "csharp",
    "items": [
     {
      "aliases": [
       "c#",
       "C#"
      ],
      "languageName": "C#",
      "name": "csharp"
     },
     {
      "aliases": [],
      "name": ".NET"
     },
     {
      "aliases": [
       "f#",
       "F#"
      ],
      "languageName": "F#",
      "name": "fsharp"
     },
     {
      "aliases": [],
      "languageName": "HTML",
      "name": "html"
     },
     {
      "aliases": [],
      "languageName": "KQL",
      "name": "kql"
     },
     {
      "aliases": [],
      "languageName": "Mermaid",
      "name": "mermaid"
     },
     {
      "aliases": [
       "powershell"
      ],
      "languageName": "PowerShell",
      "name": "pwsh"
     },
     {
      "aliases": [],
      "languageName": "SQL",
      "name": "sql"
     },
     {
      "aliases": [],
      "name": "value"
     },
     {
      "aliases": [
       "frontend"
      ],
      "name": "vscode"
     }
    ]
   }
  }
 },
 "nbformat": 4,
 "nbformat_minor": 2
}
