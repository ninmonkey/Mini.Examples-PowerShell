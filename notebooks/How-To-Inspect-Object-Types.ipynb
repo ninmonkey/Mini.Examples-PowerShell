{
 "cells": [
  {
   "cell_type": "code",
   "execution_count": null,
   "metadata": {
    "dotnet_interactive": {
     "language": "pwsh"
    },
    "vscode": {
     "languageId": "dotnet-interactive.pwsh"
    }
   },
   "outputs": [
    {
     "name": "stdout",
     "output_type": "stream",
     "text": [
      "\u001b[91mGet-ChildItem: \u001b[91mAccess to the path 'C:\\Users\\postgres' is denied.\u001b[0m\r\n",
      "\u001b[91mGet-ChildItem: \u001b[91mAccess to the path 'C:\\Windows\\CSC' is denied.\u001b[0m\r\n",
      "\u001b[91mGet-ChildItem: \u001b[91mAccess to the path 'C:\\Windows\\InfusedApps' is denied.\u001b[0m\r\n",
      "\u001b[91mGet-ChildItem: \u001b[91mAccess to the path 'C:\\Windows\\LiveKernelReports' is denied.\u001b[0m\r\n",
      "\u001b[91mGet-ChildItem: \u001b[91mAccess to the path 'C:\\Windows\\ModemLogs' is denied.\u001b[0m\r\n",
      "\u001b[91mGet-ChildItem: \u001b[91mAccess to the path 'C:\\Windows\\Prefetch' is denied.\u001b[0m\r\n",
      "\u001b[91mGet-ChildItem: \u001b[91mAccess to the path 'C:\\Windows\\ServiceState' is denied.\u001b[0m\r\n",
      "\u001b[91mGet-ChildItem: \u001b[91mAccess to the path 'C:\\Windows\\SystemTemp' is denied.\u001b[0m\r\n",
      "\u001b[91mGet-ChildItem: \u001b[91mAccess to the path 'C:\\Windows\\Temp' is denied.\u001b[0m\r\n",
      "31508\r\n"
     ]
    }
   ],
   "source": [
    "$files ??= Get-ChildItem c:\\ -depth 2"
   ]
  },
  {
   "cell_type": "code",
   "execution_count": null,
   "metadata": {
    "dotnet_interactive": {
     "language": "pwsh"
    },
    "vscode": {
     "languageId": "dotnet-interactive.pwsh"
    }
   },
   "outputs": [
    {
     "name": "stdout",
     "output_type": "stream",
     "text": [
      "31508\r\n"
     ]
    }
   ],
   "source": [
    "$Files.count"
   ]
  },
  {
   "cell_type": "code",
   "execution_count": null,
   "metadata": {
    "dotnet_interactive": {
     "language": "pwsh"
    },
    "vscode": {
     "languageId": "dotnet-interactive.pwsh"
    }
   },
   "outputs": [
    {
     "name": "stdout",
     "output_type": "stream",
     "text": [
      "\r\n",
      "\u001b[32;1mIsPublic IsSerial Name     BaseType\u001b[0m\r\n",
      "\u001b[32;1m-------- -------- ----     --------\u001b[0m\r\n",
      "True     True     Object[] System.Array\r\n",
      "\r\n",
      "Object[]\r\n",
      "System.Object[]\r\n"
     ]
    }
   ],
   "source": [
    "$Files.GetType() | ft -auto\n",
    "$Files.GetType().Name\n",
    "$Files.GetType().FullName"
   ]
  },
  {
   "cell_type": "code",
   "execution_count": null,
   "metadata": {
    "dotnet_interactive": {
     "language": "pwsh"
    },
    "vscode": {
     "languageId": "dotnet-interactive.pwsh"
    }
   },
   "outputs": [
    {
     "name": "stdout",
     "output_type": "stream",
     "text": [
      "System.Object[], System.Array, System.Object\r\n"
     ]
    }
   ],
   "source": [
    "$Files.PsTypeNames -join ', ' "
   ]
  },
  {
   "cell_type": "markdown",
   "metadata": {},
   "source": [
    "`Object[]` means that it is an array of `[Object]` \n",
    "We need to index it to test the array's elements type"
   ]
  },
  {
   "cell_type": "code",
   "execution_count": null,
   "metadata": {
    "dotnet_interactive": {
     "language": "pwsh"
    },
    "vscode": {
     "languageId": "dotnet-interactive.pwsh"
    }
   },
   "outputs": [
    {
     "name": "stdout",
     "output_type": "stream",
     "text": [
      "System.IO.DirectoryInfo\r\n"
     ]
    }
   ],
   "source": [
    "$Files[0].GetType().FullName"
   ]
  },
  {
   "cell_type": "code",
   "execution_count": null,
   "metadata": {
    "dotnet_interactive": {
     "language": "pwsh"
    },
    "vscode": {
     "languageId": "dotnet-interactive.pwsh"
    }
   },
   "outputs": [
    {
     "name": "stdout",
     "output_type": "stream",
     "text": [
      "DirectoryInfo\r\n"
     ]
    }
   ],
   "source": [
    "# Tip, these will never throw an error, no matter the type\n",
    "@($files)[0].GetType().Name\n",
    "$x = $null\n",
    "@($x)[0]\n"
   ]
  },
  {
   "cell_type": "code",
   "execution_count": null,
   "metadata": {
    "dotnet_interactive": {
     "language": "pwsh"
    },
    "vscode": {
     "languageId": "dotnet-interactive.pwsh"
    }
   },
   "outputs": [
    {
     "name": "stdout",
     "output_type": "stream",
     "text": [
      "\u001b[91mInvalidOperation: \r\n",
      "\u001b[96mLine |\r\n",
      "\u001b[96m   2 | \u001b[0m \u001b[96m@($x)[0].ToString()\u001b[0m\r\n",
      "\u001b[96m     | \u001b[91m ~~~~~~~~~~~~~~~~~~~\r\n",
      "\u001b[91m\u001b[96m     | \u001b[91mYou cannot call a method on a null-valued expression.\u001b[0m\r\n",
      "\u001b[91mInvalidOperation: \r\n",
      "\u001b[96mLine |\r\n",
      "\u001b[96m   3 | \u001b[0m \u001b[96m@($null)[0].ToString()\u001b[0m\r\n",
      "\u001b[96m     | \u001b[91m ~~~~~~~~~~~~~~~~~~~~~~\r\n",
      "\u001b[91m\u001b[96m     | \u001b[91mYou cannot call a method on a null-valued expression.\u001b[0m\r\n"
     ]
    }
   ],
   "source": [
    "# but calling a method on null will\n",
    "@($x)[0].ToString()\n",
    "@($null)[0].ToString()"
   ]
  },
  {
   "cell_type": "code",
   "execution_count": null,
   "metadata": {
    "dotnet_interactive": {
     "language": "pwsh"
    },
    "vscode": {
     "languageId": "dotnet-interactive.pwsh"
    }
   },
   "outputs": [],
   "source": [
    "$files | Get-Unique -OnType"
   ]
  }
 ],
 "metadata": {
  "kernelspec": {
   "display_name": ".NET (C#)",
   "language": "C#",
   "name": ".net-csharp"
  },
  "language_info": {
   "file_extension": ".cs",
   "mimetype": "text/x-csharp",
   "name": "C#",
   "pygments_lexer": "csharp",
   "version": "9.0"
  },
  "orig_nbformat": 4
 },
 "nbformat": 4,
 "nbformat_minor": 2
}
