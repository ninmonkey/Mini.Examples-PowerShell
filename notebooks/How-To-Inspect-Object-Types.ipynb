{
 "cells": [
  {
   "cell_type": "markdown",
   "metadata": {},
   "source": [
    "# How to discover object types\n",
    "\n",
    "For more, check out these links: \n",
    "- [Get-Member](https://docs.microsoft.com/en-us/powershell/module/microsoft.powershell.utility/get-member?view=powershell-7.3&WT.mc_id=ps-gethelp) and [about_Objects](https://docs.microsoft.com/en-us/powershell/module/microsoft.powershell.core/about/about_objects?view=powershell-7.3)\n",
    "- And [Find-Member](https://github.com/SeeminglyScience/ClassExplorer/blob/master/docs/en-US/Find-Member.md) which is from one of my favorite modules:  [ClassExplorer](https://github.com/SeeminglyScience/ClassExplorer)\n",
    "\n",
    "\n",
    "## First Method : `GetType()`"
   ]
  },
  {
   "cell_type": "code",
   "execution_count": null,
   "metadata": {
    "dotnet_interactive": {
     "language": "pwsh"
    },
    "vscode": {
     "languageId": "dotnet-interactive.pwsh"
    }
   },
   "outputs": [
    {
     "name": "stdout",
     "output_type": "stream",
     "text": [
      "\r\n",
      "\u001b[32;1mIsPublic IsSerial Name                                     BaseType\u001b[0m\r\n",
      "\u001b[32;1m-------- -------- ----                                     --------\u001b[0m\r\n",
      "True     True     Double                                   System.ValueType\r\n",
      "\r\n"
     ]
    }
   ],
   "source": [
    "$result = 10 / 3.14\n",
    "$result.GetType()"
   ]
  },
  {
   "cell_type": "code",
   "execution_count": null,
   "metadata": {
    "dotnet_interactive": {
     "language": "pwsh"
    },
    "vscode": {
     "languageId": "dotnet-interactive.pwsh"
    }
   },
   "outputs": [
    {
     "name": "stdout",
     "output_type": "stream",
     "text": [
      "Total Items: 31,892\r\n"
     ]
    }
   ],
   "source": [
    "  # Pwsh gives you sugar to cache values, like this\n",
    "$Files ??= Get-ChildItem c:\\ -depth 2 -ea ignore\n",
    "$Files.count | Join-String -op 'Total Items: ' -form '{0:n0}'\n",
    "\n",
    "# create some example objects to test\n",
    "$SomeDir = Get-Item -Path .\n",
    "$SomeFile = Get-ChildItem -LiteralPath c:\\ -File | Select-Object -First 1 \n",
    "$SomePS = Get-Process | Select -First 1"
   ]
  },
  {
   "cell_type": "markdown",
   "metadata": {},
   "source": [
    "Notice that the type of `$files` is `[object[]]`\n",
    "The first element is [DirectoryInfo]"
   ]
  },
  {
   "cell_type": "code",
   "execution_count": null,
   "metadata": {
    "dotnet_interactive": {
     "language": "pwsh"
    },
    "vscode": {
     "languageId": "dotnet-interactive.pwsh"
    }
   },
   "outputs": [
    {
     "name": "stdout",
     "output_type": "stream",
     "text": [
      "\r\n",
      "\u001b[32;1mIsPublic IsSerial Name          BaseType\u001b[0m\r\n",
      "\u001b[32;1m-------- -------- ----          --------\u001b[0m\r\n",
      "True     False    DirectoryInfo System.IO.FileSystemInfo\r\n",
      "True     False    FileInfo      System.IO.FileSystemInfo\r\n",
      "True     False    Process       System.ComponentModel.Component\r\n",
      "True     True     Object[]      System.Array\r\n",
      "True     False    DirectoryInfo System.IO.FileSystemInfo\r\n",
      "\r\n"
     ]
    }
   ],
   "source": [
    "\n",
    "@(\n",
    "    $SomeDir.GetType()\n",
    "    $SomeFile.GetType()\n",
    "    $SomePS.GetType()\n",
    "    $Files.GetType()\n",
    "    $files[0].GetType()\n",
    ") | Format-Table -autosize -Wrap \n"
   ]
  },
  {
   "cell_type": "markdown",
   "metadata": {},
   "source": [
    "`Object[]` means that it is an array of `[Object]` \n",
    "We need to index it to test the array's elements type"
   ]
  },
  {
   "cell_type": "markdown",
   "metadata": {},
   "source": [
    "Here's a couple of Type information's properties"
   ]
  },
  {
   "cell_type": "code",
   "execution_count": null,
   "metadata": {
    "dotnet_interactive": {
     "language": "pwsh"
    },
    "vscode": {
     "languageId": "dotnet-interactive.pwsh"
    }
   },
   "outputs": [
    {
     "name": "stdout",
     "output_type": "stream",
     "text": [
      "System.IO.DirectoryInfo\r\n",
      "System.IO.DirectoryInfo, System.IO.FileSystemInfo, System.MarshalByRefObject, System.Object\r\n",
      "[DirectoryInfo], [FileSystemInfo], [MarshalByRefObject], [Object]\r\n",
      "\n",
      " - [DirectoryInfo]\n",
      " - [FileSystemInfo]\n",
      " - [MarshalByRefObject]\n",
      " - [Object]\n",
      "\r\n"
     ]
    }
   ],
   "source": [
    "$file = Get-Item '.'\n",
    "$File.GetType().FullName\n",
    "\n",
    "$File.PSTypeNames -join ', '\n",
    "\n",
    "$File.PSTypeNames \n",
    "| formatShortType\n",
    "| Join-String @splatCsvType\n",
    "\n",
    "$File.PSTypeNames \n",
    "| FormatShortType\n",
    "| join-String @splatUL\n"
   ]
  },
  {
   "cell_type": "code",
   "execution_count": null,
   "metadata": {
    "dotnet_interactive": {
     "language": "pwsh"
    },
    "vscode": {
     "languageId": "dotnet-interactive.pwsh"
    }
   },
   "outputs": [
    {
     "name": "stdout",
     "output_type": "stream",
     "text": [
      "System.IO.DirectoryInfo\r\n"
     ]
    }
   ],
   "source": [
    "$Files[0].GetType().FullName"
   ]
  },
  {
   "cell_type": "code",
   "execution_count": null,
   "metadata": {
    "dotnet_interactive": {
     "language": "pwsh"
    },
    "vscode": {
     "languageId": "dotnet-interactive.pwsh"
    }
   },
   "outputs": [
    {
     "name": "stdout",
     "output_type": "stream",
     "text": [
      "DirectoryInfo\r\n"
     ]
    }
   ],
   "source": [
    "# Tip, these will never throw an error, no matter the type\n",
    "@($files)[0].GetType().Name\n",
    "$x = $null\n",
    "@($x)[0]\n"
   ]
  },
  {
   "cell_type": "code",
   "execution_count": null,
   "metadata": {
    "dotnet_interactive": {
     "language": "pwsh"
    },
    "vscode": {
     "languageId": "dotnet-interactive.pwsh"
    }
   },
   "outputs": [
    {
     "name": "stdout",
     "output_type": "stream",
     "text": [
      "\u001b[91mInvalidOperation: \r\n",
      "\u001b[96mLine |\r\n",
      "\u001b[96m   2 | \u001b[0m \u001b[96m@($x)[0].ToString()\u001b[0m\r\n",
      "\u001b[96m     | \u001b[91m ~~~~~~~~~~~~~~~~~~~\r\n",
      "\u001b[91m\u001b[96m     | \u001b[91mYou cannot call a method on a null-valued expression.\u001b[0m\r\n",
      "\u001b[91mInvalidOperation: \r\n",
      "\u001b[96mLine |\r\n",
      "\u001b[96m   3 | \u001b[0m \u001b[96m@($null)[0].ToString()\u001b[0m\r\n",
      "\u001b[96m     | \u001b[91m ~~~~~~~~~~~~~~~~~~~~~~\r\n",
      "\u001b[91m\u001b[96m     | \u001b[91mYou cannot call a method on a null-valued expression.\u001b[0m\r\n"
     ]
    }
   ],
   "source": [
    "# but calling a method on null will\n",
    "@($x)[0].ToString()\n",
    "@($null)[0].ToString()"
   ]
  },
  {
   "cell_type": "code",
   "execution_count": null,
   "metadata": {
    "dotnet_interactive": {
     "language": "pwsh"
    },
    "vscode": {
     "languageId": "dotnet-interactive.pwsh"
    }
   },
   "outputs": [],
   "source": [
    "# Helper functions\n",
    "\n",
    "function formatShortType { \n",
    "    # tiny sugar to abbreviate names\n",
    "    param( [Parameter(Mandatory, ValueFromPipeline)]$InputObject )\n",
    "    process { \n",
    "        if ($null -eq $InputObject) {\n",
    "            \"[`u{2400}]\"\n",
    "        } # null str symbol\n",
    "        if ($InputObject -is 'type') {\n",
    "            $ShortName = $InputObject.Name\n",
    "        } elseif ($InputObject -is 'string') {\n",
    "            $maybeTinfo = $InputObject -as 'type'\n",
    "            if ($MaybeTinfo) {\n",
    "                $ShortName = $maybeTinfo.Name \n",
    "            } else {\n",
    "                $shortName = [string]$InputObject\n",
    "            }\n",
    "        } else {\n",
    "            $tinfo = $InputObject.GetType()\n",
    "            $ShortName = $Tinfo.Name\n",
    "        }\n",
    "        $ShortName -replace '^(System|System\\.Management\\.)', ''\n",
    "    }\n",
    "}\n",
    "\n"
   ]
  },
  {
   "cell_type": "code",
   "execution_count": null,
   "metadata": {
    "dotnet_interactive": {
     "language": "pwsh"
    },
    "vscode": {
     "languageId": "dotnet-interactive.pwsh"
    }
   },
   "outputs": [
    {
     "name": "stdout",
     "output_type": "stream",
     "text": [
      "System.IO.DirectoryInfo, System.IO.FileSystemInfo, System.MarshalByRefObject, System.Object\r\n",
      "\"[DirectoryInfo]\", \"[FileSystemInfo]\", \"[MarshalByRefObject]\", \"[Object]\"\r\n",
      "[DirectoryInfo], [FileSystemInfo], [MarshalByRefObject], [Object]\r\n"
     ]
    }
   ],
   "source": [
    "$splatUL = @{\n",
    "    Separator = \"`n - \"\n",
    "    op = \"`n - \" ; Os = \"`n\"\n",
    "    Property = { '[{0}]' -f $_ }\n",
    "}\n",
    "$splatCSVType = @{\n",
    "    Sep = ', ' \n",
    "    # DoubleQuote = $True\n",
    "    Property = { '[{0}]' -f $_ }\n",
    "}\n",
    "# $someDir.PsTypeNames | \n",
    "$someDir.PsTypeNames -join ', ' \n",
    "$someDir.PsTypeNames | FormatShortType | Join-String -sep ', ' -double { \"[${_}]\"}\n",
    "$someDir.PsTypeNames | FormatShortType | Join-String @splatCsvType\n",
    "\n"
   ]
  },
  {
   "cell_type": "code",
   "execution_count": null,
   "metadata": {
    "dotnet_interactive": {
     "language": "pwsh"
    },
    "vscode": {
     "languageId": "dotnet-interactive.pwsh"
    }
   },
   "outputs": [
    {
     "name": "stdout",
     "output_type": "stream",
     "text": [
      "DirectoryInfo\r\n",
      "System.IO\r\n",
      "System.IO.DirectoryInfo\r\n",
      "System.IO.FileSystemInfo\r\n"
     ]
    }
   ],
   "source": [
    "# often you \n",
    "$SomeDir.GetType().Name\n",
    "$SomeDir.GetType().Namespace\n",
    "$SomeDir.GetType().FullName\n",
    "$SomeDir.GetType().BaseType.FullName"
   ]
  },
  {
   "cell_type": "markdown",
   "metadata": {},
   "source": [
    "Useful when you want a list of types, without duplicates. It uses type definitions -- verses default comparisons "
   ]
  },
  {
   "cell_type": "code",
   "execution_count": null,
   "metadata": {
    "dotnet_interactive": {
     "language": "pwsh"
    },
    "vscode": {
     "languageId": "dotnet-interactive.pwsh"
    }
   },
   "outputs": [
    {
     "name": "stdout",
     "output_type": "stream",
     "text": [
      "13\r\n",
      "[Int32], [DirectoryInfo], [Process]\r\n"
     ]
    }
   ],
   "source": [
    "$stuff = @(\n",
    "    0..10\n",
    "    Get-Item .\n",
    "    PS | select -first 1\n",
    ")\n",
    "$Stuff.count\n",
    "$Stuff | Get-Unique -OnType  \n",
    "| formatSHortType | Join-String @splatCsvType\n",
    "# $fileListTypes | Join-string @splatCsvType"
   ]
  },
  {
   "cell_type": "code",
   "execution_count": null,
   "metadata": {
    "dotnet_interactive": {
     "language": "pwsh"
    },
    "vscode": {
     "languageId": "dotnet-interactive.pwsh"
    }
   },
   "outputs": [
    {
     "name": "stdout",
     "output_type": "stream",
     "text": [
      "A folder = \n",
      " - [DirectoryInfo]\n",
      " - [FileSystemInfo]\n",
      " - [MarshalByRefObject]\n",
      " - [Object]\n",
      "\r\n",
      "A process = \n",
      " - [Component]\n",
      " - [MarshalByRefObject]\n",
      " - [Object]\n",
      " - [Process]\n",
      "\r\n"
     ]
    }
   ],
   "source": [
    "$someDir = Get-Item .\n",
    "$someDir.PsTypeNames\n",
    "| formatShortType | Sort-Object\n",
    "| Join-string @splatUL\n",
    "| Join-string -op \"A folder = \"\n",
    "\n",
    "\n",
    "$somePS.PSTypeNames\n",
    "| formatShortType | Sort-Object\n",
    "| Join-string @splatUL\n",
    "| Join-string -op \"A process = \"\n"
   ]
  }
 ],
 "metadata": {
  "kernelspec": {
   "display_name": ".NET (C#)",
   "language": "C#",
   "name": ".net-csharp"
  },
  "language_info": {
   "file_extension": ".cs",
   "mimetype": "text/x-csharp",
   "name": "C#",
   "pygments_lexer": "csharp",
   "version": "9.0"
  },
  "orig_nbformat": 4
 },
 "nbformat": 4,
 "nbformat_minor": 2
}
