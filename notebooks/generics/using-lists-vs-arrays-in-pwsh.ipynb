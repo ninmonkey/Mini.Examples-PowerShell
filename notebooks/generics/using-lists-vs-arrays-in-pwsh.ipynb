{
 "cells": [
  {
   "cell_type": "code",
   "execution_count": null,
   "metadata": {
    "dotnet_interactive": {
     "language": "pwsh"
    },
    "vscode": {
     "languageId": "dotnet-interactive.pwsh"
    }
   },
   "outputs": [
    {
     "name": "stdout",
     "output_type": "stream",
     "text": [
      "\u001b[93mWARNING: Make this an installable module to import\u001b[0m\r\n",
      "Created refs: $ec (Execution Context) $sess (Session State)\r\n",
      "Created Functions: ...\r\n",
      "Imported Modules: \r\n",
      "ImportModules: ClassExplorer 2.3.3\r\n"
     ]
    }
   ],
   "source": [
    "write-warning \"Make this an installable module to import\"\n",
    ". (gi -ea stop 'C:\\Users\\cppmo_000\\SkyDrive\\Documents\\2021\\Powershell\\My_Github\\Mini.Examples\\notebooks\\notebook.utils.ps1')\n",
    "\n",
    "nb.ImportModule 'ClassExplorer'\n",
    "# nb.ListVersions1\n",
    "\n",
    "throw \"left off here, write\""
   ]
  },
  {
   "cell_type": "code",
   "execution_count": null,
   "metadata": {
    "dotnet_interactive": {
     "language": "pwsh"
    },
    "vscode": {
     "languageId": "dotnet-interactive.pwsh"
    }
   },
   "outputs": [
    {
     "name": "stdout",
     "output_type": "stream",
     "text": [
      "Agent, AppleMobileDeviceService, ApplicationFrameHost, AsSysCtrlService, atkexComSvc, audiodg, BtwRSupportService, Code, Code, Code\r\n",
      "[Object[]] len: 0\r\n"
     ]
    }
   ],
   "source": [
    "$items = ps | select -first 10 \n",
    "$items.Name | joinCsv\n",
    "\n",
    "$maybeList = 0..4\n",
    "TypeIs $maybeList \n"
   ]
  },
  {
   "cell_type": "code",
   "execution_count": null,
   "metadata": {
    "dotnet_interactive": {
     "language": "pwsh"
    },
    "vscode": {
     "languageId": "dotnet-interactive.pwsh"
    }
   },
   "outputs": [
    {
     "name": "stdout",
     "output_type": "stream",
     "text": [
      "[Object[]] len: 0\r\n"
     ]
    }
   ],
   "source": [
    "$maybeList = 0..10\n",
    "TypeIs $maybeList "
   ]
  }
 ],
 "metadata": {
  "kernelspec": {
   "display_name": ".NET (PowerShell)",
   "language": "PowerShell",
   "name": ".net-pwsh"
  },
  "language_info": {
   "name": "PowerShell"
  }
 },
 "nbformat": 4,
 "nbformat_minor": 2
}
