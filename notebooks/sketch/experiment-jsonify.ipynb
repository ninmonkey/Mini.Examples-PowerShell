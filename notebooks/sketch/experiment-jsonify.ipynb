{
 "cells": [
  {
   "cell_type": "code",
   "execution_count": null,
   "metadata": {
    "dotnet_interactive": {
     "language": "pwsh"
    },
    "vscode": {
     "languageId": "dotnet-interactive.pwsh"
    }
   },
   "outputs": [
    {
     "name": "stdout",
     "output_type": "stream",
     "text": [
      "\u001b[93mWARNING: super rough, it needs cleanup\u001b[0m\r\n"
     ]
    }
   ],
   "source": [
    "Import-Module pansies, Ninmonkey.Console -ea stop *>$null\n",
    "write-warning 'super rough, it needs cleanup'\n",
    "\n",
    "# example data\n",
    "$folder = Get-Item c:\\temp\n",
    "$AppConfig = @{\n",
    "    Root = Get-Item c:\\\n",
    "    Inputs = @(\n",
    "        Get-ChildItem c:\\ | Select-Object -First 3\n",
    "    )\n",
    "    ColorFG = [PoshCode.Pansies.RgbColor]'#6272a4'\n",
    "} \n"
   ]
  },
  {
   "cell_type": "code",
   "execution_count": null,
   "metadata": {
    "dotnet_interactive": {
     "language": "pwsh"
    },
    "vscode": {
     "languageId": "dotnet-interactive.pwsh"
    }
   },
   "outputs": [
    {
     "name": "stdout",
     "output_type": "stream",
     "text": [
      "\r\n",
      "\u001b[32;1mName    Value\u001b[0m\r\n",
      "\u001b[32;1m----    -----\u001b[0m\r\n",
      "Root    C:\\\r\n",
      "ColorFG #6272A4\r\n",
      "Inputs  {C:\\apps, C:\\autocomplete, C:\\bin_nin}\r\n",
      "\r\n",
      "\r\n",
      "    Directory: C:\\\r\n",
      "\r\n",
      "\u001b[32;1mMode        LastWriteTime Length Name\u001b[0m\r\n",
      "\u001b[32;1m----        ------------- ------ ----\u001b[0m\r\n",
      "d----  3/28/2022  7:24 PM        Temp\r\n",
      "\r\n"
     ]
    }
   ],
   "source": [
    "$AppConfig | ft -auto\n",
    "$Folder"
   ]
  },
  {
   "cell_type": "markdown",
   "metadata": {},
   "source": [
    "## Single Object\n",
    "### Folder | Jsonify"
   ]
  },
  {
   "cell_type": "code",
   "execution_count": null,
   "metadata": {
    "dotnet_interactive": {
     "language": "pwsh"
    },
    "vscode": {
     "languageId": "dotnet-interactive.pwsh"
    }
   },
   "outputs": [
    {
     "name": "stdout",
     "output_type": "stream",
     "text": [
      "\r\n",
      "\u001b[32;1mName          Value\u001b[0m\r\n",
      "\u001b[32;1m----          -----\u001b[0m\r\n",
      "Path          C:/Temp\r\n",
      "NinTypeName   IO.FileSystemInfo\r\n",
      "Bytes         1\r\n",
      "EnvPath       C:/Temp\r\n",
      "LastWriteTime 3/28/2022 7:24:46 PM\r\n",
      "\r\n"
     ]
    }
   ],
   "source": [
    "$Folder | ConvertTo-Jsonify\n",
    "| ft -auto"
   ]
  },
  {
   "cell_type": "markdown",
   "metadata": {},
   "source": [
    "### Folder | Jsonify | To->Json"
   ]
  },
  {
   "cell_type": "code",
   "execution_count": null,
   "metadata": {
    "dotnet_interactive": {
     "language": "pwsh"
    },
    "vscode": {
     "languageId": "dotnet-interactive.pwsh"
    }
   },
   "outputs": [
    {
     "name": "stdout",
     "output_type": "stream",
     "text": [
      "{\r\n",
      "  \"Path\": \"C:/Temp\",\r\n",
      "  \"NinTypeName\": \"IO.FileSystemInfo\",\r\n",
      "  \"Bytes\": 1,\r\n",
      "  \"EnvPath\": \"C:/Temp\",\r\n",
      "  \"LastWriteTime\": \"2022-03-28T19:24:46.7123407-05:00\"\r\n",
      "}\r\n"
     ]
    }
   ],
   "source": [
    "$Folder | ConvertTo-Jsonify | ConvertTo-Json -depth 1"
   ]
  },
  {
   "cell_type": "markdown",
   "metadata": {},
   "source": [
    "### Folder | Jsonify | To->Json | From->Json  is a Folder"
   ]
  },
  {
   "cell_type": "code",
   "execution_count": null,
   "metadata": {
    "dotnet_interactive": {
     "language": "pwsh"
    },
    "vscode": {
     "languageId": "dotnet-interactive.pwsh"
    }
   },
   "outputs": [
    {
     "name": "stdout",
     "output_type": "stream",
     "text": [
      "\r\n",
      "    Directory: C:\\\r\n",
      "\r\n",
      "\u001b[32;1mMode                 LastWriteTime         Length Name\u001b[0m\r\n",
      "\u001b[32;1m----                 -------------         ------ ----\u001b[0m\r\n",
      "d----           3/28/2022  7:24 PM                Temp\r\n",
      "\r\n"
     ]
    }
   ],
   "source": [
    "$Folder | ConvertTo-Jsonify | ConvertTo-Json -depth 1\n",
    "| ConvertFrom-Json | ConvertFrom-Jsonify"
   ]
  },
  {
   "cell_type": "code",
   "execution_count": null,
   "metadata": {
    "dotnet_interactive": {
     "language": "pwsh"
    },
    "vscode": {
     "languageId": "dotnet-interactive.pwsh"
    }
   },
   "outputs": [
    {
     "name": "stdout",
     "output_type": "stream",
     "text": [
      "\r\n",
      "\u001b[32;1mMode           RGB (hex) X11ColorName         Ordinals                  XTerm Index ConsoleColor\u001b[0m\r\n",
      "\u001b[32;1m----           --------- ------------         --------                  ----------- ------------\u001b[0m\r\n",
      "\u001b[48;2;98;114…\u001b[0m #6272A4   RoyalBlue            R=98; G=114; B=164        61          DarkGray\r\n",
      "\r\n"
     ]
    }
   ],
   "source": [
    "$blue = Get-Item fg:\\#6272a4\n",
    "$blue"
   ]
  },
  {
   "cell_type": "code",
   "execution_count": null,
   "metadata": {
    "dotnet_interactive": {
     "language": "pwsh"
    },
    "vscode": {
     "languageId": "dotnet-interactive.pwsh"
    }
   },
   "outputs": [
    {
     "name": "stdout",
     "output_type": "stream",
     "text": [
      "\r\n",
      "\u001b[32;1mName                           Value\u001b[0m\r\n",
      "\u001b[32;1m----                           -----\u001b[0m\r\n",
      "NinTypeName                    RgbColor\r\n",
      "RGB                            6451876\r\n",
      "\r\n"
     ]
    }
   ],
   "source": [
    "$blue | ConvertTo-Jsonify"
   ]
  },
  {
   "cell_type": "code",
   "execution_count": null,
   "metadata": {
    "dotnet_interactive": {
     "language": "pwsh"
    },
    "vscode": {
     "languageId": "dotnet-interactive.pwsh"
    }
   },
   "outputs": [
    {
     "name": "stdout",
     "output_type": "stream",
     "text": [
      "{\r\n",
      "  \"NinTypeName\": \"RgbColor\",\r\n",
      "  \"RGB\": \"6451876\"\r\n",
      "}\r\n",
      "\r\n",
      "\u001b[32;1mMode           RGB (hex) X11ColorName         Ordinals                  XTerm Index ConsoleColor\u001b[0m\r\n",
      "\u001b[32;1m----           --------- ------------         --------                  ----------- ------------\u001b[0m\r\n",
      "\u001b[48;2;98;114…\u001b[0m #6272A4   RoyalBlue            R=98; G=114; B=164        61          DarkGray\r\n",
      "\r\n"
     ]
    }
   ],
   "source": [
    "$blue | ConvertTo-Json -depth 4 *>$null # too big for notebook, so pipe\n",
    "\n",
    "$blue | ConvertTo-Jsonify | ConvertTo-Json\n",
    "$blue | ConvertTo-Jsonify | ConvertTo-Json | ConvertFrom-Json |  ConvertFrom-Jsonify"
   ]
  },
  {
   "cell_type": "code",
   "execution_count": null,
   "metadata": {
    "dotnet_interactive": {
     "language": "pwsh"
    },
    "vscode": {
     "languageId": "dotnet-interactive.pwsh"
    }
   },
   "outputs": [],
   "source": [
    "$c = [rgbcolor]'#6272a4'\n",
    "\n",
    "$c.ToString()\n",
    "| Should -Be '#6272a4'\n",
    "\n",
    "$c\n",
    "| Should -BeOfType 'PoshCode.Pansies.RgbColor'"
   ]
  },
  {
   "cell_type": "markdown",
   "metadata": {},
   "source": [
    "### Validate item\n",
    "\n",
    "note: \n"
   ]
  },
  {
   "cell_type": "markdown",
   "metadata": {},
   "source": [
    "Using Nested Objects"
   ]
  },
  {
   "cell_type": "code",
   "execution_count": null,
   "metadata": {
    "dotnet_interactive": {
     "language": "pwsh"
    },
    "vscode": {
     "languageId": "dotnet-interactive.pwsh"
    }
   },
   "outputs": [
    {
     "name": "stdout",
     "output_type": "stream",
     "text": [
      "\u001b[93mWARNING: Resulting JSON is truncated as serialization has exceeded the set depth of 2.\u001b[0m\r\n",
      "\u001b[93mWARNING: NYI\u001b[0m\r\n"
     ]
    }
   ],
   "source": [
    "$AppConfig | Jsonify | to->json -depth 2 | select -first 1 | out-null\n",
    "write-warning 'NYI'"
   ]
  }
 ],
 "metadata": {
  "kernelspec": {
   "display_name": ".NET (PowerShell)",
   "language": "PowerShell",
   "name": ".net-pwsh"
  },
  "language_info": {
   "name": "PowerShell"
  }
 },
 "nbformat": 4,
 "nbformat_minor": 2
}
