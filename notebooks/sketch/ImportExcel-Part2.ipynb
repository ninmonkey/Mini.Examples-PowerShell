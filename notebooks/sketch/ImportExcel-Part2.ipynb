{
 "cells": [
  {
   "cell_type": "code",
   "execution_count": null,
   "metadata": {
    "dotnet_interactive": {
     "language": "pwsh"
    },
    "vscode": {
     "languageId": "dotnet-interactive.pwsh"
    }
   },
   "outputs": [
    {
     "name": "stdout",
     "output_type": "stream",
     "text": [
      "ImportExcel 7.6.0\r\n",
      "last update: 2022-07-03 22:23:39Z\r\n"
     ]
    }
   ],
   "source": [
    "Import-Module ImportExcel -ea stop -passthru | Join-String { $_.Name, $_.Version } -sep ', '  ; ('last update: {0}' -f @((get-date).tostring('u')))"
   ]
  },
  {
   "cell_type": "code",
   "execution_count": null,
   "metadata": {
    "dotnet_interactive": {
     "language": "pwsh"
    },
    "vscode": {
     "languageId": "dotnet-interactive.pwsh"
    }
   },
   "outputs": [
    {
     "name": "stdout",
     "output_type": "stream",
     "text": [
      "ImportExcel 7.6.0\r\n",
      "last update: 2022-07-03 22:23:23Z\r\n"
     ]
    }
   ],
   "source": [
    "$Config = @{\n",
    "    ExportRoot = 'C:\\Temp\\ImportExcel'\n",
    "    EnableAutoOpenLast = $true\n",
    "}\n",
    "if( -not $Config.ExportRoot ) { \n",
    "    # mkdir -path $Config.ExportRoot  #-Confirm # can't actually input in notebooks?\n",
    "    $Config.ExportRoot = Gi -ea stop $Config.ExportRoot\n",
    "}\n",
    "# ls $Config.ExportRoot\n",
    "\n",
    "function relPath {\n",
    "    #sugar for relative filepaths\n",
    "    [CmdletBinding()]\n",
    "    param(\n",
    "        # Files, not folders\n",
    "        [Alias('Name', 'RelPath')]\n",
    "        [Parameter(Mandatory, Position=0)]$Path,\n",
    "\n",
    "        # Files, not folders\n",
    "        [Alias('Type')]\n",
    "        [ArgumentCompletions('Csv', 'xlsx', 'md', 'ps1')]\n",
    "        [Parameter(Position=1)]$Extension = 'xlsx'\n",
    "    )\n",
    "        if( -not $Config.ExportRoot ) { \n",
    "            write-error 'Missing Export Path in $Config.ExportRoot'\n",
    "            return\n",
    "            # do throws break the nteract kernel\n",
    "            # throw 'Missing Export Path in $Config.ExportRoot' #\n",
    "        }\n",
    "        $script:__nbState ??= @{ }\n",
    "        $sheetName = '{0}.{1}' -f @( $Path ; $Extension   )\n",
    "        $fInfo = [IO.FileInfo]::new( (Join-Path $Config.ExportRoot $sheetName ) )        \n",
    "        $script:__nbState.LastFile = $finfo\n",
    "        \n",
    "        $finfo | write-information\n",
    "        return $finfo\n",
    "}\n",
    "function openLast {\n",
    "    # Sugar for boilerpoint to minize code in cells\n",
    "    # Note: Export-Excel has param \"-Show\"\n",
    "    param()\n",
    "\n",
    "    $Path = gi -ea stop $script:__nbState.LastFile \n",
    "    \"Reading '$($Path.FullName)'...\"    \n",
    "    if(-not $Config.EnableAutoOpenLast) {write-error '$Config has auto-open disabled' ;return}\n",
    "    $Path | select -first 1 | ii \n",
    "}\n",
    "# relPath 'test' | % fullname\n"
   ]
  },
  {
   "cell_type": "markdown",
   "metadata": {},
   "source": [
    "<a name='nb-top' href='#'>Top</a>\n",
    "This is a summary of files in the repo [github.com/dfinke/ImportExcel](https://github.com/dfinke/ImportExcel)\n",
    "\n",
    "<!-- #- <a href='#nb-item-1'>Empty File</a> -->"
   ]
  },
  {
   "cell_type": "markdown",
   "metadata": {},
   "source": [
    "<a href='#nb-top'>Go Top</a>\n",
    "- [Plot](https://github.com/dfinke/ImportExcel/blob/master/Examples/Charts/plot.ps1)"
   ]
  },
  {
   "cell_type": "code",
   "execution_count": null,
   "metadata": {
    "dotnet_interactive": {
     "language": "pwsh"
    },
    "vscode": {
     "languageId": "dotnet-interactive.pwsh"
    }
   },
   "outputs": [
    {
     "name": "stdout",
     "output_type": "stream",
     "text": [
      "\u001b[93mVERBOSE: Save location: C:\\Temp\\ImportExcel\\simplePlot.xlsx\u001b[0m\r\n"
     ]
    }
   ],
   "source": [
    "& {\n",
    "    function plot {\n",
    "        param(\n",
    "            $f,\n",
    "            $minx,\n",
    "            $maxx\n",
    "        )\n",
    "\n",
    "        $minx=[math]::Round($minx,1)\n",
    "        $maxx=[math]::Round($maxx,1)\n",
    "\n",
    "        #Get rid of pre-exisiting sheet\n",
    "        $xlSourcefile = Relpath 'simplePlot'\n",
    "        Write-Verbose -Verbose -Message  \"Save location: $xlSourcefile\"\n",
    "        Remove-Item $xlSourcefile -ErrorAction Ignore\n",
    "\n",
    "    # $c = New-ExcelChart -XRange X -YRange Y -ChartType Line -NoLegend -Title Plot -Column 2 -ColumnOffSetPixels 35\n",
    "\n",
    "        $(for ($i = $minx; $i -lt $maxx-.1; $i+=.1) {\n",
    "            [pscustomobject]@{\n",
    "                X=$i.ToString(\"N1\")\n",
    "                Y=(&$f $i)\n",
    "            }\n",
    "        }) | Export-Excel $xlSourcefile -Show -AutoNameRange -LineChart -NoLegend  #-ExcelChartDefinition $c\n",
    "    }\n",
    "\n",
    "    function pi {[math]::pi}\n",
    "\n",
    "    plot -f {[math]::Tan($args[0])} -minx (pi) -maxx (3*(pi)/2-.01)\n",
    "}"
   ]
  },
  {
   "cell_type": "markdown",
   "metadata": {},
   "source": []
  }
 ],
 "metadata": {
  "kernelspec": {
   "display_name": ".NET (PowerShell)",
   "language": "PowerShell",
   "name": ".net-pwsh"
  },
  "language_info": {
   "name": "PowerShell"
  }
 },
 "nbformat": 4,
 "nbformat_minor": 2
}
