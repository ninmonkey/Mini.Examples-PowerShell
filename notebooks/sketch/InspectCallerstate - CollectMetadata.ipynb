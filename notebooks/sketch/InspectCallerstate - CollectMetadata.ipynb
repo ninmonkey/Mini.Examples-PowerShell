{
 "cells": [
  {
   "cell_type": "code",
   "execution_count": null,
   "metadata": {
    "dotnet_interactive": {
     "language": "pwsh"
    },
    "vscode": {
     "languageId": "dotnet-interactive.pwsh"
    }
   },
   "outputs": [],
   "source": [
    "function Parent { \n",
    "    <#\n",
    "    .synopsis\n",
    "    something to inspect\n",
    "    #>\n",
    "    [CmdletBinding()]\n",
    "    param(\n",
    "        [string]$Label,\n",
    "        [object[]]$Path,\n",
    "        [switch]$EnableA,\n",
    "        [switch]$DisallowB,\n",
    "        [hashtable]$Options\n",
    "    )\n",
    "    begin {\n",
    "        $Config = $Options\n",
    "        CollectInfo -Label 'Begin' -Target $PSCmdlet\n",
    "    }\n",
    "    process {}\n",
    "    end {}\n",
    "}\n",
    "\n",
    "function CollectInfo {\n",
    "    [CmdletBinding()]\n",
    "    param(\n",
    "        [string]$Label,\n",
    "        [object]$TargetObject\n",
    "    )\n",
    "    begin {}\n",
    "    process {}\n",
    "    end {\n",
    "        $meta = [ordered]@{\n",
    "\n",
    "        }\n",
    "        # 'sdfdsf   \n",
    "        [pscustomobject]$meta\n",
    "    }\n",
    "}"
   ]
  }
 ],
 "metadata": {
  "kernelspec": {
   "display_name": ".NET (PowerShell)",
   "language": "PowerShell",
   "name": ".net-pwsh"
  },
  "language_info": {
   "name": "PowerShell"
  }
 },
 "nbformat": 4,
 "nbformat_minor": 2
}
