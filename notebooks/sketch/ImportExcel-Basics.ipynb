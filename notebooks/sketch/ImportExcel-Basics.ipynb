{
 "cells": [
  {
   "cell_type": "markdown",
   "metadata": {},
   "source": [
    "<a name='nb-top' href='#'>Top</a>\n",
    "This is a summary of files in the repo [github.com/dfinke/ImportExcel](https://github.com/dfinke/ImportExcel)\n",
    "- <a href='#nb-item-1'>Empty File</a>\n",
    "- [Load Column, Row, hashtable](https://github.com/dfinke/ImportExcel/blob/master/FAQ/How%20to%20Read%20an%20Existing%20Excel%20File.md#other-common-operations)"
   ]
  },
  {
   "cell_type": "code",
   "execution_count": null,
   "metadata": {
    "dotnet_interactive": {
     "language": "pwsh"
    },
    "vscode": {
     "languageId": "dotnet-interactive.pwsh"
    }
   },
   "outputs": [
    {
     "name": "stdout",
     "output_type": "stream",
     "text": [
      "ImportExcel 7.6.0\r\n",
      "last update: 2022-07-04 15:38:15Z\r\n"
     ]
    }
   ],
   "source": [
    "Import-Module ImportExcel -ea stop -passthru | Join-String { $_.Name, $_.Version } -sep ', '  ; ('last update: {0}' -f @((get-date).tostring('u')))\n",
    "\n",
    "$Config = @{\n",
    "    ExportRoot = 'C:\\Temp\\ImportExcel'\n",
    "    EnableAutoOpenLast = $true\n",
    "}\n",
    "if( -not $Config.ExportRoot ) { \n",
    "    # mkdir -path $Config.ExportRoot  #-Confirm # can't actually input in notebooks?\n",
    "    $Config.ExportRoot = Gi -ea stop $Config.ExportRoot\n",
    "}\n",
    "# ls $Config.ExportRoot\n",
    "\n",
    "function relPath {\n",
    "    #sugar for relative filepaths\n",
    "    [CmdletBinding()]\n",
    "    param(\n",
    "        # Files, not folders\n",
    "        [Alias('Name', 'RelPath')]\n",
    "        [Parameter(Mandatory, Position=0)]$Path,\n",
    "\n",
    "        # Files, not folders\n",
    "        [Alias('Type')]\n",
    "        [ArgumentCompletions('Csv', 'xlsx', 'md', 'ps1')]\n",
    "        [Parameter(Position=1)]$Extension = 'xlsx'\n",
    "    )\n",
    "        if( -not $Config.ExportRoot ) { \n",
    "            write-error 'Missing Export Path in $Config.ExportRoot'\n",
    "            return\n",
    "            # do throws break the nteract kernel\n",
    "            # throw 'Missing Export Path in $Config.ExportRoot' #\n",
    "        }\n",
    "        $script:__nbState ??= @{ }\n",
    "        $sheetName = '{0}.{1}' -f @( $Path ; $Extension   )\n",
    "        $fInfo = [IO.FileInfo]::new( (Join-Path $Config.ExportRoot $sheetName ) )        \n",
    "        $script:__nbState.LastFile = $finfo\n",
    "        \n",
    "        $finfo | write-information\n",
    "        return $finfo\n",
    "}\n",
    "function openLast {\n",
    "    # Sugar for boilerpoint to minize code in cells\n",
    "    # Note: Export-Excel has param \"-Show\"\n",
    "    param()\n",
    "\n",
    "    $Path = gi -ea stop $script:__nbState.LastFile \n",
    "    \"Reading '$($Path.FullName)'...\"    \n",
    "    if(-not $Config.EnableAutoOpenLast) {write-error '$Config has auto-open disabled' ;return}\n",
    "    $Path | select -first 1 | ii \n",
    "}\n",
    "# relPath 'test' | % fullname\n"
   ]
  },
  {
   "cell_type": "markdown",
   "metadata": {},
   "source": [
    "example CSV templates\n",
    "```ps1\n",
    "'[person last], [person first], [color], [state]'\n",
    "'[person both], [address]'\n",
    "'[synonym word]'\n",
    "'[person both], [alpha], [numeric], [vowel]'\n",
    "'[person], [color], [state]'\n",
    "```"
   ]
  },
  {
   "cell_type": "code",
   "execution_count": null,
   "metadata": {
    "dotnet_interactive": {
     "language": "pwsh"
    },
    "vscode": {
     "languageId": "dotnet-interactive.pwsh"
    }
   },
   "outputs": [
    {
     "name": "stdout",
     "output_type": "stream",
     "text": [
      "NameIt = 2.3.2\r\n",
      "\"Name\",\"State\",\"Address\"\r\n",
      "\"Mila Zimmerman\",\"Alabama\",\"6531 Gotikgac Forest\"\r\n",
      "\"Chasity Hanna\",\"Wisconsin\",\"50196 Akyiwfoxum Stra\"\r\n",
      "\"Kathryn Woodard\",\"North Carolina\",\"3888 Ebsisaah Plain\"\r\n",
      "\"Ace Cochran\",\"Arkansas\",\"1703 Weajofqow Overpass\"\r\n",
      "\"Markus Pugh\",\"Hawaii\",\"1220 Soviv Crossroad\"\r\n",
      "\"Jordyn Proctor\",\"North Dakota\",\"3191 Johoqvejpe Passage\"\r\n",
      "\"Cale Acevedo\",\"Massachusetts\",\"9887 Petxixmux Points\"\r\n",
      "\"Drew Hernandez\",\"Arkansas\",\"2654 Iboyop Pl\"\r\n",
      "\"Isla Patel\",\"New Mexico\",\"66728 Xuwa Cor\"\r\n",
      "\"Mckayla Mcgrath\",\"Arizona\",\"410 Coqefud Ville\"\r\n",
      "wrote: C:\\Temp\\ImportExcel\\input_people.csv\r\n",
      "\u001b[93mVERBOSE: Performing the operation \"Remove File\" on target \"C:\\Temp\\ImportExcel\\input_people.xlsx\".\u001b[0m\r\n",
      "\r\n",
      "\u001b[32;1mSheet1           : \u001b[0mSheet1\r\n",
      "\u001b[32;1mPackage          : \u001b[0mOfficeOpenXml.Packaging.ZipPackage\r\n",
      "\u001b[32;1mEncryption       : \u001b[0mOfficeOpenXml.ExcelEncryption\r\n",
      "\u001b[32;1mWorkbook         : \u001b[0mOfficeOpenXml.ExcelWorkbook\r\n",
      "\u001b[32;1mDoAdjustDrawings : \u001b[0mTrue\r\n",
      "\u001b[32;1mFile             : \u001b[0mC:\\Temp\\ImportExcel\\input_people.xlsx\r\n",
      "\u001b[32;1mStream           : \u001b[0mSystem.IO.MemoryStream\r\n",
      "\u001b[32;1mCompression      : \u001b[0mLevel6\r\n",
      "\u001b[32;1mCompatibility    : \u001b[0mOfficeOpenXml.Compatibility.CompatibilitySettings\r\n",
      "\r\n",
      "wrote: C:\\Temp\\ImportExcel\\input_people.xlsx\r\n",
      "\r\n"
     ]
    }
   ],
   "source": [
    "Import-Module 'NameIt' -ea Stop -PassThru | Join-String { $_.Name, $_.Version -join ' = '}\n",
    "\n",
    "Invoke-Generate '[person],[state], [address]' -Count 10\n",
    "| ConvertFrom-Csv -Header 'Name', 'State', 'Address' \n",
    "| ConvertTo-Csv\n",
    "| Set-Content -path (relPath 'input_people' 'csv') -PassThru\n",
    "'wrote: {0}' -f @( (relPath 'input_people' 'csv')  )\n",
    "\n",
    "remove-item (relPath 'input_people' 'xlsx') -verbose\n",
    "Invoke-Generate '[person],[state], [address]' -Count 10\n",
    "| ConvertFrom-Csv -Header 'Name', 'State', 'Address' \n",
    "| Export-Excel -path (relPath 'input_people' 'xlsx') -PassThru\n",
    "'wrote: {0}' -f @( (relPath 'input_people' 'xlsx')  )"
   ]
  },
  {
   "cell_type": "code",
   "execution_count": null,
   "metadata": {
    "dotnet_interactive": {
     "language": "pwsh"
    },
    "vscode": {
     "languageId": "dotnet-interactive.pwsh"
    }
   },
   "outputs": [],
   "source": [
    "# empty file\n",
    "'' | Export-Excel -path (relPath 'EmptyHiWorld') -WorkSheetName 'HiWorld'\n",
    "# gi (relPath 'EmptyHiWorld') | ii \n"
   ]
  },
  {
   "cell_type": "markdown",
   "metadata": {},
   "source": []
  },
  {
   "cell_type": "markdown",
   "metadata": {},
   "source": [
    "<a href='#nb-top'>Go Top</a>\n",
    "- [Plot](https://github.com/dfinke/ImportExcel/blob/master/Examples/Charts/plot.ps1)"
   ]
  },
  {
   "cell_type": "code",
   "execution_count": null,
   "metadata": {
    "dotnet_interactive": {
     "language": "pwsh"
    },
    "vscode": {
     "languageId": "dotnet-interactive.pwsh"
    }
   },
   "outputs": [],
   "source": [
    "# 'this code is a Failed automatic conversion (as it it works, just raw text, not a table'\n",
    "# remove-item (relPath 'input_people' 'Xlsx')\n",
    "gc (relPath 'input_people' 'Csv')\n",
    "| ConvertFrom-Csv \n",
    "| Export-Excel -Path (relPath 'input_people' 'Xlsx') -Show -Title 'updated'"
   ]
  },
  {
   "cell_type": "markdown",
   "metadata": {},
   "source": [
    "<a href='#nb-top'>Go Top</a>\n",
    "<h4 id='nb-basic-read'>Reading</h4>\n"
   ]
  },
  {
   "cell_type": "code",
   "execution_count": null,
   "metadata": {
    "dotnet_interactive": {
     "language": "pwsh"
    },
    "vscode": {
     "languageId": "dotnet-interactive.pwsh"
    }
   },
   "outputs": [
    {
     "name": "stdout",
     "output_type": "stream",
     "text": [
      "\u001b[91mException: \u001b[0mC:\\Users\\cppmo_000\\SkyDrive\\Documents\\PowerShell\\Modules\\ImportExcel\\7.6.0\\Public\\Import-Excel.ps1:119\r\n",
      "\u001b[96mLine |\r\n",
      "\u001b[96m 119 | \u001b[0m                     \u001b[96mthrow \"'$($Path)' file not found\"\u001b[0m\r\n",
      "\u001b[96m     | \u001b[91m                     ~~~~~~~~~~~~~~~~~~~~~~~~~~~~~~~~~\r\n",
      "\u001b[91m\u001b[96m     | \u001b[91m'C:\\Temp\\ImportExcel\\input_people.xlsx' file not found\r\n",
      "\u001b[0m\r\n"
     ]
    }
   ],
   "source": [
    "$ExFile = Import-Excel (relPath 'input_people' 'xlsx') # -worksheetName 'raw data'"
   ]
  },
  {
   "cell_type": "markdown",
   "metadata": {},
   "source": [
    "<a href='#nb-top'>Go Top</a>"
   ]
  },
  {
   "cell_type": "markdown",
   "metadata": {},
   "source": [
    "<a href='#nb-top'>Go Top</a>"
   ]
  },
  {
   "cell_type": "markdown",
   "metadata": {},
   "source": [
    "<a href='#nb-top'>Go Top</a>"
   ]
  },
  {
   "cell_type": "markdown",
   "metadata": {},
   "source": [
    "<a href='#nb-top'>Go Top</a>"
   ]
  },
  {
   "cell_type": "markdown",
   "metadata": {},
   "source": [
    "<a href='#nb-top'>Go Top</a>"
   ]
  },
  {
   "cell_type": "markdown",
   "metadata": {},
   "source": [
    "<a href='#nb-top'>Go Top</a><h4 id='part3'>Stuff</h3>"
   ]
  }
 ],
 "metadata": {
  "kernelspec": {
   "display_name": ".NET (PowerShell)",
   "language": "PowerShell",
   "name": ".net-pwsh"
  },
  "language_info": {
   "name": "PowerShell"
  }
 },
 "nbformat": 4,
 "nbformat_minor": 2
}
